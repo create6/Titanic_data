{
 "cells": [
  {
   "cell_type": "code",
   "execution_count": 6,
   "metadata": {},
   "outputs": [
    {
     "data": {
      "text/plain": [
       "array([0, 1, 1, 1])"
      ]
     },
     "execution_count": 6,
     "metadata": {},
     "output_type": "execute_result"
    }
   ],
   "source": [
    "# 1. 导入包\n",
    "from sklearn.neighbors import KNeighborsClassifier\n",
    "\n",
    "# 2. 加载数据(准备数据)\n",
    "# 特征值\n",
    "x = [[0],[1], [2], [3]]\n",
    "# 目标值\n",
    "y = [0, 0, 1, 1]\n",
    "\n",
    "# 3. 机器学习(模型训练)\n",
    "# 实例化评估器\n",
    "estimator = KNeighborsClassifier(n_neighbors=3)\n",
    "# 模型训练\n",
    "estimator.fit(x, y)\n",
    "\n",
    "# 4. 预测\n",
    "estimator.predict([ [1], [2], [3], [4]])\n",
    "\n"
   ]
  },
  {
   "cell_type": "code",
   "execution_count": null,
   "metadata": {},
   "outputs": [],
   "source": []
  }
 ],
 "metadata": {
  "kernelspec": {
   "display_name": "Python 3",
   "language": "python",
   "name": "python3"
  },
  "language_info": {
   "codemirror_mode": {
    "name": "ipython",
    "version": 3
   },
   "file_extension": ".py",
   "mimetype": "text/x-python",
   "name": "python",
   "nbconvert_exporter": "python",
   "pygments_lexer": "ipython3",
   "version": "3.7.1"
  },
  "toc": {
   "base_numbering": 1,
   "nav_menu": {},
   "number_sections": true,
   "sideBar": true,
   "skip_h1_title": false,
   "title_cell": "Table of Contents",
   "title_sidebar": "Contents",
   "toc_cell": false,
   "toc_position": {},
   "toc_section_display": true,
   "toc_window_display": false
  }
 },
 "nbformat": 4,
 "nbformat_minor": 2
}
