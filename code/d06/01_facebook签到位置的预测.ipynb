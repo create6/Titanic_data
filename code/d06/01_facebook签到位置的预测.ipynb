{
 "cells": [
  {
   "cell_type": "code",
   "execution_count": 1,
   "metadata": {},
   "outputs": [],
   "source": [
    "# - 加载数据集\n",
    "# - 数据的基本处理\n",
    "#   - 缩小数据规模\n",
    "#   - 选择有效的时间特征\n",
    "#   - 去掉签到位置少的地方\n",
    "#   - 确定特征值和目标值\n",
    "#   - 分割数据集\n",
    "# - 特征工程(特征预处理-标准化)\n",
    "# - 机器学习(模型训练) KNN + GridSearchCV\n",
    "# - 模型评估\n",
    "import pandas as pd\n",
    "from sklearn.model_selection import train_test_split, GridSearchCV\n",
    "from sklearn.preprocessing import StandardScaler\n",
    "from sklearn.neighbors import KNeighborsClassifier\n"
   ]
  },
  {
   "cell_type": "code",
   "execution_count": 2,
   "metadata": {},
   "outputs": [],
   "source": [
    "# - 加载数据集\n",
    "data = pd.read_csv('./data/FBlocation/train.csv')"
   ]
  },
  {
   "cell_type": "code",
   "execution_count": 12,
   "metadata": {},
   "outputs": [
    {
     "name": "stderr",
     "output_type": "stream",
     "text": [
      "/Users/itheima/Envs/ai/lib/python3.7/site-packages/ipykernel_launcher.py:10: SettingWithCopyWarning: \n",
      "A value is trying to be set on a copy of a slice from a DataFrame.\n",
      "Try using .loc[row_indexer,col_indexer] = value instead\n",
      "\n",
      "See the caveats in the documentation: http://pandas.pydata.org/pandas-docs/stable/indexing.html#indexing-view-versus-copy\n",
      "  # Remove the CWD from sys.path while we load stuff.\n",
      "/Users/itheima/Envs/ai/lib/python3.7/site-packages/ipykernel_launcher.py:11: SettingWithCopyWarning: \n",
      "A value is trying to be set on a copy of a slice from a DataFrame.\n",
      "Try using .loc[row_indexer,col_indexer] = value instead\n",
      "\n",
      "See the caveats in the documentation: http://pandas.pydata.org/pandas-docs/stable/indexing.html#indexing-view-versus-copy\n",
      "  # This is added back by InteractiveShellApp.init_path()\n",
      "/Users/itheima/Envs/ai/lib/python3.7/site-packages/ipykernel_launcher.py:12: SettingWithCopyWarning: \n",
      "A value is trying to be set on a copy of a slice from a DataFrame.\n",
      "Try using .loc[row_indexer,col_indexer] = value instead\n",
      "\n",
      "See the caveats in the documentation: http://pandas.pydata.org/pandas-docs/stable/indexing.html#indexing-view-versus-copy\n",
      "  if sys.path[0] == '':\n"
     ]
    }
   ],
   "source": [
    "# - 数据的基本处理\n",
    "#   - 缩小数据规模\n",
    "facebook_data = data.query('x>2.0 & x<2.5 & y>2.0 & y<2.5')\n",
    "#   - 选择有效的时间特征\n",
    "# 1. 把单位为s时间转换为date_time\n",
    "date_time = pd.to_datetime(facebook_data['time'], unit='s')\n",
    "# 2. 把date_time转换为DatetimeIndex\n",
    "date_time = pd.DatetimeIndex(date_time)\n",
    "# 3. 添加时间特征的列: 天, 周, 小时\n",
    "facebook_data['day'] = date_time.day\n",
    "facebook_data['weekday'] = date_time.weekday\n",
    "facebook_data['hour'] = date_time.hour\n",
    "#   - 去掉签到位置少的地方\n",
    "# facebook_data\n",
    "# 1. 统计每一个位置签到数量\n",
    "place_counts = facebook_data.groupby('place_id').count()\n",
    "# 2. 选择签到位置大于3的地方\n",
    "place_counts = place_counts[place_counts['row_id']>3]\n",
    "# 3. 从数据中 去取 签到位置大于3的\n",
    "facebook_data = facebook_data[facebook_data['place_id'].isin(place_counts.index)]\n",
    "# facebook_data\n",
    "#   - 确定特征值和目标值\n",
    "x = facebook_data[['x', 'y', 'accuracy', 'day', 'weekday', 'hour']]\n",
    "y = facebook_data['place_id']\n",
    "\n",
    "#   - 分割数据集\n",
    "x_train, x_test, y_train, y_test = train_test_split(x, y, test_size=0.3, random_state=8)"
   ]
  },
  {
   "cell_type": "code",
   "execution_count": 19,
   "metadata": {
    "scrolled": true
   },
   "outputs": [
    {
     "name": "stderr",
     "output_type": "stream",
     "text": [
      "/Users/itheima/Envs/ai/lib/python3.7/site-packages/sklearn/preprocessing/data.py:625: DataConversionWarning: Data with input dtype int64, float64 were all converted to float64 by StandardScaler.\n",
      "  return self.partial_fit(X, y)\n",
      "/Users/itheima/Envs/ai/lib/python3.7/site-packages/sklearn/base.py:462: DataConversionWarning: Data with input dtype int64, float64 were all converted to float64 by StandardScaler.\n",
      "  return self.fit(X, **fit_params).transform(X)\n",
      "/Users/itheima/Envs/ai/lib/python3.7/site-packages/ipykernel_launcher.py:8: DataConversionWarning: Data with input dtype int64, float64 were all converted to float64 by StandardScaler.\n",
      "  \n"
     ]
    }
   ],
   "source": [
    "# x_train\n",
    "# x_test\n",
    "# y_train\n",
    "# y_test\n",
    "# - 特征工程(特征预处理-标准化)\n",
    "transfer = StandardScaler()\n",
    "x_train = transfer.fit_transform(x_train)\n",
    "x_test = transfer.transform(x_test)"
   ]
  },
  {
   "cell_type": "code",
   "execution_count": 20,
   "metadata": {},
   "outputs": [
    {
     "name": "stderr",
     "output_type": "stream",
     "text": [
      "/Users/itheima/Envs/ai/lib/python3.7/site-packages/sklearn/model_selection/_split.py:652: Warning: The least populated class in y has only 1 members, which is too few. The minimum number of members in any class cannot be less than n_splits=5.\n",
      "  % (min_groups, self.n_splits)), Warning)\n"
     ]
    },
    {
     "data": {
      "text/plain": [
       "GridSearchCV(cv=5, error_score='raise-deprecating',\n",
       "       estimator=KNeighborsClassifier(algorithm='auto', leaf_size=30, metric='minkowski',\n",
       "           metric_params=None, n_jobs=None, n_neighbors=5, p=2,\n",
       "           weights='uniform'),\n",
       "       fit_params=None, iid='warn', n_jobs=None,\n",
       "       param_grid={'n_neighbors': [3, 5, 7, 9, 11]},\n",
       "       pre_dispatch='2*n_jobs', refit=True, return_train_score='warn',\n",
       "       scoring=None, verbose=0)"
      ]
     },
     "execution_count": 20,
     "metadata": {},
     "output_type": "execute_result"
    }
   ],
   "source": [
    "# - 机器学习(模型训练) KNN + GridSearchCV\n",
    "estimator = KNeighborsClassifier()\n",
    "param_grid = {'n_neighbors': [3, 5, 7, 9, 11]}\n",
    "estimator = GridSearchCV(estimator, param_grid=param_grid, cv=5)\n",
    "# 模型训练\n",
    "estimator.fit(x_train, y_train)"
   ]
  },
  {
   "cell_type": "code",
   "execution_count": 23,
   "metadata": {},
   "outputs": [
    {
     "name": "stdout",
     "output_type": "stream",
     "text": [
      "准确率 0.36077959576515883\n",
      "交叉最好的分数 0.3537868162692847\n",
      "交叉验证最好模型 KNeighborsClassifier(algorithm='auto', leaf_size=30, metric='minkowski',\n",
      "           metric_params=None, n_jobs=None, n_neighbors=5, p=2,\n",
      "           weights='uniform')\n",
      "交叉验证的结果 {'mean_fit_time': array([0.03345513, 0.032127  , 0.03146172, 0.03155689, 0.02996039]), 'std_fit_time': array([0.00116905, 0.00225912, 0.00091653, 0.00170547, 0.00061373]), 'mean_score_time': array([0.34341044, 0.39604506, 0.44030552, 0.48912234, 0.52861471]), 'std_score_time': array([0.01029373, 0.01648934, 0.01115806, 0.01483379, 0.00949124]), 'param_n_neighbors': masked_array(data=[3, 5, 7, 9, 11],\n",
      "             mask=[False, False, False, False, False],\n",
      "       fill_value='?',\n",
      "            dtype=object), 'params': [{'n_neighbors': 3}, {'n_neighbors': 5}, {'n_neighbors': 7}, {'n_neighbors': 9}, {'n_neighbors': 11}], 'split0_test_score': array([0.33038289, 0.34281452, 0.33843859, 0.33814023, 0.3339632 ]), 'split1_test_score': array([0.33848954, 0.34880194, 0.34607219, 0.34121929, 0.33586088]), 'split2_test_score': array([0.33888717, 0.35236038, 0.35277178, 0.34464671, 0.34207549]), 'split3_test_score': array([0.34521556, 0.3617245 , 0.36014721, 0.35047319, 0.34784437]), 'split4_test_score': array([0.35196131, 0.36432026, 0.36120365, 0.35314347, 0.35153143]), 'mean_test_score': array([0.34079284, 0.35378682, 0.3514974 , 0.34537167, 0.34207161]), 'std_test_score': array([0.00721528, 0.00800611, 0.00862862, 0.00558255, 0.00672422]), 'rank_test_score': array([5, 1, 2, 3, 4], dtype=int32), 'split0_train_score': array([0.6073278 , 0.54130995, 0.50605012, 0.47461552, 0.45244477]), 'split1_train_score': array([0.60575752, 0.53820641, 0.49962428, 0.47257275, 0.4514031 ]), 'split2_train_score': array([0.60805965, 0.53896958, 0.50179304, 0.47186605, 0.45102036]), 'split3_train_score': array([0.60368451, 0.53692205, 0.50115462, 0.47128855, 0.44940217]), 'split4_train_score': array([0.60348656, 0.53602695, 0.4980219 , 0.46846525, 0.44827586]), 'mean_train_score': array([0.60566321, 0.53828699, 0.50132879, 0.47176162, 0.45050925]), 'std_train_score': array([0.00185341, 0.00182107, 0.00269732, 0.00199517, 0.00148459])}\n"
     ]
    }
   ],
   "source": [
    "# - 模型评估\n",
    "y_pre = estimator.predict(x_test)\n",
    "# print(y_pre == y_test)\n",
    "# 计算准确率\n",
    "score = estimator.score(x_test, y_test)\n",
    "print('准确率', score)\n",
    "\n",
    "# 网格搜索交叉验证的结果\n",
    "print('交叉最好的分数', estimator.best_score_)\n",
    "print('交叉验证最好模型', estimator.best_estimator_)\n",
    "print('交叉验证的结果', estimator.cv_results_)\n"
   ]
  },
  {
   "cell_type": "code",
   "execution_count": null,
   "metadata": {},
   "outputs": [],
   "source": [
    "# - 加载数据集\n",
    "# - 数据的基本处理\n",
    "#   - 缩小数据规模\n",
    "#   - 选择有效的时间特征\n",
    "#   - 去掉签到位置少的地方\n",
    "#   - 确定特征值和目标值\n",
    "#   - 分割数据集\n",
    "# - 特征工程(特征预处理-标准化)\n",
    "# - 机器学习(模型训练) KNN + GridSearchCV\n",
    "# - 模型评估"
   ]
  },
  {
   "cell_type": "code",
   "execution_count": null,
   "metadata": {},
   "outputs": [],
   "source": []
  }
 ],
 "metadata": {
  "kernelspec": {
   "display_name": "Python 3",
   "language": "python",
   "name": "python3"
  },
  "language_info": {
   "codemirror_mode": {
    "name": "ipython",
    "version": 3
   },
   "file_extension": ".py",
   "mimetype": "text/x-python",
   "name": "python",
   "nbconvert_exporter": "python",
   "pygments_lexer": "ipython3",
   "version": "3.7.1"
  },
  "toc": {
   "base_numbering": 1,
   "nav_menu": {},
   "number_sections": true,
   "sideBar": true,
   "skip_h1_title": false,
   "title_cell": "Table of Contents",
   "title_sidebar": "Contents",
   "toc_cell": false,
   "toc_position": {},
   "toc_section_display": true,
   "toc_window_display": false
  }
 },
 "nbformat": 4,
 "nbformat_minor": 2
}
