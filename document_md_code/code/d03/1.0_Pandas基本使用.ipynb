{
 "cells": [
  {
   "cell_type": "code",
   "execution_count": 2,
   "metadata": {},
   "outputs": [],
   "source": [
    "import pandas as pd\n",
    "import numpy as np\n"
   ]
  },
  {
   "cell_type": "markdown",
   "metadata": {},
   "source": [
    "# 创建DataFrame, 添加行索引和列索引"
   ]
  },
  {
   "cell_type": "code",
   "execution_count": 9,
   "metadata": {},
   "outputs": [
    {
     "data": {
      "text/html": [
       "<div>\n",
       "<style scoped>\n",
       "    .dataframe tbody tr th:only-of-type {\n",
       "        vertical-align: middle;\n",
       "    }\n",
       "\n",
       "    .dataframe tbody tr th {\n",
       "        vertical-align: top;\n",
       "    }\n",
       "\n",
       "    .dataframe thead th {\n",
       "        text-align: right;\n",
       "    }\n",
       "</style>\n",
       "<table border=\"1\" class=\"dataframe\">\n",
       "  <thead>\n",
       "    <tr style=\"text-align: right;\">\n",
       "      <th></th>\n",
       "      <th>2019-08-01 00:00:00</th>\n",
       "      <th>2019-08-02 00:00:00</th>\n",
       "      <th>2019-08-05 00:00:00</th>\n",
       "      <th>2019-08-06 00:00:00</th>\n",
       "      <th>2019-08-07 00:00:00</th>\n",
       "    </tr>\n",
       "  </thead>\n",
       "  <tbody>\n",
       "    <tr>\n",
       "      <th>股票0</th>\n",
       "      <td>0.582559</td>\n",
       "      <td>2.242857</td>\n",
       "      <td>-0.658943</td>\n",
       "      <td>0.874119</td>\n",
       "      <td>-0.832245</td>\n",
       "    </tr>\n",
       "    <tr>\n",
       "      <th>股票1</th>\n",
       "      <td>-1.342501</td>\n",
       "      <td>-0.436105</td>\n",
       "      <td>-0.810359</td>\n",
       "      <td>-0.319410</td>\n",
       "      <td>0.182380</td>\n",
       "    </tr>\n",
       "    <tr>\n",
       "      <th>股票2</th>\n",
       "      <td>0.647812</td>\n",
       "      <td>0.725662</td>\n",
       "      <td>-0.632794</td>\n",
       "      <td>-0.554585</td>\n",
       "      <td>0.992424</td>\n",
       "    </tr>\n",
       "    <tr>\n",
       "      <th>股票3</th>\n",
       "      <td>-0.413694</td>\n",
       "      <td>-1.024176</td>\n",
       "      <td>0.465675</td>\n",
       "      <td>-0.485614</td>\n",
       "      <td>0.638937</td>\n",
       "    </tr>\n",
       "    <tr>\n",
       "      <th>股票4</th>\n",
       "      <td>-0.486035</td>\n",
       "      <td>3.511450</td>\n",
       "      <td>-0.884686</td>\n",
       "      <td>-0.101618</td>\n",
       "      <td>-0.396877</td>\n",
       "    </tr>\n",
       "    <tr>\n",
       "      <th>股票5</th>\n",
       "      <td>0.287437</td>\n",
       "      <td>0.240086</td>\n",
       "      <td>0.849756</td>\n",
       "      <td>1.473140</td>\n",
       "      <td>0.251936</td>\n",
       "    </tr>\n",
       "    <tr>\n",
       "      <th>股票6</th>\n",
       "      <td>0.545136</td>\n",
       "      <td>-0.474349</td>\n",
       "      <td>0.080948</td>\n",
       "      <td>1.630369</td>\n",
       "      <td>1.770921</td>\n",
       "    </tr>\n",
       "    <tr>\n",
       "      <th>股票7</th>\n",
       "      <td>0.874320</td>\n",
       "      <td>-0.635412</td>\n",
       "      <td>0.368132</td>\n",
       "      <td>1.679003</td>\n",
       "      <td>-1.527700</td>\n",
       "    </tr>\n",
       "    <tr>\n",
       "      <th>股票8</th>\n",
       "      <td>1.730762</td>\n",
       "      <td>-1.601070</td>\n",
       "      <td>0.950296</td>\n",
       "      <td>-0.311203</td>\n",
       "      <td>0.075283</td>\n",
       "    </tr>\n",
       "    <tr>\n",
       "      <th>股票9</th>\n",
       "      <td>-0.192693</td>\n",
       "      <td>-1.024737</td>\n",
       "      <td>0.557583</td>\n",
       "      <td>0.225073</td>\n",
       "      <td>0.222499</td>\n",
       "    </tr>\n",
       "  </tbody>\n",
       "</table>\n",
       "</div>"
      ],
      "text/plain": [
       "     2019-08-01  2019-08-02  2019-08-05  2019-08-06  2019-08-07\n",
       "股票0    0.582559    2.242857   -0.658943    0.874119   -0.832245\n",
       "股票1   -1.342501   -0.436105   -0.810359   -0.319410    0.182380\n",
       "股票2    0.647812    0.725662   -0.632794   -0.554585    0.992424\n",
       "股票3   -0.413694   -1.024176    0.465675   -0.485614    0.638937\n",
       "股票4   -0.486035    3.511450   -0.884686   -0.101618   -0.396877\n",
       "股票5    0.287437    0.240086    0.849756    1.473140    0.251936\n",
       "股票6    0.545136   -0.474349    0.080948    1.630369    1.770921\n",
       "股票7    0.874320   -0.635412    0.368132    1.679003   -1.527700\n",
       "股票8    1.730762   -1.601070    0.950296   -0.311203    0.075283\n",
       "股票9   -0.192693   -1.024737    0.557583    0.225073    0.222499"
      ]
     },
     "execution_count": 9,
     "metadata": {},
     "output_type": "execute_result"
    }
   ],
   "source": [
    "# 1. 生成10只股票5天的涨跌幅(符合标准正态分布的)\n",
    "stock_change = np.random.normal(0, 1, (10, 5))\n",
    "# stock_change\n",
    "# 生成行索引\n",
    "index = ['股票{}'.format(i) for i in range(stock_change.shape[0])]\n",
    "# 生成列索引\n",
    "date = pd.date_range(start='2019-08-01', periods=stock_change.shape[1], freq='B')\n",
    "# date\n",
    "# index\n",
    "# 2. 使用数据创键DataFrame\n",
    "df = pd.DataFrame(stock_change, index=index, columns=date)\n",
    "df"
   ]
  },
  {
   "cell_type": "code",
   "execution_count": 10,
   "metadata": {},
   "outputs": [
    {
     "data": {
      "text/plain": [
       "Index(['股票0', '股票1', '股票2', '股票3', '股票4', '股票5', '股票6', '股票7', '股票8', '股票9'], dtype='object')"
      ]
     },
     "execution_count": 10,
     "metadata": {},
     "output_type": "execute_result"
    }
   ],
   "source": [
    "# 行索引\n",
    "df.index"
   ]
  },
  {
   "cell_type": "code",
   "execution_count": 11,
   "metadata": {},
   "outputs": [
    {
     "data": {
      "text/plain": [
       "DatetimeIndex(['2019-08-01', '2019-08-02', '2019-08-05', '2019-08-06',\n",
       "               '2019-08-07'],\n",
       "              dtype='datetime64[ns]', freq='B')"
      ]
     },
     "execution_count": 11,
     "metadata": {},
     "output_type": "execute_result"
    }
   ],
   "source": [
    "# 列索引\n",
    "df.columns"
   ]
  },
  {
   "cell_type": "code",
   "execution_count": 12,
   "metadata": {},
   "outputs": [
    {
     "data": {
      "text/plain": [
       "array([[ 0.58255927,  2.2428566 , -0.65894286,  0.8741192 , -0.83224476],\n",
       "       [-1.34250067, -0.43610549, -0.8103592 , -0.31940961,  0.18238045],\n",
       "       [ 0.64781198,  0.72566207, -0.63279361, -0.55458484,  0.99242395],\n",
       "       [-0.41369363, -1.02417562,  0.46567473, -0.48561367,  0.6389369 ],\n",
       "       [-0.48603505,  3.51145045, -0.88468566, -0.10161814, -0.39687666],\n",
       "       [ 0.28743687,  0.24008635,  0.84975576,  1.47313952,  0.25193573],\n",
       "       [ 0.54513626, -0.47434867,  0.08094818,  1.63036916,  1.77092142],\n",
       "       [ 0.87431972, -0.63541179,  0.36813247,  1.6790033 , -1.52770021],\n",
       "       [ 1.73076226, -1.60106993,  0.95029612, -0.31120284,  0.07528309],\n",
       "       [-0.19269271, -1.02473664,  0.55758348,  0.22507302,  0.22249909]])"
      ]
     },
     "execution_count": 12,
     "metadata": {},
     "output_type": "execute_result"
    }
   ],
   "source": [
    "# 值(数据)\n",
    "df.values\n"
   ]
  },
  {
   "cell_type": "code",
   "execution_count": 13,
   "metadata": {},
   "outputs": [
    {
     "data": {
      "text/html": [
       "<div>\n",
       "<style scoped>\n",
       "    .dataframe tbody tr th:only-of-type {\n",
       "        vertical-align: middle;\n",
       "    }\n",
       "\n",
       "    .dataframe tbody tr th {\n",
       "        vertical-align: top;\n",
       "    }\n",
       "\n",
       "    .dataframe thead th {\n",
       "        text-align: right;\n",
       "    }\n",
       "</style>\n",
       "<table border=\"1\" class=\"dataframe\">\n",
       "  <thead>\n",
       "    <tr style=\"text-align: right;\">\n",
       "      <th></th>\n",
       "      <th>股票0</th>\n",
       "      <th>股票1</th>\n",
       "      <th>股票2</th>\n",
       "      <th>股票3</th>\n",
       "      <th>股票4</th>\n",
       "      <th>股票5</th>\n",
       "      <th>股票6</th>\n",
       "      <th>股票7</th>\n",
       "      <th>股票8</th>\n",
       "      <th>股票9</th>\n",
       "    </tr>\n",
       "  </thead>\n",
       "  <tbody>\n",
       "    <tr>\n",
       "      <th>2019-08-01</th>\n",
       "      <td>0.582559</td>\n",
       "      <td>-1.342501</td>\n",
       "      <td>0.647812</td>\n",
       "      <td>-0.413694</td>\n",
       "      <td>-0.486035</td>\n",
       "      <td>0.287437</td>\n",
       "      <td>0.545136</td>\n",
       "      <td>0.874320</td>\n",
       "      <td>1.730762</td>\n",
       "      <td>-0.192693</td>\n",
       "    </tr>\n",
       "    <tr>\n",
       "      <th>2019-08-02</th>\n",
       "      <td>2.242857</td>\n",
       "      <td>-0.436105</td>\n",
       "      <td>0.725662</td>\n",
       "      <td>-1.024176</td>\n",
       "      <td>3.511450</td>\n",
       "      <td>0.240086</td>\n",
       "      <td>-0.474349</td>\n",
       "      <td>-0.635412</td>\n",
       "      <td>-1.601070</td>\n",
       "      <td>-1.024737</td>\n",
       "    </tr>\n",
       "    <tr>\n",
       "      <th>2019-08-05</th>\n",
       "      <td>-0.658943</td>\n",
       "      <td>-0.810359</td>\n",
       "      <td>-0.632794</td>\n",
       "      <td>0.465675</td>\n",
       "      <td>-0.884686</td>\n",
       "      <td>0.849756</td>\n",
       "      <td>0.080948</td>\n",
       "      <td>0.368132</td>\n",
       "      <td>0.950296</td>\n",
       "      <td>0.557583</td>\n",
       "    </tr>\n",
       "    <tr>\n",
       "      <th>2019-08-06</th>\n",
       "      <td>0.874119</td>\n",
       "      <td>-0.319410</td>\n",
       "      <td>-0.554585</td>\n",
       "      <td>-0.485614</td>\n",
       "      <td>-0.101618</td>\n",
       "      <td>1.473140</td>\n",
       "      <td>1.630369</td>\n",
       "      <td>1.679003</td>\n",
       "      <td>-0.311203</td>\n",
       "      <td>0.225073</td>\n",
       "    </tr>\n",
       "    <tr>\n",
       "      <th>2019-08-07</th>\n",
       "      <td>-0.832245</td>\n",
       "      <td>0.182380</td>\n",
       "      <td>0.992424</td>\n",
       "      <td>0.638937</td>\n",
       "      <td>-0.396877</td>\n",
       "      <td>0.251936</td>\n",
       "      <td>1.770921</td>\n",
       "      <td>-1.527700</td>\n",
       "      <td>0.075283</td>\n",
       "      <td>0.222499</td>\n",
       "    </tr>\n",
       "  </tbody>\n",
       "</table>\n",
       "</div>"
      ],
      "text/plain": [
       "                 股票0       股票1       股票2       股票3       股票4       股票5  \\\n",
       "2019-08-01  0.582559 -1.342501  0.647812 -0.413694 -0.486035  0.287437   \n",
       "2019-08-02  2.242857 -0.436105  0.725662 -1.024176  3.511450  0.240086   \n",
       "2019-08-05 -0.658943 -0.810359 -0.632794  0.465675 -0.884686  0.849756   \n",
       "2019-08-06  0.874119 -0.319410 -0.554585 -0.485614 -0.101618  1.473140   \n",
       "2019-08-07 -0.832245  0.182380  0.992424  0.638937 -0.396877  0.251936   \n",
       "\n",
       "                 股票6       股票7       股票8       股票9  \n",
       "2019-08-01  0.545136  0.874320  1.730762 -0.192693  \n",
       "2019-08-02 -0.474349 -0.635412 -1.601070 -1.024737  \n",
       "2019-08-05  0.080948  0.368132  0.950296  0.557583  \n",
       "2019-08-06  1.630369  1.679003 -0.311203  0.225073  \n",
       "2019-08-07  1.770921 -1.527700  0.075283  0.222499  "
      ]
     },
     "execution_count": 13,
     "metadata": {},
     "output_type": "execute_result"
    }
   ],
   "source": [
    "# 转置: 行列互换\n",
    "df.T"
   ]
  },
  {
   "cell_type": "code",
   "execution_count": 17,
   "metadata": {},
   "outputs": [
    {
     "data": {
      "text/html": [
       "<div>\n",
       "<style scoped>\n",
       "    .dataframe tbody tr th:only-of-type {\n",
       "        vertical-align: middle;\n",
       "    }\n",
       "\n",
       "    .dataframe tbody tr th {\n",
       "        vertical-align: top;\n",
       "    }\n",
       "\n",
       "    .dataframe thead th {\n",
       "        text-align: right;\n",
       "    }\n",
       "</style>\n",
       "<table border=\"1\" class=\"dataframe\">\n",
       "  <thead>\n",
       "    <tr style=\"text-align: right;\">\n",
       "      <th></th>\n",
       "      <th>2019-08-01 00:00:00</th>\n",
       "      <th>2019-08-02 00:00:00</th>\n",
       "      <th>2019-08-05 00:00:00</th>\n",
       "      <th>2019-08-06 00:00:00</th>\n",
       "      <th>2019-08-07 00:00:00</th>\n",
       "    </tr>\n",
       "  </thead>\n",
       "  <tbody>\n",
       "    <tr>\n",
       "      <th>股票0</th>\n",
       "      <td>0.582559</td>\n",
       "      <td>2.242857</td>\n",
       "      <td>-0.658943</td>\n",
       "      <td>0.874119</td>\n",
       "      <td>-0.832245</td>\n",
       "    </tr>\n",
       "    <tr>\n",
       "      <th>股票1</th>\n",
       "      <td>-1.342501</td>\n",
       "      <td>-0.436105</td>\n",
       "      <td>-0.810359</td>\n",
       "      <td>-0.319410</td>\n",
       "      <td>0.182380</td>\n",
       "    </tr>\n",
       "  </tbody>\n",
       "</table>\n",
       "</div>"
      ],
      "text/plain": [
       "     2019-08-01  2019-08-02  2019-08-05  2019-08-06  2019-08-07\n",
       "股票0    0.582559    2.242857   -0.658943    0.874119   -0.832245\n",
       "股票1   -1.342501   -0.436105   -0.810359   -0.319410    0.182380"
      ]
     },
     "execution_count": 17,
     "metadata": {},
     "output_type": "execute_result"
    }
   ],
   "source": [
    "# 获取前几条数据, 默认5\n",
    "df.head(2)"
   ]
  },
  {
   "cell_type": "code",
   "execution_count": 20,
   "metadata": {},
   "outputs": [
    {
     "data": {
      "text/html": [
       "<div>\n",
       "<style scoped>\n",
       "    .dataframe tbody tr th:only-of-type {\n",
       "        vertical-align: middle;\n",
       "    }\n",
       "\n",
       "    .dataframe tbody tr th {\n",
       "        vertical-align: top;\n",
       "    }\n",
       "\n",
       "    .dataframe thead th {\n",
       "        text-align: right;\n",
       "    }\n",
       "</style>\n",
       "<table border=\"1\" class=\"dataframe\">\n",
       "  <thead>\n",
       "    <tr style=\"text-align: right;\">\n",
       "      <th></th>\n",
       "      <th>2019-08-01 00:00:00</th>\n",
       "      <th>2019-08-02 00:00:00</th>\n",
       "      <th>2019-08-05 00:00:00</th>\n",
       "      <th>2019-08-06 00:00:00</th>\n",
       "      <th>2019-08-07 00:00:00</th>\n",
       "    </tr>\n",
       "  </thead>\n",
       "  <tbody>\n",
       "    <tr>\n",
       "      <th>股票5</th>\n",
       "      <td>0.287437</td>\n",
       "      <td>0.240086</td>\n",
       "      <td>0.849756</td>\n",
       "      <td>1.473140</td>\n",
       "      <td>0.251936</td>\n",
       "    </tr>\n",
       "    <tr>\n",
       "      <th>股票6</th>\n",
       "      <td>0.545136</td>\n",
       "      <td>-0.474349</td>\n",
       "      <td>0.080948</td>\n",
       "      <td>1.630369</td>\n",
       "      <td>1.770921</td>\n",
       "    </tr>\n",
       "    <tr>\n",
       "      <th>股票7</th>\n",
       "      <td>0.874320</td>\n",
       "      <td>-0.635412</td>\n",
       "      <td>0.368132</td>\n",
       "      <td>1.679003</td>\n",
       "      <td>-1.527700</td>\n",
       "    </tr>\n",
       "    <tr>\n",
       "      <th>股票8</th>\n",
       "      <td>1.730762</td>\n",
       "      <td>-1.601070</td>\n",
       "      <td>0.950296</td>\n",
       "      <td>-0.311203</td>\n",
       "      <td>0.075283</td>\n",
       "    </tr>\n",
       "    <tr>\n",
       "      <th>股票9</th>\n",
       "      <td>-0.192693</td>\n",
       "      <td>-1.024737</td>\n",
       "      <td>0.557583</td>\n",
       "      <td>0.225073</td>\n",
       "      <td>0.222499</td>\n",
       "    </tr>\n",
       "  </tbody>\n",
       "</table>\n",
       "</div>"
      ],
      "text/plain": [
       "     2019-08-01  2019-08-02  2019-08-05  2019-08-06  2019-08-07\n",
       "股票5    0.287437    0.240086    0.849756    1.473140    0.251936\n",
       "股票6    0.545136   -0.474349    0.080948    1.630369    1.770921\n",
       "股票7    0.874320   -0.635412    0.368132    1.679003   -1.527700\n",
       "股票8    1.730762   -1.601070    0.950296   -0.311203    0.075283\n",
       "股票9   -0.192693   -1.024737    0.557583    0.225073    0.222499"
      ]
     },
     "execution_count": 20,
     "metadata": {},
     "output_type": "execute_result"
    }
   ],
   "source": [
    "# 获取后几条数据, 默认5\n",
    "df.tail()"
   ]
  },
  {
   "cell_type": "markdown",
   "metadata": {},
   "source": [
    "# 操作索引"
   ]
  },
  {
   "cell_type": "markdown",
   "metadata": {},
   "source": [
    "## 设置索引"
   ]
  },
  {
   "cell_type": "code",
   "execution_count": 22,
   "metadata": {},
   "outputs": [
    {
     "data": {
      "text/html": [
       "<div>\n",
       "<style scoped>\n",
       "    .dataframe tbody tr th:only-of-type {\n",
       "        vertical-align: middle;\n",
       "    }\n",
       "\n",
       "    .dataframe tbody tr th {\n",
       "        vertical-align: top;\n",
       "    }\n",
       "\n",
       "    .dataframe thead th {\n",
       "        text-align: right;\n",
       "    }\n",
       "</style>\n",
       "<table border=\"1\" class=\"dataframe\">\n",
       "  <thead>\n",
       "    <tr style=\"text-align: right;\">\n",
       "      <th></th>\n",
       "      <th>2019-08-01 00:00:00</th>\n",
       "      <th>2019-08-02 00:00:00</th>\n",
       "      <th>2019-08-05 00:00:00</th>\n",
       "      <th>2019-08-06 00:00:00</th>\n",
       "      <th>2019-08-07 00:00:00</th>\n",
       "    </tr>\n",
       "  </thead>\n",
       "  <tbody>\n",
       "    <tr>\n",
       "      <th>股票_0</th>\n",
       "      <td>0.582559</td>\n",
       "      <td>2.242857</td>\n",
       "      <td>-0.658943</td>\n",
       "      <td>0.874119</td>\n",
       "      <td>-0.832245</td>\n",
       "    </tr>\n",
       "    <tr>\n",
       "      <th>股票_1</th>\n",
       "      <td>-1.342501</td>\n",
       "      <td>-0.436105</td>\n",
       "      <td>-0.810359</td>\n",
       "      <td>-0.319410</td>\n",
       "      <td>0.182380</td>\n",
       "    </tr>\n",
       "    <tr>\n",
       "      <th>股票_2</th>\n",
       "      <td>0.647812</td>\n",
       "      <td>0.725662</td>\n",
       "      <td>-0.632794</td>\n",
       "      <td>-0.554585</td>\n",
       "      <td>0.992424</td>\n",
       "    </tr>\n",
       "    <tr>\n",
       "      <th>股票_3</th>\n",
       "      <td>-0.413694</td>\n",
       "      <td>-1.024176</td>\n",
       "      <td>0.465675</td>\n",
       "      <td>-0.485614</td>\n",
       "      <td>0.638937</td>\n",
       "    </tr>\n",
       "    <tr>\n",
       "      <th>股票_4</th>\n",
       "      <td>-0.486035</td>\n",
       "      <td>3.511450</td>\n",
       "      <td>-0.884686</td>\n",
       "      <td>-0.101618</td>\n",
       "      <td>-0.396877</td>\n",
       "    </tr>\n",
       "    <tr>\n",
       "      <th>股票_5</th>\n",
       "      <td>0.287437</td>\n",
       "      <td>0.240086</td>\n",
       "      <td>0.849756</td>\n",
       "      <td>1.473140</td>\n",
       "      <td>0.251936</td>\n",
       "    </tr>\n",
       "    <tr>\n",
       "      <th>股票_6</th>\n",
       "      <td>0.545136</td>\n",
       "      <td>-0.474349</td>\n",
       "      <td>0.080948</td>\n",
       "      <td>1.630369</td>\n",
       "      <td>1.770921</td>\n",
       "    </tr>\n",
       "    <tr>\n",
       "      <th>股票_7</th>\n",
       "      <td>0.874320</td>\n",
       "      <td>-0.635412</td>\n",
       "      <td>0.368132</td>\n",
       "      <td>1.679003</td>\n",
       "      <td>-1.527700</td>\n",
       "    </tr>\n",
       "    <tr>\n",
       "      <th>股票_8</th>\n",
       "      <td>1.730762</td>\n",
       "      <td>-1.601070</td>\n",
       "      <td>0.950296</td>\n",
       "      <td>-0.311203</td>\n",
       "      <td>0.075283</td>\n",
       "    </tr>\n",
       "    <tr>\n",
       "      <th>股票_9</th>\n",
       "      <td>-0.192693</td>\n",
       "      <td>-1.024737</td>\n",
       "      <td>0.557583</td>\n",
       "      <td>0.225073</td>\n",
       "      <td>0.222499</td>\n",
       "    </tr>\n",
       "  </tbody>\n",
       "</table>\n",
       "</div>"
      ],
      "text/plain": [
       "      2019-08-01  2019-08-02  2019-08-05  2019-08-06  2019-08-07\n",
       "股票_0    0.582559    2.242857   -0.658943    0.874119   -0.832245\n",
       "股票_1   -1.342501   -0.436105   -0.810359   -0.319410    0.182380\n",
       "股票_2    0.647812    0.725662   -0.632794   -0.554585    0.992424\n",
       "股票_3   -0.413694   -1.024176    0.465675   -0.485614    0.638937\n",
       "股票_4   -0.486035    3.511450   -0.884686   -0.101618   -0.396877\n",
       "股票_5    0.287437    0.240086    0.849756    1.473140    0.251936\n",
       "股票_6    0.545136   -0.474349    0.080948    1.630369    1.770921\n",
       "股票_7    0.874320   -0.635412    0.368132    1.679003   -1.527700\n",
       "股票_8    1.730762   -1.601070    0.950296   -0.311203    0.075283\n",
       "股票_9   -0.192693   -1.024737    0.557583    0.225073    0.222499"
      ]
     },
     "execution_count": 22,
     "metadata": {},
     "output_type": "execute_result"
    }
   ],
   "source": [
    "index = ['股票_{}'.format(i) for i in range(df.shape[0])]\n",
    "# index\n",
    "df.index = index\n",
    "df"
   ]
  },
  {
   "cell_type": "code",
   "execution_count": 23,
   "metadata": {},
   "outputs": [
    {
     "ename": "TypeError",
     "evalue": "Index does not support mutable operations",
     "output_type": "error",
     "traceback": [
      "\u001b[0;31m---------------------------------------------------------------------------\u001b[0m",
      "\u001b[0;31mTypeError\u001b[0m                                 Traceback (most recent call last)",
      "\u001b[0;32m<ipython-input-23-a627f324e34b>\u001b[0m in \u001b[0;36m<module>\u001b[0;34m\u001b[0m\n\u001b[0;32m----> 1\u001b[0;31m \u001b[0mdf\u001b[0m\u001b[0;34m.\u001b[0m\u001b[0mindex\u001b[0m\u001b[0;34m[\u001b[0m\u001b[0;36m3\u001b[0m\u001b[0;34m]\u001b[0m \u001b[0;34m=\u001b[0m \u001b[0;34m'股票_呵呵呵'\u001b[0m\u001b[0;34m\u001b[0m\u001b[0;34m\u001b[0m\u001b[0m\n\u001b[0m",
      "\u001b[0;32m~/Envs/ai/lib/python3.7/site-packages/pandas/core/indexes/base.py\u001b[0m in \u001b[0;36m__setitem__\u001b[0;34m(self, key, value)\u001b[0m\n\u001b[1;32m   2063\u001b[0m \u001b[0;34m\u001b[0m\u001b[0m\n\u001b[1;32m   2064\u001b[0m     \u001b[0;32mdef\u001b[0m \u001b[0m__setitem__\u001b[0m\u001b[0;34m(\u001b[0m\u001b[0mself\u001b[0m\u001b[0;34m,\u001b[0m \u001b[0mkey\u001b[0m\u001b[0;34m,\u001b[0m \u001b[0mvalue\u001b[0m\u001b[0;34m)\u001b[0m\u001b[0;34m:\u001b[0m\u001b[0;34m\u001b[0m\u001b[0;34m\u001b[0m\u001b[0m\n\u001b[0;32m-> 2065\u001b[0;31m         \u001b[0;32mraise\u001b[0m \u001b[0mTypeError\u001b[0m\u001b[0;34m(\u001b[0m\u001b[0;34m\"Index does not support mutable operations\"\u001b[0m\u001b[0;34m)\u001b[0m\u001b[0;34m\u001b[0m\u001b[0;34m\u001b[0m\u001b[0m\n\u001b[0m\u001b[1;32m   2066\u001b[0m \u001b[0;34m\u001b[0m\u001b[0m\n\u001b[1;32m   2067\u001b[0m     \u001b[0;32mdef\u001b[0m \u001b[0m__getitem__\u001b[0m\u001b[0;34m(\u001b[0m\u001b[0mself\u001b[0m\u001b[0;34m,\u001b[0m \u001b[0mkey\u001b[0m\u001b[0;34m)\u001b[0m\u001b[0;34m:\u001b[0m\u001b[0;34m\u001b[0m\u001b[0;34m\u001b[0m\u001b[0m\n",
      "\u001b[0;31mTypeError\u001b[0m: Index does not support mutable operations"
     ]
    }
   ],
   "source": [
    "# df.index[3] = '股票_呵呵呵'\n",
    "# 注意: 索引只能整体修改, 不能只修改一部分."
   ]
  },
  {
   "cell_type": "markdown",
   "metadata": {},
   "source": [
    "## 索引重置"
   ]
  },
  {
   "cell_type": "code",
   "execution_count": 24,
   "metadata": {},
   "outputs": [
    {
     "data": {
      "text/html": [
       "<div>\n",
       "<style scoped>\n",
       "    .dataframe tbody tr th:only-of-type {\n",
       "        vertical-align: middle;\n",
       "    }\n",
       "\n",
       "    .dataframe tbody tr th {\n",
       "        vertical-align: top;\n",
       "    }\n",
       "\n",
       "    .dataframe thead th {\n",
       "        text-align: right;\n",
       "    }\n",
       "</style>\n",
       "<table border=\"1\" class=\"dataframe\">\n",
       "  <thead>\n",
       "    <tr style=\"text-align: right;\">\n",
       "      <th></th>\n",
       "      <th>index</th>\n",
       "      <th>2019-08-01 00:00:00</th>\n",
       "      <th>2019-08-02 00:00:00</th>\n",
       "      <th>2019-08-05 00:00:00</th>\n",
       "      <th>2019-08-06 00:00:00</th>\n",
       "      <th>2019-08-07 00:00:00</th>\n",
       "    </tr>\n",
       "  </thead>\n",
       "  <tbody>\n",
       "    <tr>\n",
       "      <th>0</th>\n",
       "      <td>股票_0</td>\n",
       "      <td>0.582559</td>\n",
       "      <td>2.242857</td>\n",
       "      <td>-0.658943</td>\n",
       "      <td>0.874119</td>\n",
       "      <td>-0.832245</td>\n",
       "    </tr>\n",
       "    <tr>\n",
       "      <th>1</th>\n",
       "      <td>股票_1</td>\n",
       "      <td>-1.342501</td>\n",
       "      <td>-0.436105</td>\n",
       "      <td>-0.810359</td>\n",
       "      <td>-0.319410</td>\n",
       "      <td>0.182380</td>\n",
       "    </tr>\n",
       "    <tr>\n",
       "      <th>2</th>\n",
       "      <td>股票_2</td>\n",
       "      <td>0.647812</td>\n",
       "      <td>0.725662</td>\n",
       "      <td>-0.632794</td>\n",
       "      <td>-0.554585</td>\n",
       "      <td>0.992424</td>\n",
       "    </tr>\n",
       "    <tr>\n",
       "      <th>3</th>\n",
       "      <td>股票_3</td>\n",
       "      <td>-0.413694</td>\n",
       "      <td>-1.024176</td>\n",
       "      <td>0.465675</td>\n",
       "      <td>-0.485614</td>\n",
       "      <td>0.638937</td>\n",
       "    </tr>\n",
       "    <tr>\n",
       "      <th>4</th>\n",
       "      <td>股票_4</td>\n",
       "      <td>-0.486035</td>\n",
       "      <td>3.511450</td>\n",
       "      <td>-0.884686</td>\n",
       "      <td>-0.101618</td>\n",
       "      <td>-0.396877</td>\n",
       "    </tr>\n",
       "    <tr>\n",
       "      <th>5</th>\n",
       "      <td>股票_5</td>\n",
       "      <td>0.287437</td>\n",
       "      <td>0.240086</td>\n",
       "      <td>0.849756</td>\n",
       "      <td>1.473140</td>\n",
       "      <td>0.251936</td>\n",
       "    </tr>\n",
       "    <tr>\n",
       "      <th>6</th>\n",
       "      <td>股票_6</td>\n",
       "      <td>0.545136</td>\n",
       "      <td>-0.474349</td>\n",
       "      <td>0.080948</td>\n",
       "      <td>1.630369</td>\n",
       "      <td>1.770921</td>\n",
       "    </tr>\n",
       "    <tr>\n",
       "      <th>7</th>\n",
       "      <td>股票_7</td>\n",
       "      <td>0.874320</td>\n",
       "      <td>-0.635412</td>\n",
       "      <td>0.368132</td>\n",
       "      <td>1.679003</td>\n",
       "      <td>-1.527700</td>\n",
       "    </tr>\n",
       "    <tr>\n",
       "      <th>8</th>\n",
       "      <td>股票_8</td>\n",
       "      <td>1.730762</td>\n",
       "      <td>-1.601070</td>\n",
       "      <td>0.950296</td>\n",
       "      <td>-0.311203</td>\n",
       "      <td>0.075283</td>\n",
       "    </tr>\n",
       "    <tr>\n",
       "      <th>9</th>\n",
       "      <td>股票_9</td>\n",
       "      <td>-0.192693</td>\n",
       "      <td>-1.024737</td>\n",
       "      <td>0.557583</td>\n",
       "      <td>0.225073</td>\n",
       "      <td>0.222499</td>\n",
       "    </tr>\n",
       "  </tbody>\n",
       "</table>\n",
       "</div>"
      ],
      "text/plain": [
       "  index  2019-08-01 00:00:00  2019-08-02 00:00:00  2019-08-05 00:00:00  \\\n",
       "0  股票_0             0.582559             2.242857            -0.658943   \n",
       "1  股票_1            -1.342501            -0.436105            -0.810359   \n",
       "2  股票_2             0.647812             0.725662            -0.632794   \n",
       "3  股票_3            -0.413694            -1.024176             0.465675   \n",
       "4  股票_4            -0.486035             3.511450            -0.884686   \n",
       "5  股票_5             0.287437             0.240086             0.849756   \n",
       "6  股票_6             0.545136            -0.474349             0.080948   \n",
       "7  股票_7             0.874320            -0.635412             0.368132   \n",
       "8  股票_8             1.730762            -1.601070             0.950296   \n",
       "9  股票_9            -0.192693            -1.024737             0.557583   \n",
       "\n",
       "   2019-08-06 00:00:00  2019-08-07 00:00:00  \n",
       "0             0.874119            -0.832245  \n",
       "1            -0.319410             0.182380  \n",
       "2            -0.554585             0.992424  \n",
       "3            -0.485614             0.638937  \n",
       "4            -0.101618            -0.396877  \n",
       "5             1.473140             0.251936  \n",
       "6             1.630369             1.770921  \n",
       "7             1.679003            -1.527700  \n",
       "8            -0.311203             0.075283  \n",
       "9             0.225073             0.222499  "
      ]
     },
     "execution_count": 24,
     "metadata": {},
     "output_type": "execute_result"
    }
   ],
   "source": [
    "# 默认会保留原来索引列\n",
    "df.reset_index()"
   ]
  },
  {
   "cell_type": "code",
   "execution_count": 25,
   "metadata": {},
   "outputs": [
    {
     "data": {
      "text/html": [
       "<div>\n",
       "<style scoped>\n",
       "    .dataframe tbody tr th:only-of-type {\n",
       "        vertical-align: middle;\n",
       "    }\n",
       "\n",
       "    .dataframe tbody tr th {\n",
       "        vertical-align: top;\n",
       "    }\n",
       "\n",
       "    .dataframe thead th {\n",
       "        text-align: right;\n",
       "    }\n",
       "</style>\n",
       "<table border=\"1\" class=\"dataframe\">\n",
       "  <thead>\n",
       "    <tr style=\"text-align: right;\">\n",
       "      <th></th>\n",
       "      <th>2019-08-01 00:00:00</th>\n",
       "      <th>2019-08-02 00:00:00</th>\n",
       "      <th>2019-08-05 00:00:00</th>\n",
       "      <th>2019-08-06 00:00:00</th>\n",
       "      <th>2019-08-07 00:00:00</th>\n",
       "    </tr>\n",
       "  </thead>\n",
       "  <tbody>\n",
       "    <tr>\n",
       "      <th>0</th>\n",
       "      <td>0.582559</td>\n",
       "      <td>2.242857</td>\n",
       "      <td>-0.658943</td>\n",
       "      <td>0.874119</td>\n",
       "      <td>-0.832245</td>\n",
       "    </tr>\n",
       "    <tr>\n",
       "      <th>1</th>\n",
       "      <td>-1.342501</td>\n",
       "      <td>-0.436105</td>\n",
       "      <td>-0.810359</td>\n",
       "      <td>-0.319410</td>\n",
       "      <td>0.182380</td>\n",
       "    </tr>\n",
       "    <tr>\n",
       "      <th>2</th>\n",
       "      <td>0.647812</td>\n",
       "      <td>0.725662</td>\n",
       "      <td>-0.632794</td>\n",
       "      <td>-0.554585</td>\n",
       "      <td>0.992424</td>\n",
       "    </tr>\n",
       "    <tr>\n",
       "      <th>3</th>\n",
       "      <td>-0.413694</td>\n",
       "      <td>-1.024176</td>\n",
       "      <td>0.465675</td>\n",
       "      <td>-0.485614</td>\n",
       "      <td>0.638937</td>\n",
       "    </tr>\n",
       "    <tr>\n",
       "      <th>4</th>\n",
       "      <td>-0.486035</td>\n",
       "      <td>3.511450</td>\n",
       "      <td>-0.884686</td>\n",
       "      <td>-0.101618</td>\n",
       "      <td>-0.396877</td>\n",
       "    </tr>\n",
       "    <tr>\n",
       "      <th>5</th>\n",
       "      <td>0.287437</td>\n",
       "      <td>0.240086</td>\n",
       "      <td>0.849756</td>\n",
       "      <td>1.473140</td>\n",
       "      <td>0.251936</td>\n",
       "    </tr>\n",
       "    <tr>\n",
       "      <th>6</th>\n",
       "      <td>0.545136</td>\n",
       "      <td>-0.474349</td>\n",
       "      <td>0.080948</td>\n",
       "      <td>1.630369</td>\n",
       "      <td>1.770921</td>\n",
       "    </tr>\n",
       "    <tr>\n",
       "      <th>7</th>\n",
       "      <td>0.874320</td>\n",
       "      <td>-0.635412</td>\n",
       "      <td>0.368132</td>\n",
       "      <td>1.679003</td>\n",
       "      <td>-1.527700</td>\n",
       "    </tr>\n",
       "    <tr>\n",
       "      <th>8</th>\n",
       "      <td>1.730762</td>\n",
       "      <td>-1.601070</td>\n",
       "      <td>0.950296</td>\n",
       "      <td>-0.311203</td>\n",
       "      <td>0.075283</td>\n",
       "    </tr>\n",
       "    <tr>\n",
       "      <th>9</th>\n",
       "      <td>-0.192693</td>\n",
       "      <td>-1.024737</td>\n",
       "      <td>0.557583</td>\n",
       "      <td>0.225073</td>\n",
       "      <td>0.222499</td>\n",
       "    </tr>\n",
       "  </tbody>\n",
       "</table>\n",
       "</div>"
      ],
      "text/plain": [
       "   2019-08-01  2019-08-02  2019-08-05  2019-08-06  2019-08-07\n",
       "0    0.582559    2.242857   -0.658943    0.874119   -0.832245\n",
       "1   -1.342501   -0.436105   -0.810359   -0.319410    0.182380\n",
       "2    0.647812    0.725662   -0.632794   -0.554585    0.992424\n",
       "3   -0.413694   -1.024176    0.465675   -0.485614    0.638937\n",
       "4   -0.486035    3.511450   -0.884686   -0.101618   -0.396877\n",
       "5    0.287437    0.240086    0.849756    1.473140    0.251936\n",
       "6    0.545136   -0.474349    0.080948    1.630369    1.770921\n",
       "7    0.874320   -0.635412    0.368132    1.679003   -1.527700\n",
       "8    1.730762   -1.601070    0.950296   -0.311203    0.075283\n",
       "9   -0.192693   -1.024737    0.557583    0.225073    0.222499"
      ]
     },
     "execution_count": 25,
     "metadata": {},
     "output_type": "execute_result"
    }
   ],
   "source": [
    "df.reset_index(drop=True)"
   ]
  },
  {
   "cell_type": "code",
   "execution_count": 27,
   "metadata": {},
   "outputs": [
    {
     "data": {
      "text/html": [
       "<div>\n",
       "<style scoped>\n",
       "    .dataframe tbody tr th:only-of-type {\n",
       "        vertical-align: middle;\n",
       "    }\n",
       "\n",
       "    .dataframe tbody tr th {\n",
       "        vertical-align: top;\n",
       "    }\n",
       "\n",
       "    .dataframe thead th {\n",
       "        text-align: right;\n",
       "    }\n",
       "</style>\n",
       "<table border=\"1\" class=\"dataframe\">\n",
       "  <thead>\n",
       "    <tr style=\"text-align: right;\">\n",
       "      <th></th>\n",
       "      <th>2019-08-01 00:00:00</th>\n",
       "      <th>2019-08-02 00:00:00</th>\n",
       "      <th>2019-08-05 00:00:00</th>\n",
       "      <th>2019-08-06 00:00:00</th>\n",
       "      <th>2019-08-07 00:00:00</th>\n",
       "    </tr>\n",
       "  </thead>\n",
       "  <tbody>\n",
       "    <tr>\n",
       "      <th>股票_0</th>\n",
       "      <td>0.582559</td>\n",
       "      <td>2.242857</td>\n",
       "      <td>-0.658943</td>\n",
       "      <td>0.874119</td>\n",
       "      <td>-0.832245</td>\n",
       "    </tr>\n",
       "    <tr>\n",
       "      <th>股票_1</th>\n",
       "      <td>-1.342501</td>\n",
       "      <td>-0.436105</td>\n",
       "      <td>-0.810359</td>\n",
       "      <td>-0.319410</td>\n",
       "      <td>0.182380</td>\n",
       "    </tr>\n",
       "    <tr>\n",
       "      <th>股票_2</th>\n",
       "      <td>0.647812</td>\n",
       "      <td>0.725662</td>\n",
       "      <td>-0.632794</td>\n",
       "      <td>-0.554585</td>\n",
       "      <td>0.992424</td>\n",
       "    </tr>\n",
       "    <tr>\n",
       "      <th>股票_3</th>\n",
       "      <td>-0.413694</td>\n",
       "      <td>-1.024176</td>\n",
       "      <td>0.465675</td>\n",
       "      <td>-0.485614</td>\n",
       "      <td>0.638937</td>\n",
       "    </tr>\n",
       "    <tr>\n",
       "      <th>股票_4</th>\n",
       "      <td>-0.486035</td>\n",
       "      <td>3.511450</td>\n",
       "      <td>-0.884686</td>\n",
       "      <td>-0.101618</td>\n",
       "      <td>-0.396877</td>\n",
       "    </tr>\n",
       "    <tr>\n",
       "      <th>股票_5</th>\n",
       "      <td>0.287437</td>\n",
       "      <td>0.240086</td>\n",
       "      <td>0.849756</td>\n",
       "      <td>1.473140</td>\n",
       "      <td>0.251936</td>\n",
       "    </tr>\n",
       "    <tr>\n",
       "      <th>股票_6</th>\n",
       "      <td>0.545136</td>\n",
       "      <td>-0.474349</td>\n",
       "      <td>0.080948</td>\n",
       "      <td>1.630369</td>\n",
       "      <td>1.770921</td>\n",
       "    </tr>\n",
       "    <tr>\n",
       "      <th>股票_7</th>\n",
       "      <td>0.874320</td>\n",
       "      <td>-0.635412</td>\n",
       "      <td>0.368132</td>\n",
       "      <td>1.679003</td>\n",
       "      <td>-1.527700</td>\n",
       "    </tr>\n",
       "    <tr>\n",
       "      <th>股票_8</th>\n",
       "      <td>1.730762</td>\n",
       "      <td>-1.601070</td>\n",
       "      <td>0.950296</td>\n",
       "      <td>-0.311203</td>\n",
       "      <td>0.075283</td>\n",
       "    </tr>\n",
       "    <tr>\n",
       "      <th>股票_9</th>\n",
       "      <td>-0.192693</td>\n",
       "      <td>-1.024737</td>\n",
       "      <td>0.557583</td>\n",
       "      <td>0.225073</td>\n",
       "      <td>0.222499</td>\n",
       "    </tr>\n",
       "  </tbody>\n",
       "</table>\n",
       "</div>"
      ],
      "text/plain": [
       "      2019-08-01  2019-08-02  2019-08-05  2019-08-06  2019-08-07\n",
       "股票_0    0.582559    2.242857   -0.658943    0.874119   -0.832245\n",
       "股票_1   -1.342501   -0.436105   -0.810359   -0.319410    0.182380\n",
       "股票_2    0.647812    0.725662   -0.632794   -0.554585    0.992424\n",
       "股票_3   -0.413694   -1.024176    0.465675   -0.485614    0.638937\n",
       "股票_4   -0.486035    3.511450   -0.884686   -0.101618   -0.396877\n",
       "股票_5    0.287437    0.240086    0.849756    1.473140    0.251936\n",
       "股票_6    0.545136   -0.474349    0.080948    1.630369    1.770921\n",
       "股票_7    0.874320   -0.635412    0.368132    1.679003   -1.527700\n",
       "股票_8    1.730762   -1.601070    0.950296   -0.311203    0.075283\n",
       "股票_9   -0.192693   -1.024737    0.557583    0.225073    0.222499"
      ]
     },
     "execution_count": 27,
     "metadata": {},
     "output_type": "execute_result"
    }
   ],
   "source": [
    "df"
   ]
  },
  {
   "cell_type": "code",
   "execution_count": 28,
   "metadata": {},
   "outputs": [
    {
     "data": {
      "text/html": [
       "<div>\n",
       "<style scoped>\n",
       "    .dataframe tbody tr th:only-of-type {\n",
       "        vertical-align: middle;\n",
       "    }\n",
       "\n",
       "    .dataframe tbody tr th {\n",
       "        vertical-align: top;\n",
       "    }\n",
       "\n",
       "    .dataframe thead th {\n",
       "        text-align: right;\n",
       "    }\n",
       "</style>\n",
       "<table border=\"1\" class=\"dataframe\">\n",
       "  <thead>\n",
       "    <tr style=\"text-align: right;\">\n",
       "      <th></th>\n",
       "      <th>year</th>\n",
       "      <th>month</th>\n",
       "      <th>sale</th>\n",
       "    </tr>\n",
       "  </thead>\n",
       "  <tbody>\n",
       "    <tr>\n",
       "      <th>0</th>\n",
       "      <td>2012</td>\n",
       "      <td>1</td>\n",
       "      <td>55</td>\n",
       "    </tr>\n",
       "    <tr>\n",
       "      <th>1</th>\n",
       "      <td>2012</td>\n",
       "      <td>4</td>\n",
       "      <td>40</td>\n",
       "    </tr>\n",
       "    <tr>\n",
       "      <th>2</th>\n",
       "      <td>2014</td>\n",
       "      <td>7</td>\n",
       "      <td>84</td>\n",
       "    </tr>\n",
       "    <tr>\n",
       "      <th>3</th>\n",
       "      <td>2014</td>\n",
       "      <td>10</td>\n",
       "      <td>31</td>\n",
       "    </tr>\n",
       "  </tbody>\n",
       "</table>\n",
       "</div>"
      ],
      "text/plain": [
       "   year  month  sale\n",
       "0  2012      1    55\n",
       "1  2012      4    40\n",
       "2  2014      7    84\n",
       "3  2014     10    31"
      ]
     },
     "execution_count": 28,
     "metadata": {},
     "output_type": "execute_result"
    }
   ],
   "source": [
    "# 设置索引\n",
    "df = pd.DataFrame({ \n",
    "                'year': [2012, 2012, 2014, 2014],\n",
    "                'month': [1, 4, 7, 10],\n",
    "                'sale':[55, 40, 84, 31]})\n",
    "\n",
    "df"
   ]
  },
  {
   "cell_type": "code",
   "execution_count": 31,
   "metadata": {},
   "outputs": [
    {
     "data": {
      "text/html": [
       "<div>\n",
       "<style scoped>\n",
       "    .dataframe tbody tr th:only-of-type {\n",
       "        vertical-align: middle;\n",
       "    }\n",
       "\n",
       "    .dataframe tbody tr th {\n",
       "        vertical-align: top;\n",
       "    }\n",
       "\n",
       "    .dataframe thead th {\n",
       "        text-align: right;\n",
       "    }\n",
       "</style>\n",
       "<table border=\"1\" class=\"dataframe\">\n",
       "  <thead>\n",
       "    <tr style=\"text-align: right;\">\n",
       "      <th></th>\n",
       "      <th>month</th>\n",
       "      <th>sale</th>\n",
       "    </tr>\n",
       "    <tr>\n",
       "      <th>year</th>\n",
       "      <th></th>\n",
       "      <th></th>\n",
       "    </tr>\n",
       "  </thead>\n",
       "  <tbody>\n",
       "    <tr>\n",
       "      <th>2012</th>\n",
       "      <td>1</td>\n",
       "      <td>55</td>\n",
       "    </tr>\n",
       "    <tr>\n",
       "      <th>2012</th>\n",
       "      <td>4</td>\n",
       "      <td>40</td>\n",
       "    </tr>\n",
       "    <tr>\n",
       "      <th>2014</th>\n",
       "      <td>7</td>\n",
       "      <td>84</td>\n",
       "    </tr>\n",
       "    <tr>\n",
       "      <th>2014</th>\n",
       "      <td>10</td>\n",
       "      <td>31</td>\n",
       "    </tr>\n",
       "  </tbody>\n",
       "</table>\n",
       "</div>"
      ],
      "text/plain": [
       "      month  sale\n",
       "year             \n",
       "2012      1    55\n",
       "2012      4    40\n",
       "2014      7    84\n",
       "2014     10    31"
      ]
     },
     "execution_count": 31,
     "metadata": {},
     "output_type": "execute_result"
    }
   ],
   "source": [
    "df.set_index(['year'])"
   ]
  },
  {
   "cell_type": "code",
   "execution_count": 33,
   "metadata": {},
   "outputs": [],
   "source": [
    "new_df = df.set_index(['year', 'month'])"
   ]
  },
  {
   "cell_type": "markdown",
   "metadata": {},
   "source": [
    "# MultiIndex"
   ]
  },
  {
   "cell_type": "code",
   "execution_count": 34,
   "metadata": {},
   "outputs": [
    {
     "data": {
      "text/plain": [
       "MultiIndex(levels=[[2012, 2014], [1, 4, 7, 10]],\n",
       "           labels=[[0, 0, 1, 1], [0, 1, 2, 3]],\n",
       "           names=['year', 'month'])"
      ]
     },
     "execution_count": 34,
     "metadata": {},
     "output_type": "execute_result"
    }
   ],
   "source": [
    "new_df.index"
   ]
  },
  {
   "cell_type": "code",
   "execution_count": 35,
   "metadata": {},
   "outputs": [
    {
     "data": {
      "text/plain": [
       "FrozenList([[2012, 2014], [1, 4, 7, 10]])"
      ]
     },
     "execution_count": 35,
     "metadata": {},
     "output_type": "execute_result"
    }
   ],
   "source": [
    "new_df.index.levels"
   ]
  },
  {
   "cell_type": "code",
   "execution_count": 36,
   "metadata": {},
   "outputs": [
    {
     "data": {
      "text/plain": [
       "FrozenList([[0, 0, 1, 1], [0, 1, 2, 3]])"
      ]
     },
     "execution_count": 36,
     "metadata": {},
     "output_type": "execute_result"
    }
   ],
   "source": [
    "new_df.index.labels"
   ]
  },
  {
   "cell_type": "code",
   "execution_count": 37,
   "metadata": {},
   "outputs": [
    {
     "data": {
      "text/plain": [
       "FrozenList(['year', 'month'])"
      ]
     },
     "execution_count": 37,
     "metadata": {},
     "output_type": "execute_result"
    }
   ],
   "source": [
    "new_df.index.names"
   ]
  },
  {
   "cell_type": "code",
   "execution_count": 38,
   "metadata": {},
   "outputs": [
    {
     "data": {
      "text/html": [
       "<div>\n",
       "<style scoped>\n",
       "    .dataframe tbody tr th:only-of-type {\n",
       "        vertical-align: middle;\n",
       "    }\n",
       "\n",
       "    .dataframe tbody tr th {\n",
       "        vertical-align: top;\n",
       "    }\n",
       "\n",
       "    .dataframe thead th {\n",
       "        text-align: right;\n",
       "    }\n",
       "</style>\n",
       "<table border=\"1\" class=\"dataframe\">\n",
       "  <thead>\n",
       "    <tr style=\"text-align: right;\">\n",
       "      <th></th>\n",
       "      <th></th>\n",
       "      <th>sale</th>\n",
       "    </tr>\n",
       "    <tr>\n",
       "      <th>year</th>\n",
       "      <th>month</th>\n",
       "      <th></th>\n",
       "    </tr>\n",
       "  </thead>\n",
       "  <tbody>\n",
       "    <tr>\n",
       "      <th rowspan=\"2\" valign=\"top\">2012</th>\n",
       "      <th>1</th>\n",
       "      <td>55</td>\n",
       "    </tr>\n",
       "    <tr>\n",
       "      <th>4</th>\n",
       "      <td>40</td>\n",
       "    </tr>\n",
       "    <tr>\n",
       "      <th rowspan=\"2\" valign=\"top\">2014</th>\n",
       "      <th>7</th>\n",
       "      <td>84</td>\n",
       "    </tr>\n",
       "    <tr>\n",
       "      <th>10</th>\n",
       "      <td>31</td>\n",
       "    </tr>\n",
       "  </tbody>\n",
       "</table>\n",
       "</div>"
      ],
      "text/plain": [
       "            sale\n",
       "year month      \n",
       "2012 1        55\n",
       "     4        40\n",
       "2014 7        84\n",
       "     10       31"
      ]
     },
     "execution_count": 38,
     "metadata": {},
     "output_type": "execute_result"
    }
   ],
   "source": [
    "new_df"
   ]
  },
  {
   "cell_type": "code",
   "execution_count": 39,
   "metadata": {},
   "outputs": [],
   "source": [
    "# 注意; 带有MultiIndex的DataFrame可以描述多维数据结构"
   ]
  },
  {
   "cell_type": "markdown",
   "metadata": {},
   "source": [
    "# 4. Panel"
   ]
  },
  {
   "cell_type": "code",
   "execution_count": 41,
   "metadata": {},
   "outputs": [
    {
     "data": {
      "text/plain": [
       "<class 'pandas.core.panel.Panel'>\n",
       "Dimensions: 2 (items) x 3 (major_axis) x 4 (minor_axis)\n",
       "Items axis: A to B\n",
       "Major_axis axis: 1 to 3\n",
       "Minor_axis axis: first to forth"
      ]
     },
     "execution_count": 41,
     "metadata": {},
     "output_type": "execute_result"
    }
   ],
   "source": [
    "# Panel用于描述三维数据结构的\n",
    "panel = pd.Panel(np.arange(24).reshape((2, 3, 4)), \n",
    "                 items= list('AB'),\n",
    "                 major_axis=[1,2,3],\n",
    "                 minor_axis=['first', 'second', 'third', 'forth'] )\n",
    "\n",
    "panel"
   ]
  },
  {
   "cell_type": "code",
   "execution_count": 42,
   "metadata": {},
   "outputs": [
    {
     "data": {
      "text/html": [
       "<div>\n",
       "<style scoped>\n",
       "    .dataframe tbody tr th:only-of-type {\n",
       "        vertical-align: middle;\n",
       "    }\n",
       "\n",
       "    .dataframe tbody tr th {\n",
       "        vertical-align: top;\n",
       "    }\n",
       "\n",
       "    .dataframe thead th {\n",
       "        text-align: right;\n",
       "    }\n",
       "</style>\n",
       "<table border=\"1\" class=\"dataframe\">\n",
       "  <thead>\n",
       "    <tr style=\"text-align: right;\">\n",
       "      <th></th>\n",
       "      <th>first</th>\n",
       "      <th>second</th>\n",
       "      <th>third</th>\n",
       "      <th>forth</th>\n",
       "    </tr>\n",
       "  </thead>\n",
       "  <tbody>\n",
       "    <tr>\n",
       "      <th>1</th>\n",
       "      <td>0</td>\n",
       "      <td>1</td>\n",
       "      <td>2</td>\n",
       "      <td>3</td>\n",
       "    </tr>\n",
       "    <tr>\n",
       "      <th>2</th>\n",
       "      <td>4</td>\n",
       "      <td>5</td>\n",
       "      <td>6</td>\n",
       "      <td>7</td>\n",
       "    </tr>\n",
       "    <tr>\n",
       "      <th>3</th>\n",
       "      <td>8</td>\n",
       "      <td>9</td>\n",
       "      <td>10</td>\n",
       "      <td>11</td>\n",
       "    </tr>\n",
       "  </tbody>\n",
       "</table>\n",
       "</div>"
      ],
      "text/plain": [
       "   first  second  third  forth\n",
       "1      0       1      2      3\n",
       "2      4       5      6      7\n",
       "3      8       9     10     11"
      ]
     },
     "execution_count": 42,
     "metadata": {},
     "output_type": "execute_result"
    }
   ],
   "source": [
    "panel['A']"
   ]
  },
  {
   "cell_type": "code",
   "execution_count": 43,
   "metadata": {},
   "outputs": [
    {
     "data": {
      "text/html": [
       "<div>\n",
       "<style scoped>\n",
       "    .dataframe tbody tr th:only-of-type {\n",
       "        vertical-align: middle;\n",
       "    }\n",
       "\n",
       "    .dataframe tbody tr th {\n",
       "        vertical-align: top;\n",
       "    }\n",
       "\n",
       "    .dataframe thead th {\n",
       "        text-align: right;\n",
       "    }\n",
       "</style>\n",
       "<table border=\"1\" class=\"dataframe\">\n",
       "  <thead>\n",
       "    <tr style=\"text-align: right;\">\n",
       "      <th></th>\n",
       "      <th>first</th>\n",
       "      <th>second</th>\n",
       "      <th>third</th>\n",
       "      <th>forth</th>\n",
       "    </tr>\n",
       "  </thead>\n",
       "  <tbody>\n",
       "    <tr>\n",
       "      <th>1</th>\n",
       "      <td>12</td>\n",
       "      <td>13</td>\n",
       "      <td>14</td>\n",
       "      <td>15</td>\n",
       "    </tr>\n",
       "    <tr>\n",
       "      <th>2</th>\n",
       "      <td>16</td>\n",
       "      <td>17</td>\n",
       "      <td>18</td>\n",
       "      <td>19</td>\n",
       "    </tr>\n",
       "    <tr>\n",
       "      <th>3</th>\n",
       "      <td>20</td>\n",
       "      <td>21</td>\n",
       "      <td>22</td>\n",
       "      <td>23</td>\n",
       "    </tr>\n",
       "  </tbody>\n",
       "</table>\n",
       "</div>"
      ],
      "text/plain": [
       "   first  second  third  forth\n",
       "1     12      13     14     15\n",
       "2     16      17     18     19\n",
       "3     20      21     22     23"
      ]
     },
     "execution_count": 43,
     "metadata": {},
     "output_type": "execute_result"
    }
   ],
   "source": [
    "panel['B']"
   ]
  },
  {
   "cell_type": "code",
   "execution_count": 48,
   "metadata": {},
   "outputs": [
    {
     "data": {
      "text/html": [
       "<div>\n",
       "<style scoped>\n",
       "    .dataframe tbody tr th:only-of-type {\n",
       "        vertical-align: middle;\n",
       "    }\n",
       "\n",
       "    .dataframe tbody tr th {\n",
       "        vertical-align: top;\n",
       "    }\n",
       "\n",
       "    .dataframe thead th {\n",
       "        text-align: right;\n",
       "    }\n",
       "</style>\n",
       "<table border=\"1\" class=\"dataframe\">\n",
       "  <thead>\n",
       "    <tr style=\"text-align: right;\">\n",
       "      <th></th>\n",
       "      <th>first</th>\n",
       "      <th>second</th>\n",
       "      <th>third</th>\n",
       "    </tr>\n",
       "  </thead>\n",
       "  <tbody>\n",
       "    <tr>\n",
       "      <th>1</th>\n",
       "      <td>0</td>\n",
       "      <td>1</td>\n",
       "      <td>2</td>\n",
       "    </tr>\n",
       "    <tr>\n",
       "      <th>2</th>\n",
       "      <td>4</td>\n",
       "      <td>5</td>\n",
       "      <td>6</td>\n",
       "    </tr>\n",
       "  </tbody>\n",
       "</table>\n",
       "</div>"
      ],
      "text/plain": [
       "   first  second  third\n",
       "1      0       1      2\n",
       "2      4       5      6"
      ]
     },
     "execution_count": 48,
     "metadata": {},
     "output_type": "execute_result"
    }
   ],
   "source": [
    "panel['A', :2, 'first':'third']"
   ]
  },
  {
   "cell_type": "code",
   "execution_count": 49,
   "metadata": {},
   "outputs": [
    {
     "data": {
      "text/plain": [
       "4"
      ]
     },
     "execution_count": 49,
     "metadata": {},
     "output_type": "execute_result"
    }
   ],
   "source": [
    "panel['A', 2, 'first']"
   ]
  },
  {
   "cell_type": "code",
   "execution_count": 50,
   "metadata": {},
   "outputs": [
    {
     "data": {
      "text/html": [
       "<div>\n",
       "<style scoped>\n",
       "    .dataframe tbody tr th:only-of-type {\n",
       "        vertical-align: middle;\n",
       "    }\n",
       "\n",
       "    .dataframe tbody tr th {\n",
       "        vertical-align: top;\n",
       "    }\n",
       "\n",
       "    .dataframe thead th {\n",
       "        text-align: right;\n",
       "    }\n",
       "</style>\n",
       "<table border=\"1\" class=\"dataframe\">\n",
       "  <thead>\n",
       "    <tr style=\"text-align: right;\">\n",
       "      <th></th>\n",
       "      <th>A</th>\n",
       "      <th>B</th>\n",
       "    </tr>\n",
       "  </thead>\n",
       "  <tbody>\n",
       "    <tr>\n",
       "      <th>first</th>\n",
       "      <td>4</td>\n",
       "      <td>16</td>\n",
       "    </tr>\n",
       "    <tr>\n",
       "      <th>second</th>\n",
       "      <td>5</td>\n",
       "      <td>17</td>\n",
       "    </tr>\n",
       "    <tr>\n",
       "      <th>third</th>\n",
       "      <td>6</td>\n",
       "      <td>18</td>\n",
       "    </tr>\n",
       "    <tr>\n",
       "      <th>forth</th>\n",
       "      <td>7</td>\n",
       "      <td>19</td>\n",
       "    </tr>\n",
       "  </tbody>\n",
       "</table>\n",
       "</div>"
      ],
      "text/plain": [
       "        A   B\n",
       "first   4  16\n",
       "second  5  17\n",
       "third   6  18\n",
       "forth   7  19"
      ]
     },
     "execution_count": 50,
     "metadata": {},
     "output_type": "execute_result"
    }
   ],
   "source": [
    "panel[:,2,:]"
   ]
  },
  {
   "cell_type": "markdown",
   "metadata": {},
   "source": [
    "# Series"
   ]
  },
  {
   "cell_type": "code",
   "execution_count": 51,
   "metadata": {},
   "outputs": [
    {
     "data": {
      "text/html": [
       "<div>\n",
       "<style scoped>\n",
       "    .dataframe tbody tr th:only-of-type {\n",
       "        vertical-align: middle;\n",
       "    }\n",
       "\n",
       "    .dataframe tbody tr th {\n",
       "        vertical-align: top;\n",
       "    }\n",
       "\n",
       "    .dataframe thead th {\n",
       "        text-align: right;\n",
       "    }\n",
       "</style>\n",
       "<table border=\"1\" class=\"dataframe\">\n",
       "  <thead>\n",
       "    <tr style=\"text-align: right;\">\n",
       "      <th></th>\n",
       "      <th>2019-08-01 00:00:00</th>\n",
       "      <th>2019-08-02 00:00:00</th>\n",
       "      <th>2019-08-05 00:00:00</th>\n",
       "      <th>2019-08-06 00:00:00</th>\n",
       "      <th>2019-08-07 00:00:00</th>\n",
       "    </tr>\n",
       "  </thead>\n",
       "  <tbody>\n",
       "    <tr>\n",
       "      <th>股票0</th>\n",
       "      <td>-0.867897</td>\n",
       "      <td>1.292169</td>\n",
       "      <td>-0.889283</td>\n",
       "      <td>0.669345</td>\n",
       "      <td>-1.339422</td>\n",
       "    </tr>\n",
       "    <tr>\n",
       "      <th>股票1</th>\n",
       "      <td>0.277851</td>\n",
       "      <td>-0.264793</td>\n",
       "      <td>-0.969378</td>\n",
       "      <td>-0.170424</td>\n",
       "      <td>0.131967</td>\n",
       "    </tr>\n",
       "    <tr>\n",
       "      <th>股票2</th>\n",
       "      <td>0.590742</td>\n",
       "      <td>0.720153</td>\n",
       "      <td>0.020364</td>\n",
       "      <td>0.161341</td>\n",
       "      <td>0.951437</td>\n",
       "    </tr>\n",
       "    <tr>\n",
       "      <th>股票3</th>\n",
       "      <td>-0.080046</td>\n",
       "      <td>-0.116504</td>\n",
       "      <td>-1.494137</td>\n",
       "      <td>0.553527</td>\n",
       "      <td>-0.634447</td>\n",
       "    </tr>\n",
       "    <tr>\n",
       "      <th>股票4</th>\n",
       "      <td>-0.029273</td>\n",
       "      <td>0.683145</td>\n",
       "      <td>1.173230</td>\n",
       "      <td>0.607815</td>\n",
       "      <td>0.813288</td>\n",
       "    </tr>\n",
       "    <tr>\n",
       "      <th>股票5</th>\n",
       "      <td>0.349081</td>\n",
       "      <td>0.737517</td>\n",
       "      <td>-0.714160</td>\n",
       "      <td>-0.036718</td>\n",
       "      <td>-0.185544</td>\n",
       "    </tr>\n",
       "    <tr>\n",
       "      <th>股票6</th>\n",
       "      <td>1.567618</td>\n",
       "      <td>0.087050</td>\n",
       "      <td>1.409470</td>\n",
       "      <td>0.016135</td>\n",
       "      <td>0.819063</td>\n",
       "    </tr>\n",
       "    <tr>\n",
       "      <th>股票7</th>\n",
       "      <td>1.245469</td>\n",
       "      <td>-0.154423</td>\n",
       "      <td>0.365476</td>\n",
       "      <td>-0.770609</td>\n",
       "      <td>1.445264</td>\n",
       "    </tr>\n",
       "    <tr>\n",
       "      <th>股票8</th>\n",
       "      <td>0.113426</td>\n",
       "      <td>-0.294219</td>\n",
       "      <td>-1.119309</td>\n",
       "      <td>-0.183951</td>\n",
       "      <td>-0.725423</td>\n",
       "    </tr>\n",
       "    <tr>\n",
       "      <th>股票9</th>\n",
       "      <td>-0.501630</td>\n",
       "      <td>-1.899308</td>\n",
       "      <td>-0.287099</td>\n",
       "      <td>1.694745</td>\n",
       "      <td>-2.251650</td>\n",
       "    </tr>\n",
       "  </tbody>\n",
       "</table>\n",
       "</div>"
      ],
      "text/plain": [
       "     2019-08-01  2019-08-02  2019-08-05  2019-08-06  2019-08-07\n",
       "股票0   -0.867897    1.292169   -0.889283    0.669345   -1.339422\n",
       "股票1    0.277851   -0.264793   -0.969378   -0.170424    0.131967\n",
       "股票2    0.590742    0.720153    0.020364    0.161341    0.951437\n",
       "股票3   -0.080046   -0.116504   -1.494137    0.553527   -0.634447\n",
       "股票4   -0.029273    0.683145    1.173230    0.607815    0.813288\n",
       "股票5    0.349081    0.737517   -0.714160   -0.036718   -0.185544\n",
       "股票6    1.567618    0.087050    1.409470    0.016135    0.819063\n",
       "股票7    1.245469   -0.154423    0.365476   -0.770609    1.445264\n",
       "股票8    0.113426   -0.294219   -1.119309   -0.183951   -0.725423\n",
       "股票9   -0.501630   -1.899308   -0.287099    1.694745   -2.251650"
      ]
     },
     "execution_count": 51,
     "metadata": {},
     "output_type": "execute_result"
    }
   ],
   "source": [
    "# 用于描述一维数组\n",
    "\n",
    "# 1. 生成10只股票5天的涨跌幅(符合标准正态分布的)\n",
    "stock_change = np.random.normal(0, 1, (10, 5))\n",
    "# stock_change\n",
    "# 生成行索引\n",
    "index = ['股票{}'.format(i) for i in range(stock_change.shape[0])]\n",
    "# 生成列索引\n",
    "date = pd.date_range(start='2019-08-01', periods=stock_change.shape[1], freq='B')\n",
    "# date\n",
    "# index\n",
    "# 2. 使用数据创键DataFrame\n",
    "df = pd.DataFrame(stock_change, index=index, columns=date)"
   ]
  },
  {
   "cell_type": "code",
   "execution_count": 52,
   "metadata": {},
   "outputs": [
    {
     "data": {
      "text/plain": [
       "股票0   -0.867897\n",
       "股票1    0.277851\n",
       "股票2    0.590742\n",
       "股票3   -0.080046\n",
       "股票4   -0.029273\n",
       "股票5    0.349081\n",
       "股票6    1.567618\n",
       "股票7    1.245469\n",
       "股票8    0.113426\n",
       "股票9   -0.501630\n",
       "Name: 2019-08-01 00:00:00, dtype: float64"
      ]
     },
     "execution_count": 52,
     "metadata": {},
     "output_type": "execute_result"
    }
   ],
   "source": [
    "df['2019-08-01']"
   ]
  },
  {
   "cell_type": "code",
   "execution_count": 53,
   "metadata": {},
   "outputs": [
    {
     "data": {
      "text/plain": [
       "pandas.core.series.Series"
      ]
     },
     "execution_count": 53,
     "metadata": {},
     "output_type": "execute_result"
    }
   ],
   "source": [
    "type(df['2019-08-01'])"
   ]
  },
  {
   "cell_type": "code",
   "execution_count": 55,
   "metadata": {},
   "outputs": [
    {
     "data": {
      "text/plain": [
       "0    10\n",
       "1    12\n",
       "2    14\n",
       "3    16\n",
       "dtype: int64"
      ]
     },
     "execution_count": 55,
     "metadata": {},
     "output_type": "execute_result"
    }
   ],
   "source": [
    "# 创建Series\n",
    "# 使用默认索引, 创建一个Series\n",
    "pd.Series(np.arange(10, 18, 2))"
   ]
  },
  {
   "cell_type": "code",
   "execution_count": 56,
   "metadata": {},
   "outputs": [
    {
     "data": {
      "text/plain": [
       "a    1\n",
       "b    2\n",
       "c    3\n",
       "dtype: int64"
      ]
     },
     "execution_count": 56,
     "metadata": {},
     "output_type": "execute_result"
    }
   ],
   "source": [
    "# 创建Series指定索引\n",
    "pd.Series([1,2,3], index=['a', 'b', 'c'])"
   ]
  },
  {
   "cell_type": "code",
   "execution_count": 59,
   "metadata": {},
   "outputs": [],
   "source": [
    "# 使用字典创建Series\n",
    "s = pd.Series({'a':10, 'b':20, 'c':30})\n",
    "# 字典的键为索引 值就是Series的值"
   ]
  },
  {
   "cell_type": "code",
   "execution_count": 60,
   "metadata": {},
   "outputs": [
    {
     "data": {
      "text/plain": [
       "Index(['a', 'b', 'c'], dtype='object')"
      ]
     },
     "execution_count": 60,
     "metadata": {},
     "output_type": "execute_result"
    }
   ],
   "source": [
    "s.index"
   ]
  },
  {
   "cell_type": "code",
   "execution_count": 61,
   "metadata": {},
   "outputs": [
    {
     "data": {
      "text/plain": [
       "array([10, 20, 30])"
      ]
     },
     "execution_count": 61,
     "metadata": {},
     "output_type": "execute_result"
    }
   ],
   "source": [
    "s.values"
   ]
  },
  {
   "cell_type": "code",
   "execution_count": 62,
   "metadata": {},
   "outputs": [
    {
     "ename": "NameError",
     "evalue": "name 'data' is not defined",
     "output_type": "error",
     "traceback": [
      "\u001b[0;31m---------------------------------------------------------------------------\u001b[0m",
      "\u001b[0;31mNameError\u001b[0m                                 Traceback (most recent call last)",
      "\u001b[0;32m<ipython-input-62-0ce9be49ce57>\u001b[0m in \u001b[0;36m<module>\u001b[0;34m\u001b[0m\n\u001b[1;32m      1\u001b[0m \u001b[0;31m# 推荐使用loc和iloc来获取的方式\u001b[0m\u001b[0;34m\u001b[0m\u001b[0;34m\u001b[0m\u001b[0;34m\u001b[0m\u001b[0m\n\u001b[0;32m----> 2\u001b[0;31m \u001b[0mdata\u001b[0m\u001b[0;34m.\u001b[0m\u001b[0mloc\u001b[0m\u001b[0;34m[\u001b[0m\u001b[0mdata\u001b[0m\u001b[0;34m.\u001b[0m\u001b[0mindex\u001b[0m\u001b[0;34m[\u001b[0m\u001b[0;36m0\u001b[0m\u001b[0;34m:\u001b[0m\u001b[0;36m4\u001b[0m\u001b[0;34m]\u001b[0m\u001b[0;34m,\u001b[0m \u001b[0;34m[\u001b[0m\u001b[0;34m'open'\u001b[0m\u001b[0;34m,\u001b[0m \u001b[0;34m'close'\u001b[0m\u001b[0;34m,\u001b[0m \u001b[0;34m'high'\u001b[0m\u001b[0;34m,\u001b[0m \u001b[0;34m'low'\u001b[0m\u001b[0;34m]\u001b[0m\u001b[0;34m]\u001b[0m\u001b[0;34m\u001b[0m\u001b[0;34m\u001b[0m\u001b[0m\n\u001b[0m\u001b[1;32m      3\u001b[0m \u001b[0;31m# data.iloc[0:4, data.columns.get_indexer(['open', 'close', 'high', 'low'])]\u001b[0m\u001b[0;34m\u001b[0m\u001b[0;34m\u001b[0m\u001b[0;34m\u001b[0m\u001b[0m\n",
      "\u001b[0;31mNameError\u001b[0m: name 'data' is not defined"
     ]
    }
   ],
   "source": []
  },
  {
   "cell_type": "code",
   "execution_count": null,
   "metadata": {},
   "outputs": [],
   "source": []
  }
 ],
 "metadata": {
  "kernelspec": {
   "display_name": "Python 3",
   "language": "python",
   "name": "python3"
  },
  "language_info": {
   "codemirror_mode": {
    "name": "ipython",
    "version": 3
   },
   "file_extension": ".py",
   "mimetype": "text/x-python",
   "name": "python",
   "nbconvert_exporter": "python",
   "pygments_lexer": "ipython3",
   "version": "3.7.1"
  },
  "toc": {
   "base_numbering": 1,
   "nav_menu": {},
   "number_sections": true,
   "sideBar": true,
   "skip_h1_title": false,
   "title_cell": "Table of Contents",
   "title_sidebar": "Contents",
   "toc_cell": false,
   "toc_position": {},
   "toc_section_display": true,
   "toc_window_display": true
  }
 },
 "nbformat": 4,
 "nbformat_minor": 2
}
