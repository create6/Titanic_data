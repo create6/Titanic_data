{
 "cells": [
  {
   "cell_type": "code",
   "execution_count": 2,
   "metadata": {},
   "outputs": [],
   "source": [
    "import pandas as pd\n",
    "import numpy as np\n",
    "import matplotlib.pyplot as plt\n",
    "from sklearn.model_selection import train_test_split,GridSearchCV #数据集分割,网格搜索与交叉验证\n",
    "from sklearn.metrics import mean_squared_error,mean_absolute_error    \n",
    "#mean_squared_error均方误差,mean_absolute_error平均均方误差\n",
    "from sklearn.externals import joblib  #模型保存\n",
    "from sklearn.linear_model import LinearRegression,SGDRegressor,Ridge \n"
   ]
  },
  {
   "cell_type": "code",
   "execution_count": 3,
   "metadata": {},
   "outputs": [],
   "source": [
    "#1,加载数据\n",
    "data_train = pd.read_csv('../data_PUBG_to_stu/train_V2.csv')\n",
    "data_test = pd.read_csv('../data_PUBG_to_stu/test_V2.csv')"
   ]
  },
  {
   "cell_type": "code",
   "execution_count": 10,
   "metadata": {},
   "outputs": [],
   "source": [
    "# 删除空行\n",
    "new_train = data_train.dropna()\n"
   ]
  },
  {
   "cell_type": "code",
   "execution_count": 11,
   "metadata": {},
   "outputs": [],
   "source": [
    "x_drop_matchType = new_train.drop(['matchType'], axis=1) \n",
    "\n",
    "x = x_drop_matchType.iloc[:, 3:-1].values\n",
    "y= new_train['winPlacePerc']\n",
    "\n",
    "\n",
    "# x = x_drop_matchType.iloc[1:50000, 3:-1].values\n",
    "# y= data_train[1:50000,'winPlacePerc']"
   ]
  },
  {
   "cell_type": "code",
   "execution_count": 12,
   "metadata": {},
   "outputs": [],
   "source": [
    "#2.3(对训练集)数据分割\n",
    "x_train,x_test,y_train,y_test = train_test_split(x,y,test_size =0.3,random_state = 8)\n"
   ]
  },
  {
   "cell_type": "code",
   "execution_count": null,
   "metadata": {
    "scrolled": true
   },
   "outputs": [],
   "source": [
    "def general(estimator_method):\n",
    "\n",
    "    \n",
    "    #机器学习 \n",
    "    estimator = estimator_method()#代入\n",
    "    estimator.fit(x_train,y_train)\n",
    "    \n",
    "    #模型评估\n",
    "#     print('模型系数:',estimator.coef_)\n",
    "#     print('模型偏置:',estimator.intercept_)\n",
    "    #预测\n",
    "    y_pre = estimator.predict(x_test)\n",
    "\n",
    "    #模型评估\n",
    "  \n",
    "    #平均绝对误差\n",
    "    mae = mean_absolute_error(y_test,y_pre)\n",
    "    print('平均绝对误差:',mae)\n",
    "    print('-'*20)\n",
    "    \n",
    "\n",
    "# general(SGDRegressor)\n",
    "# general(Ridge)"
   ]
  },
  {
   "cell_type": "code",
   "execution_count": null,
   "metadata": {},
   "outputs": [],
   "source": [
    "# 调用   \n",
    "general(LinearRegression)"
   ]
  },
  {
   "cell_type": "code",
   "execution_count": 14,
   "metadata": {},
   "outputs": [
    {
     "name": "stderr",
     "output_type": "stream",
     "text": [
      "c:\\users\\struggle6\\appdata\\local\\programs\\python\\python37\\lib\\site-packages\\sklearn\\linear_model\\stochastic_gradient.py:166: FutureWarning: max_iter and tol parameters have been added in SGDRegressor in 0.19. If both are left unset, they default to max_iter=5 and tol=None. If tol is not None, max_iter defaults to max_iter=1000. From 0.21, default max_iter will be 1000, and default tol will be 1e-3.\n",
      "  FutureWarning)\n"
     ]
    },
    {
     "name": "stdout",
     "output_type": "stream",
     "text": [
      "模型系数: [-2.50468935e+11  6.38662354e+11 -4.07582793e+11 -1.42068468e+11\n",
      " -2.02442814e+11 -4.39895340e+11 -4.69903433e+11 -3.41756763e+11\n",
      " -2.58918941e+11 -1.78790016e+11  1.81368584e+11  2.14613802e+11\n",
      "  1.64788795e+10 -3.28978739e+10  7.25566474e+10 -5.07219861e+11\n",
      " -6.40845081e+11  2.09120188e+10  1.98977000e+11 -1.24132614e+11\n",
      "  1.37169711e+11  1.06890481e+11 -1.71432476e+11 -2.28919936e+11]\n",
      "模型偏置: [-1.95721994e+10]\n",
      "均方误差: 1.0715327017189e+30\n",
      "平均绝对误差: 683166369315444.4\n",
      "--------------------\n"
     ]
    }
   ],
   "source": [
    "general(SGDRegressor)"
   ]
  },
  {
   "cell_type": "code",
   "execution_count": 15,
   "metadata": {},
   "outputs": [
    {
     "name": "stdout",
     "output_type": "stream",
     "text": [
      "模型系数: [ 1.40301503e-02  1.44213332e-02  5.74591276e-05 -4.73920363e-03\n",
      "  1.84671160e-03  7.64028071e-04 -6.99483753e-03 -3.95711800e-05\n",
      " -1.51929921e-02 -1.33260005e-01  5.04104202e-06 -1.60691739e-04\n",
      " -7.49600360e-03  8.81296159e-03  1.12062450e-04  1.43999144e-02\n",
      "  1.77107936e-05  1.69255649e-02  1.12077156e-04 -1.45799079e-02\n",
      "  8.77148781e-03  1.14710178e-04  1.11614442e-02  1.44270480e-04]\n",
      "模型偏置: 0.7213886315992172\n",
      "均方误差: 0.016030891400273646\n",
      "平均绝对误差: 0.09268343197484377\n",
      "--------------------\n"
     ]
    }
   ],
   "source": [
    "general(Ridge)"
   ]
  },
  {
   "cell_type": "code",
   "execution_count": 17,
   "metadata": {},
   "outputs": [],
   "source": [
    "from sklearn.neighbors import KNeighborsRegressor\n",
    "from sklearn.tree import DecisionTreeRegressor"
   ]
  },
  {
   "cell_type": "code",
   "execution_count": null,
   "metadata": {},
   "outputs": [],
   "source": [
    "general(KNeighborsRegressor)"
   ]
  },
  {
   "cell_type": "code",
   "execution_count": null,
   "metadata": {},
   "outputs": [],
   "source": [
    "general(DecisionTreeRegressor)"
   ]
  },
  {
   "cell_type": "code",
   "execution_count": null,
   "metadata": {},
   "outputs": [],
   "source": [
    "from xgboost import XGB"
   ]
  },
  {
   "cell_type": "code",
   "execution_count": null,
   "metadata": {},
   "outputs": [],
   "source": []
  },
  {
   "cell_type": "code",
   "execution_count": null,
   "metadata": {},
   "outputs": [],
   "source": []
  },
  {
   "cell_type": "code",
   "execution_count": null,
   "metadata": {},
   "outputs": [],
   "source": []
  },
  {
   "cell_type": "code",
   "execution_count": null,
   "metadata": {},
   "outputs": [],
   "source": []
  }
 ],
 "metadata": {
  "kernelspec": {
   "display_name": "Python 3",
   "language": "python",
   "name": "python3"
  },
  "language_info": {
   "codemirror_mode": {
    "name": "ipython",
    "version": 3
   },
   "file_extension": ".py",
   "mimetype": "text/x-python",
   "name": "python",
   "nbconvert_exporter": "python",
   "pygments_lexer": "ipython3",
   "version": "3.7.0"
  },
  "toc": {
   "base_numbering": 1,
   "nav_menu": {},
   "number_sections": true,
   "sideBar": true,
   "skip_h1_title": false,
   "title_cell": "Table of Contents",
   "title_sidebar": "Contents",
   "toc_cell": false,
   "toc_position": {},
   "toc_section_display": true,
   "toc_window_display": false
  }
 },
 "nbformat": 4,
 "nbformat_minor": 2
}
