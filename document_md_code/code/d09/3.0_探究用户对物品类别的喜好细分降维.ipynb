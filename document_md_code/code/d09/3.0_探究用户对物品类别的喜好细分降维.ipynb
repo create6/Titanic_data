{
 "cells": [
  {
   "cell_type": "code",
   "execution_count": 1,
   "metadata": {},
   "outputs": [],
   "source": [
    "import pandas as pd\n",
    "from sklearn.decomposition import PCA\n",
    "from sklearn.cluster import KMeans\n",
    "from sklearn.metrics.cluster import calinski_harabaz_score, silhouette_score\n",
    "\n",
    "# 1. 加载数据\n",
    "# 2.数据基本处理\n",
    "# 2.1. 数据合并\n",
    "# 2.2 交叉表统计\n",
    "# 3. 特征工程(特征降维-主成分分析)\n",
    "# 4. 机器学习(模型训练-KMeans)\n",
    "# 5. 模型评估"
   ]
  },
  {
   "cell_type": "code",
   "execution_count": 2,
   "metadata": {},
   "outputs": [],
   "source": [
    "# 1. 加载数据\n",
    "orders = pd.read_csv('data/instacart/orders.csv')\n",
    "order_products__prior = pd.read_csv('./data/instacart/order_products__prior.csv')\n",
    "products = pd.read_csv('./data/instacart/products.csv')\n",
    "aisles = pd.read_csv('./data/instacart/aisles.csv')"
   ]
  },
  {
   "cell_type": "code",
   "execution_count": 3,
   "metadata": {},
   "outputs": [],
   "source": [
    "# 2.数据基本处理\n",
    "# 2.1. 数据合并\n",
    "table1 = pd.merge(orders, order_products__prior, on='order_id')\n",
    "table2 = pd.merge(table1, products, on='product_id')\n",
    "table3 = pd.merge(table2, aisles, on='aisle_id')"
   ]
  },
  {
   "cell_type": "code",
   "execution_count": 5,
   "metadata": {},
   "outputs": [
    {
     "data": {
      "text/plain": [
       "(206209, 134)"
      ]
     },
     "execution_count": 5,
     "metadata": {},
     "output_type": "execute_result"
    }
   ],
   "source": [
    "# 2.2 交叉表统计\n",
    "# table3.shape\n",
    "table = pd.crosstab(index=table3['user_id'], columns=table3['aisle'])\n",
    "table.shape"
   ]
  },
  {
   "cell_type": "code",
   "execution_count": 7,
   "metadata": {},
   "outputs": [
    {
     "data": {
      "text/plain": [
       "(206209, 27)"
      ]
     },
     "execution_count": 7,
     "metadata": {},
     "output_type": "execute_result"
    }
   ],
   "source": [
    "# 3. 特征工程(特征降维-主成分分析)\n",
    "# table.head()\n",
    "transfer = PCA(n_components=0.9)\n",
    "datas = transfer.fit_transform(table)\n",
    "datas.shape"
   ]
  },
  {
   "cell_type": "code",
   "execution_count": 8,
   "metadata": {},
   "outputs": [],
   "source": [
    "# 4. 机器学习(模型训练-KMeans)\n",
    "estimator = KMeans(n_clusters=8)\n",
    "y_pred = estimator.fit_predict(datas)"
   ]
  },
  {
   "cell_type": "code",
   "execution_count": 9,
   "metadata": {},
   "outputs": [
    {
     "name": "stdout",
     "output_type": "stream",
     "text": [
      "CH系数 37475.744666570485\n"
     ]
    }
   ],
   "source": [
    "# 5. 模型评估\n",
    "print('CH系数', calinski_harabaz_score(datas, y_pred))"
   ]
  },
  {
   "cell_type": "code",
   "execution_count": 10,
   "metadata": {},
   "outputs": [
    {
     "name": "stdout",
     "output_type": "stream",
     "text": [
      "轮廓系数 0.33496077349842696\n"
     ]
    }
   ],
   "source": [
    "print('轮廓系数', silhouette_score(datas, y_pred))\n",
    "\n",
    "# 1. 加载数据\n",
    "# 2.数据基本处理\n",
    "# 2.1. 数据合并\n",
    "# 2.2 交叉表统计\n",
    "# 3. 特征工程(特征降维-主成分分析)\n",
    "# 4. 机器学习(模型训练-KMeans)\n",
    "# 5. 模型评估"
   ]
  },
  {
   "cell_type": "code",
   "execution_count": null,
   "metadata": {},
   "outputs": [],
   "source": []
  }
 ],
 "metadata": {
  "kernelspec": {
   "display_name": "Python 3",
   "language": "python",
   "name": "python3"
  },
  "language_info": {
   "codemirror_mode": {
    "name": "ipython",
    "version": 3
   },
   "file_extension": ".py",
   "mimetype": "text/x-python",
   "name": "python",
   "nbconvert_exporter": "python",
   "pygments_lexer": "ipython3",
   "version": "3.7.1"
  },
  "toc": {
   "base_numbering": 1,
   "nav_menu": {},
   "number_sections": true,
   "sideBar": true,
   "skip_h1_title": false,
   "title_cell": "Table of Contents",
   "title_sidebar": "Contents",
   "toc_cell": false,
   "toc_position": {},
   "toc_section_display": true,
   "toc_window_display": false
  }
 },
 "nbformat": 4,
 "nbformat_minor": 2
}
