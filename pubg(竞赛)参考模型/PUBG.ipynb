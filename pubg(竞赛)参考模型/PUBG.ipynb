{
 "cells": [
  {
   "cell_type": "markdown",
   "metadata": {},
   "source": [
    "# 《绝地求生》玩家排名预测\n",
    "                   ---- 你能预测《绝地求生》玩家战斗结束后的排名吗？\n"
   ]
  },
  {
   "cell_type": "markdown",
   "metadata": {},
   "source": [
    "![img1](./img/img1.png)"
   ]
  },
  {
   "cell_type": "markdown",
   "metadata": {},
   "source": [
    "# 项目背景\n",
    "## 项目简介\n",
    "绝地求生(Player unknown's Battlegrounds)，俗称吃鸡，是一款战术竞技型射击类沙盒游戏。\n",
    "这款游戏是一款大逃杀类型的游戏，每一局游戏将有最多100名玩家参与，他们将被投放在绝地岛(battlegrounds)上，在游戏的开始时所有人都一无所有。玩家需要在岛上收集各种资源，在不断缩小的安全区域内对抗其他玩家，让自己生存到最后。\n",
    "\n",
    "该游戏拥有很高的自由度，玩家可以体验飞机跳伞、开越野车、丛林射击、抢夺战利品等玩法，小心四周埋伏的敌人，尽可能成为最后1个存活的人。\n"
   ]
  },
  {
   "cell_type": "markdown",
   "metadata": {},
   "source": [
    "![img2](./img/img2.png)"
   ]
  },
  {
   "cell_type": "markdown",
   "metadata": {},
   "source": [
    "## 项目涉及知识点\n",
    " - sklearn基本操作\n",
    " - 数据基本处理\n",
    " - 机器学习基本算法的使用\n"
   ]
  },
  {
   "cell_type": "markdown",
   "metadata": {},
   "source": [
    "## 数据集介绍\n",
    "本项目中，将为您提供大量匿名的《绝地求生》游戏统计数据。\n",
    "其格式为每行包含一个玩家的游戏后统计数据，列为数据的特征值。\n",
    "数据来自所有类型的比赛：单排，双排，四排；不保证每场比赛有100名人员，每组最多4名成员。\n",
    "\n",
    "文件说明:\n",
    "\n",
    "- train_V2.csv - 训练集\n",
    "\n",
    "- test_V2.csv - 测试集\n"
   ]
  },
  {
   "cell_type": "markdown",
   "metadata": {},
   "source": [
    "数据集局部图如下图所示:"
   ]
  },
  {
   "cell_type": "markdown",
   "metadata": {},
   "source": [
    "![img3](./img/img3.png)"
   ]
  },
  {
   "cell_type": "markdown",
   "metadata": {},
   "source": [
    "数据集中字段解释："
   ]
  },
  {
   "cell_type": "markdown",
   "metadata": {},
   "source": [
    "- Id [用户id]\n",
    "  - Player’s Id\n",
    "- groupId [所处小队id]\n",
    "  - ID to identify a group within a match. If the same group of players plays in different matches, they will have a different groupId each time.\n",
    "- matchId [该场比赛id]\n",
    "  - ID to identify match. There are no matches that are in both the training and testing set.\n",
    "- assists [助攻数]\n",
    "  - Number of enemy players this player damaged that were killed by teammates.\n",
    "- boosts [使用能量,道具数量]\n",
    "  - Number of boost items used.\n",
    "- damageDealt [总伤害]\n",
    "  - Total damage dealt. Note: Self inflicted damage is subtracted.\n",
    "- DBNOs [击倒敌人数量]\n",
    "  - Number of enemy players knocked.\n",
    "- headshotKills [爆头数]\n",
    "  - Number of enemy players killed with headshots.\n",
    "- heals [使用治疗药品数量]\n",
    "  - Number of healing items used.\n",
    "- killPlace [本厂比赛杀敌排行]\n",
    "  - Ranking in match of number of enemy players killed.\n",
    "- killPoints [Elo杀敌排名]\n",
    "  - Kills-based external ranking of player. (Think of this as an Elo ranking where only kills matter.) If there is a value other than -1 in rankPoints, then any 0 in killPoints should be treated as a “None”.\n",
    "- kills [杀敌数]\n",
    "  - Number of enemy players killed.\n",
    "- killStreaks [连续杀敌数]\n",
    "  - Max number of enemy players killed in a short amount of time.\n",
    "- longestKill [最远杀敌距离]\n",
    "  - Longest distance between player and player killed at time of death. This may be misleading, as downing a player and driving away may lead to a large longestKill stat.\n",
    "- matchDuration [比赛时长] \n",
    "  - Duration of match in seconds.\n",
    "- matchType [比赛类型(小组人数)]\n",
    "  - String identifying the game mode that the data comes from. The standard modes are “solo”, “duo”, “squad”, “solo-fpp”, “duo-fpp”, and “squad-fpp”; other modes are from events or custom matches.\n",
    "- maxPlace [本局最差名次]\n",
    "  - Worst placement we have data for in the match. This may not match with numGroups, as sometimes the data skips over placements.\n",
    "- numGroups [小组数量]\n",
    "  - Number of groups we have data for in the match.\n",
    "- rankPoints [Elo排名]\n",
    "  - Elo-like ranking of player. This ranking is inconsistent and is being deprecated in the API’s next version, so use with caution. Value of -1 takes place of “None”.\n",
    "- revives [救活队员的次数]\n",
    "  - Number of times this player revived teammates.\n",
    "- rideDistance [驾车距离]\n",
    "  - Total distance traveled in vehicles measured in meters.\n",
    "- roadKills [驾车杀敌数]\n",
    "  - Number of kills while in a vehicle.\n",
    "- swimDistance [游泳距离]\n",
    "  - Total distance traveled by swimming measured in meters.\n",
    "- teamKills [杀死队友的次数]\n",
    "  - Number of times this player killed a teammate.\n",
    "- vehicleDestroys [毁坏机动车的数量]\n",
    "  - Number of vehicles destroyed.\n",
    "- walkDistance [步行距离]\n",
    "  - Total distance traveled on foot measured in meters.\n",
    "- weaponsAcquired [收集武器的数量]\n",
    "  - Number of weapons picked up.\n",
    "- winPoints [胜率Elo排名]\n",
    "  - Win-based external ranking of player. (Think of this as an Elo ranking where only winning matters.) If there is a value other than -1 in rankPoints, then any 0 in winPoints should be treated as a “None”.\n",
    "- winPlacePerc [百分比排名]\n",
    "  - The target of prediction. This is a percentile winning placement, where 1 corresponds to 1st place, and 0 corresponds to last place in the match. It is calculated off of maxPlace, not numGroups, so it is possible to have missing chunks in a match."
   ]
  },
  {
   "cell_type": "markdown",
   "metadata": {},
   "source": [
    "# 项目评估方式\n",
    "## 评估方式\n",
    "你必须创建一个模型，根据他们的最终统计数据预测玩家的排名，从1（第一名）到0（最后一名）。\n",
    "\n",
    "最后结果通过平均绝对误差（MAE）进行评估，即通过预测的winPlacePerc和真实的winPlacePerc之间的平均绝对误差"
   ]
  },
  {
   "cell_type": "markdown",
   "metadata": {},
   "source": [
    "## MAE(Maean Absolute Error)介绍\n",
    " - 就是绝对误差的平均值\n",
    " - 能更好地反映预测值误差的实际情况\n",
    "     $$ MAE(X,h) = \\frac{1}{m} \\sum_{i=1}^{m} {|h(x^{(i)}) - y^{(i)}|}$$\n",
    " \n",
    "api:\n",
    " - sklearn.metrics.mean_absolute_error"
   ]
  },
  {
   "cell_type": "markdown",
   "metadata": {},
   "source": [
    "# 项目实现（数据分析+RL）\n",
    "在接下来的分析中，我们将分析数据集，检测异常值。\n",
    "\n",
    "然后我们通过随机森林模型对其训练，并对对该模型进行了优化。"
   ]
  },
  {
   "cell_type": "code",
   "execution_count": 3,
   "metadata": {},
   "outputs": [],
   "source": [
    "# 导入数据基本处理阶段需要用到的api\n",
    "import pandas as pd\n",
    "import matplotlib.pyplot as plt\n",
    "import numpy as np\n",
    "import seaborn as sns"
   ]
  },
  {
   "cell_type": "markdown",
   "metadata": {},
   "source": [
    "## 获取数据、基本数据信息查看\n",
    "导入数据，且查看数据的基本信息"
   ]
  },
  {
   "cell_type": "code",
   "execution_count": 4,
   "metadata": {},
   "outputs": [],
   "source": [
    "train = pd.read_csv(\"../data/train_V2.csv\")"
   ]
  },
  {
   "cell_type": "code",
   "execution_count": 13,
   "metadata": {},
   "outputs": [],
   "source": [
    "new_train = train.dropna()"
   ]
  },
  {
   "cell_type": "code",
   "execution_count": 14,
   "metadata": {},
   "outputs": [
    {
     "data": {
      "text/html": [
       "<div>\n",
       "<style scoped>\n",
       "    .dataframe tbody tr th:only-of-type {\n",
       "        vertical-align: middle;\n",
       "    }\n",
       "\n",
       "    .dataframe tbody tr th {\n",
       "        vertical-align: top;\n",
       "    }\n",
       "\n",
       "    .dataframe thead th {\n",
       "        text-align: right;\n",
       "    }\n",
       "</style>\n",
       "<table border=\"1\" class=\"dataframe\">\n",
       "  <thead>\n",
       "    <tr style=\"text-align: right;\">\n",
       "      <th></th>\n",
       "      <th>assists</th>\n",
       "      <th>boosts</th>\n",
       "      <th>damageDealt</th>\n",
       "      <th>DBNOs</th>\n",
       "      <th>headshotKills</th>\n",
       "      <th>heals</th>\n",
       "      <th>killPlace</th>\n",
       "      <th>killPoints</th>\n",
       "      <th>kills</th>\n",
       "      <th>killStreaks</th>\n",
       "      <th>...</th>\n",
       "      <th>revives</th>\n",
       "      <th>rideDistance</th>\n",
       "      <th>roadKills</th>\n",
       "      <th>swimDistance</th>\n",
       "      <th>teamKills</th>\n",
       "      <th>vehicleDestroys</th>\n",
       "      <th>walkDistance</th>\n",
       "      <th>weaponsAcquired</th>\n",
       "      <th>winPoints</th>\n",
       "      <th>winPlacePerc</th>\n",
       "    </tr>\n",
       "  </thead>\n",
       "  <tbody>\n",
       "    <tr>\n",
       "      <th>count</th>\n",
       "      <td>4.446965e+06</td>\n",
       "      <td>4.446965e+06</td>\n",
       "      <td>4.446965e+06</td>\n",
       "      <td>4.446965e+06</td>\n",
       "      <td>4.446965e+06</td>\n",
       "      <td>4.446965e+06</td>\n",
       "      <td>4.446965e+06</td>\n",
       "      <td>4.446965e+06</td>\n",
       "      <td>4.446965e+06</td>\n",
       "      <td>4.446965e+06</td>\n",
       "      <td>...</td>\n",
       "      <td>4.446965e+06</td>\n",
       "      <td>4.446965e+06</td>\n",
       "      <td>4.446965e+06</td>\n",
       "      <td>4.446965e+06</td>\n",
       "      <td>4.446965e+06</td>\n",
       "      <td>4.446965e+06</td>\n",
       "      <td>4.446965e+06</td>\n",
       "      <td>4.446965e+06</td>\n",
       "      <td>4.446965e+06</td>\n",
       "      <td>4.446965e+06</td>\n",
       "    </tr>\n",
       "    <tr>\n",
       "      <th>mean</th>\n",
       "      <td>2.338150e-01</td>\n",
       "      <td>1.106908e+00</td>\n",
       "      <td>1.307172e+02</td>\n",
       "      <td>6.578757e-01</td>\n",
       "      <td>2.268196e-01</td>\n",
       "      <td>1.370148e+00</td>\n",
       "      <td>4.759936e+01</td>\n",
       "      <td>5.050062e+02</td>\n",
       "      <td>9.247835e-01</td>\n",
       "      <td>5.439553e-01</td>\n",
       "      <td>...</td>\n",
       "      <td>1.646590e-01</td>\n",
       "      <td>6.061158e+02</td>\n",
       "      <td>3.496092e-03</td>\n",
       "      <td>4.509323e+00</td>\n",
       "      <td>2.386841e-02</td>\n",
       "      <td>7.918209e-03</td>\n",
       "      <td>1.154218e+03</td>\n",
       "      <td>3.660488e+00</td>\n",
       "      <td>6.064603e+02</td>\n",
       "      <td>4.728216e-01</td>\n",
       "    </tr>\n",
       "    <tr>\n",
       "      <th>std</th>\n",
       "      <td>5.885731e-01</td>\n",
       "      <td>1.715794e+00</td>\n",
       "      <td>1.707806e+02</td>\n",
       "      <td>1.145743e+00</td>\n",
       "      <td>6.021553e-01</td>\n",
       "      <td>2.679982e+00</td>\n",
       "      <td>2.746293e+01</td>\n",
       "      <td>6.275049e+02</td>\n",
       "      <td>1.558445e+00</td>\n",
       "      <td>7.109721e-01</td>\n",
       "      <td>...</td>\n",
       "      <td>4.721671e-01</td>\n",
       "      <td>1.498344e+03</td>\n",
       "      <td>7.337297e-02</td>\n",
       "      <td>3.050220e+01</td>\n",
       "      <td>1.673935e-01</td>\n",
       "      <td>9.261158e-02</td>\n",
       "      <td>1.183497e+03</td>\n",
       "      <td>2.456543e+00</td>\n",
       "      <td>7.397005e+02</td>\n",
       "      <td>3.074050e-01</td>\n",
       "    </tr>\n",
       "    <tr>\n",
       "      <th>min</th>\n",
       "      <td>0.000000e+00</td>\n",
       "      <td>0.000000e+00</td>\n",
       "      <td>0.000000e+00</td>\n",
       "      <td>0.000000e+00</td>\n",
       "      <td>0.000000e+00</td>\n",
       "      <td>0.000000e+00</td>\n",
       "      <td>1.000000e+00</td>\n",
       "      <td>0.000000e+00</td>\n",
       "      <td>0.000000e+00</td>\n",
       "      <td>0.000000e+00</td>\n",
       "      <td>...</td>\n",
       "      <td>0.000000e+00</td>\n",
       "      <td>0.000000e+00</td>\n",
       "      <td>0.000000e+00</td>\n",
       "      <td>0.000000e+00</td>\n",
       "      <td>0.000000e+00</td>\n",
       "      <td>0.000000e+00</td>\n",
       "      <td>0.000000e+00</td>\n",
       "      <td>0.000000e+00</td>\n",
       "      <td>0.000000e+00</td>\n",
       "      <td>0.000000e+00</td>\n",
       "    </tr>\n",
       "    <tr>\n",
       "      <th>25%</th>\n",
       "      <td>0.000000e+00</td>\n",
       "      <td>0.000000e+00</td>\n",
       "      <td>0.000000e+00</td>\n",
       "      <td>0.000000e+00</td>\n",
       "      <td>0.000000e+00</td>\n",
       "      <td>0.000000e+00</td>\n",
       "      <td>2.400000e+01</td>\n",
       "      <td>0.000000e+00</td>\n",
       "      <td>0.000000e+00</td>\n",
       "      <td>0.000000e+00</td>\n",
       "      <td>...</td>\n",
       "      <td>0.000000e+00</td>\n",
       "      <td>0.000000e+00</td>\n",
       "      <td>0.000000e+00</td>\n",
       "      <td>0.000000e+00</td>\n",
       "      <td>0.000000e+00</td>\n",
       "      <td>0.000000e+00</td>\n",
       "      <td>1.551000e+02</td>\n",
       "      <td>2.000000e+00</td>\n",
       "      <td>0.000000e+00</td>\n",
       "      <td>2.000000e-01</td>\n",
       "    </tr>\n",
       "    <tr>\n",
       "      <th>50%</th>\n",
       "      <td>0.000000e+00</td>\n",
       "      <td>0.000000e+00</td>\n",
       "      <td>8.424000e+01</td>\n",
       "      <td>0.000000e+00</td>\n",
       "      <td>0.000000e+00</td>\n",
       "      <td>0.000000e+00</td>\n",
       "      <td>4.700000e+01</td>\n",
       "      <td>0.000000e+00</td>\n",
       "      <td>0.000000e+00</td>\n",
       "      <td>0.000000e+00</td>\n",
       "      <td>...</td>\n",
       "      <td>0.000000e+00</td>\n",
       "      <td>0.000000e+00</td>\n",
       "      <td>0.000000e+00</td>\n",
       "      <td>0.000000e+00</td>\n",
       "      <td>0.000000e+00</td>\n",
       "      <td>0.000000e+00</td>\n",
       "      <td>6.856000e+02</td>\n",
       "      <td>3.000000e+00</td>\n",
       "      <td>0.000000e+00</td>\n",
       "      <td>4.583000e-01</td>\n",
       "    </tr>\n",
       "    <tr>\n",
       "      <th>75%</th>\n",
       "      <td>0.000000e+00</td>\n",
       "      <td>2.000000e+00</td>\n",
       "      <td>1.860000e+02</td>\n",
       "      <td>1.000000e+00</td>\n",
       "      <td>0.000000e+00</td>\n",
       "      <td>2.000000e+00</td>\n",
       "      <td>7.100000e+01</td>\n",
       "      <td>1.172000e+03</td>\n",
       "      <td>1.000000e+00</td>\n",
       "      <td>1.000000e+00</td>\n",
       "      <td>...</td>\n",
       "      <td>0.000000e+00</td>\n",
       "      <td>1.910000e-01</td>\n",
       "      <td>0.000000e+00</td>\n",
       "      <td>0.000000e+00</td>\n",
       "      <td>0.000000e+00</td>\n",
       "      <td>0.000000e+00</td>\n",
       "      <td>1.976000e+03</td>\n",
       "      <td>5.000000e+00</td>\n",
       "      <td>1.495000e+03</td>\n",
       "      <td>7.407000e-01</td>\n",
       "    </tr>\n",
       "    <tr>\n",
       "      <th>max</th>\n",
       "      <td>2.200000e+01</td>\n",
       "      <td>3.300000e+01</td>\n",
       "      <td>6.616000e+03</td>\n",
       "      <td>5.300000e+01</td>\n",
       "      <td>6.400000e+01</td>\n",
       "      <td>8.000000e+01</td>\n",
       "      <td>1.010000e+02</td>\n",
       "      <td>2.170000e+03</td>\n",
       "      <td>7.200000e+01</td>\n",
       "      <td>2.000000e+01</td>\n",
       "      <td>...</td>\n",
       "      <td>3.900000e+01</td>\n",
       "      <td>4.071000e+04</td>\n",
       "      <td>1.800000e+01</td>\n",
       "      <td>3.823000e+03</td>\n",
       "      <td>1.200000e+01</td>\n",
       "      <td>5.000000e+00</td>\n",
       "      <td>2.578000e+04</td>\n",
       "      <td>2.360000e+02</td>\n",
       "      <td>2.013000e+03</td>\n",
       "      <td>1.000000e+00</td>\n",
       "    </tr>\n",
       "  </tbody>\n",
       "</table>\n",
       "<p>8 rows × 25 columns</p>\n",
       "</div>"
      ],
      "text/plain": [
       "            assists        boosts   damageDealt         DBNOs  headshotKills  \\\n",
       "count  4.446965e+06  4.446965e+06  4.446965e+06  4.446965e+06   4.446965e+06   \n",
       "mean   2.338150e-01  1.106908e+00  1.307172e+02  6.578757e-01   2.268196e-01   \n",
       "std    5.885731e-01  1.715794e+00  1.707806e+02  1.145743e+00   6.021553e-01   \n",
       "min    0.000000e+00  0.000000e+00  0.000000e+00  0.000000e+00   0.000000e+00   \n",
       "25%    0.000000e+00  0.000000e+00  0.000000e+00  0.000000e+00   0.000000e+00   \n",
       "50%    0.000000e+00  0.000000e+00  8.424000e+01  0.000000e+00   0.000000e+00   \n",
       "75%    0.000000e+00  2.000000e+00  1.860000e+02  1.000000e+00   0.000000e+00   \n",
       "max    2.200000e+01  3.300000e+01  6.616000e+03  5.300000e+01   6.400000e+01   \n",
       "\n",
       "              heals     killPlace    killPoints         kills   killStreaks  \\\n",
       "count  4.446965e+06  4.446965e+06  4.446965e+06  4.446965e+06  4.446965e+06   \n",
       "mean   1.370148e+00  4.759936e+01  5.050062e+02  9.247835e-01  5.439553e-01   \n",
       "std    2.679982e+00  2.746293e+01  6.275049e+02  1.558445e+00  7.109721e-01   \n",
       "min    0.000000e+00  1.000000e+00  0.000000e+00  0.000000e+00  0.000000e+00   \n",
       "25%    0.000000e+00  2.400000e+01  0.000000e+00  0.000000e+00  0.000000e+00   \n",
       "50%    0.000000e+00  4.700000e+01  0.000000e+00  0.000000e+00  0.000000e+00   \n",
       "75%    2.000000e+00  7.100000e+01  1.172000e+03  1.000000e+00  1.000000e+00   \n",
       "max    8.000000e+01  1.010000e+02  2.170000e+03  7.200000e+01  2.000000e+01   \n",
       "\n",
       "           ...            revives  rideDistance     roadKills  swimDistance  \\\n",
       "count      ...       4.446965e+06  4.446965e+06  4.446965e+06  4.446965e+06   \n",
       "mean       ...       1.646590e-01  6.061158e+02  3.496092e-03  4.509323e+00   \n",
       "std        ...       4.721671e-01  1.498344e+03  7.337297e-02  3.050220e+01   \n",
       "min        ...       0.000000e+00  0.000000e+00  0.000000e+00  0.000000e+00   \n",
       "25%        ...       0.000000e+00  0.000000e+00  0.000000e+00  0.000000e+00   \n",
       "50%        ...       0.000000e+00  0.000000e+00  0.000000e+00  0.000000e+00   \n",
       "75%        ...       0.000000e+00  1.910000e-01  0.000000e+00  0.000000e+00   \n",
       "max        ...       3.900000e+01  4.071000e+04  1.800000e+01  3.823000e+03   \n",
       "\n",
       "          teamKills  vehicleDestroys  walkDistance  weaponsAcquired  \\\n",
       "count  4.446965e+06     4.446965e+06  4.446965e+06     4.446965e+06   \n",
       "mean   2.386841e-02     7.918209e-03  1.154218e+03     3.660488e+00   \n",
       "std    1.673935e-01     9.261158e-02  1.183497e+03     2.456543e+00   \n",
       "min    0.000000e+00     0.000000e+00  0.000000e+00     0.000000e+00   \n",
       "25%    0.000000e+00     0.000000e+00  1.551000e+02     2.000000e+00   \n",
       "50%    0.000000e+00     0.000000e+00  6.856000e+02     3.000000e+00   \n",
       "75%    0.000000e+00     0.000000e+00  1.976000e+03     5.000000e+00   \n",
       "max    1.200000e+01     5.000000e+00  2.578000e+04     2.360000e+02   \n",
       "\n",
       "          winPoints  winPlacePerc  \n",
       "count  4.446965e+06  4.446965e+06  \n",
       "mean   6.064603e+02  4.728216e-01  \n",
       "std    7.397005e+02  3.074050e-01  \n",
       "min    0.000000e+00  0.000000e+00  \n",
       "25%    0.000000e+00  2.000000e-01  \n",
       "50%    0.000000e+00  4.583000e-01  \n",
       "75%    1.495000e+03  7.407000e-01  \n",
       "max    2.013000e+03  1.000000e+00  \n",
       "\n",
       "[8 rows x 25 columns]"
      ]
     },
     "execution_count": 14,
     "metadata": {},
     "output_type": "execute_result"
    }
   ],
   "source": [
    "train.describe()"
   ]
  },
  {
   "cell_type": "code",
   "execution_count": 6,
   "metadata": {},
   "outputs": [
    {
     "name": "stdout",
     "output_type": "stream",
     "text": [
      "<class 'pandas.core.frame.DataFrame'>\n",
      "RangeIndex: 4446966 entries, 0 to 4446965\n",
      "Data columns (total 29 columns):\n",
      "Id                 object\n",
      "groupId            object\n",
      "matchId            object\n",
      "assists            int64\n",
      "boosts             int64\n",
      "damageDealt        float64\n",
      "DBNOs              int64\n",
      "headshotKills      int64\n",
      "heals              int64\n",
      "killPlace          int64\n",
      "killPoints         int64\n",
      "kills              int64\n",
      "killStreaks        int64\n",
      "longestKill        float64\n",
      "matchDuration      int64\n",
      "matchType          object\n",
      "maxPlace           int64\n",
      "numGroups          int64\n",
      "rankPoints         int64\n",
      "revives            int64\n",
      "rideDistance       float64\n",
      "roadKills          int64\n",
      "swimDistance       float64\n",
      "teamKills          int64\n",
      "vehicleDestroys    int64\n",
      "walkDistance       float64\n",
      "weaponsAcquired    int64\n",
      "winPoints          int64\n",
      "winPlacePerc       float64\n",
      "dtypes: float64(6), int64(19), object(4)\n",
      "memory usage: 983.9+ MB\n"
     ]
    }
   ],
   "source": [
    "# train.info()"
   ]
  },
  {
   "cell_type": "markdown",
   "metadata": {},
   "source": [
    "可以看到数据一共有4446966条，"
   ]
  },
  {
   "cell_type": "code",
   "execution_count": 15,
   "metadata": {},
   "outputs": [
    {
     "data": {
      "text/plain": [
       "(4446965, 29)"
      ]
     },
     "execution_count": 15,
     "metadata": {},
     "output_type": "execute_result"
    }
   ],
   "source": [
    "train.shape\n",
    "\n"
   ]
  },
  {
   "cell_type": "markdown",
   "metadata": {},
   "source": [
    "## 数据基本处理\n",
    "### 数据缺失值处理\n",
    "查看目标值，我们发现有一条样本，比较特殊，其“winplaceperc”的值为NaN，也就是目标值是缺失值，\n",
    "\n",
    "因为只有一个玩家是这样，直接进行删除处理。"
   ]
  },
  {
   "cell_type": "code",
   "execution_count": 8,
   "metadata": {},
   "outputs": [
    {
     "data": {
      "text/html": [
       "<div>\n",
       "<style scoped>\n",
       "    .dataframe tbody tr th:only-of-type {\n",
       "        vertical-align: middle;\n",
       "    }\n",
       "\n",
       "    .dataframe tbody tr th {\n",
       "        vertical-align: top;\n",
       "    }\n",
       "\n",
       "    .dataframe thead th {\n",
       "        text-align: right;\n",
       "    }\n",
       "</style>\n",
       "<table border=\"1\" class=\"dataframe\">\n",
       "  <thead>\n",
       "    <tr style=\"text-align: right;\">\n",
       "      <th></th>\n",
       "      <th>Id</th>\n",
       "      <th>groupId</th>\n",
       "      <th>matchId</th>\n",
       "      <th>assists</th>\n",
       "      <th>boosts</th>\n",
       "      <th>damageDealt</th>\n",
       "      <th>DBNOs</th>\n",
       "      <th>headshotKills</th>\n",
       "      <th>heals</th>\n",
       "      <th>killPlace</th>\n",
       "      <th>...</th>\n",
       "      <th>revives</th>\n",
       "      <th>rideDistance</th>\n",
       "      <th>roadKills</th>\n",
       "      <th>swimDistance</th>\n",
       "      <th>teamKills</th>\n",
       "      <th>vehicleDestroys</th>\n",
       "      <th>walkDistance</th>\n",
       "      <th>weaponsAcquired</th>\n",
       "      <th>winPoints</th>\n",
       "      <th>winPlacePerc</th>\n",
       "    </tr>\n",
       "  </thead>\n",
       "  <tbody>\n",
       "    <tr>\n",
       "      <th>2744604</th>\n",
       "      <td>f70c74418bb064</td>\n",
       "      <td>12dfbede33f92b</td>\n",
       "      <td>224a123c53e008</td>\n",
       "      <td>0</td>\n",
       "      <td>0</td>\n",
       "      <td>0.0</td>\n",
       "      <td>0</td>\n",
       "      <td>0</td>\n",
       "      <td>0</td>\n",
       "      <td>1</td>\n",
       "      <td>...</td>\n",
       "      <td>0</td>\n",
       "      <td>0.0</td>\n",
       "      <td>0</td>\n",
       "      <td>0.0</td>\n",
       "      <td>0</td>\n",
       "      <td>0</td>\n",
       "      <td>0.0</td>\n",
       "      <td>0</td>\n",
       "      <td>0</td>\n",
       "      <td>NaN</td>\n",
       "    </tr>\n",
       "  </tbody>\n",
       "</table>\n",
       "<p>1 rows × 29 columns</p>\n",
       "</div>"
      ],
      "text/plain": [
       "                     Id         groupId         matchId  assists  boosts  \\\n",
       "2744604  f70c74418bb064  12dfbede33f92b  224a123c53e008        0       0   \n",
       "\n",
       "         damageDealt  DBNOs  headshotKills  heals  killPlace      ...       \\\n",
       "2744604          0.0      0              0      0          1      ...        \n",
       "\n",
       "         revives  rideDistance  roadKills  swimDistance  teamKills  \\\n",
       "2744604        0           0.0          0           0.0          0   \n",
       "\n",
       "        vehicleDestroys  walkDistance  weaponsAcquired  winPoints  \\\n",
       "2744604               0           0.0                0          0   \n",
       "\n",
       "         winPlacePerc  \n",
       "2744604           NaN  \n",
       "\n",
       "[1 rows x 29 columns]"
      ]
     },
     "execution_count": 8,
     "metadata": {},
     "output_type": "execute_result"
    }
   ],
   "source": [
    "# 查看缺失值\n",
    "train[train['winPlacePerc'].isnull()]"
   ]
  },
  {
   "cell_type": "code",
   "execution_count": 9,
   "metadata": {},
   "outputs": [],
   "source": [
    "# 删除缺失值\n",
    "train.drop(2744604, inplace=True)"
   ]
  },
  {
   "cell_type": "code",
   "execution_count": 10,
   "metadata": {},
   "outputs": [
    {
     "data": {
      "text/plain": [
       "(4446965, 29)"
      ]
     },
     "execution_count": 10,
     "metadata": {},
     "output_type": "execute_result"
    }
   ],
   "source": [
    "train.shape"
   ]
  },
  {
   "cell_type": "markdown",
   "metadata": {},
   "source": [
    "### 特征数据规范化处理\n",
    "#### 查看每场比赛参加的人数\n",
    "处理完缺失值之后，我们看一下每场参加的人数会有多少呢，是每次都会匹配100个人，才开始游戏吗？"
   ]
  },
  {
   "cell_type": "code",
   "execution_count": 11,
   "metadata": {},
   "outputs": [],
   "source": [
    "# 显示每场比赛参加人数\n",
    "# transform的作用类似实现了一个一对多的映射功能，把统计数量映射到对应的每个样本上\n",
    "count = train.groupby('matchId')['matchId'].transform('count')"
   ]
  },
  {
   "cell_type": "code",
   "execution_count": 12,
   "metadata": {},
   "outputs": [],
   "source": [
    "train['playersJoined'] = count"
   ]
  },
  {
   "cell_type": "code",
   "execution_count": 13,
   "metadata": {},
   "outputs": [
    {
     "data": {
      "text/plain": [
       "4446965"
      ]
     },
     "execution_count": 13,
     "metadata": {},
     "output_type": "execute_result"
    }
   ],
   "source": [
    "count.count()"
   ]
  },
  {
   "cell_type": "code",
   "execution_count": 14,
   "metadata": {},
   "outputs": [
    {
     "data": {
      "text/html": [
       "<div>\n",
       "<style scoped>\n",
       "    .dataframe tbody tr th:only-of-type {\n",
       "        vertical-align: middle;\n",
       "    }\n",
       "\n",
       "    .dataframe tbody tr th {\n",
       "        vertical-align: top;\n",
       "    }\n",
       "\n",
       "    .dataframe thead th {\n",
       "        text-align: right;\n",
       "    }\n",
       "</style>\n",
       "<table border=\"1\" class=\"dataframe\">\n",
       "  <thead>\n",
       "    <tr style=\"text-align: right;\">\n",
       "      <th></th>\n",
       "      <th>Id</th>\n",
       "      <th>groupId</th>\n",
       "      <th>matchId</th>\n",
       "      <th>assists</th>\n",
       "      <th>boosts</th>\n",
       "      <th>damageDealt</th>\n",
       "      <th>DBNOs</th>\n",
       "      <th>headshotKills</th>\n",
       "      <th>heals</th>\n",
       "      <th>killPlace</th>\n",
       "      <th>...</th>\n",
       "      <th>rideDistance</th>\n",
       "      <th>roadKills</th>\n",
       "      <th>swimDistance</th>\n",
       "      <th>teamKills</th>\n",
       "      <th>vehicleDestroys</th>\n",
       "      <th>walkDistance</th>\n",
       "      <th>weaponsAcquired</th>\n",
       "      <th>winPoints</th>\n",
       "      <th>winPlacePerc</th>\n",
       "      <th>playersJoined</th>\n",
       "    </tr>\n",
       "  </thead>\n",
       "  <tbody>\n",
       "    <tr>\n",
       "      <th>0</th>\n",
       "      <td>7f96b2f878858a</td>\n",
       "      <td>4d4b580de459be</td>\n",
       "      <td>a10357fd1a4a91</td>\n",
       "      <td>0</td>\n",
       "      <td>0</td>\n",
       "      <td>0.00</td>\n",
       "      <td>0</td>\n",
       "      <td>0</td>\n",
       "      <td>0</td>\n",
       "      <td>60</td>\n",
       "      <td>...</td>\n",
       "      <td>0.0000</td>\n",
       "      <td>0</td>\n",
       "      <td>0.00</td>\n",
       "      <td>0</td>\n",
       "      <td>0</td>\n",
       "      <td>244.80</td>\n",
       "      <td>1</td>\n",
       "      <td>1466</td>\n",
       "      <td>0.4444</td>\n",
       "      <td>96</td>\n",
       "    </tr>\n",
       "    <tr>\n",
       "      <th>1</th>\n",
       "      <td>eef90569b9d03c</td>\n",
       "      <td>684d5656442f9e</td>\n",
       "      <td>aeb375fc57110c</td>\n",
       "      <td>0</td>\n",
       "      <td>0</td>\n",
       "      <td>91.47</td>\n",
       "      <td>0</td>\n",
       "      <td>0</td>\n",
       "      <td>0</td>\n",
       "      <td>57</td>\n",
       "      <td>...</td>\n",
       "      <td>0.0045</td>\n",
       "      <td>0</td>\n",
       "      <td>11.04</td>\n",
       "      <td>0</td>\n",
       "      <td>0</td>\n",
       "      <td>1434.00</td>\n",
       "      <td>5</td>\n",
       "      <td>0</td>\n",
       "      <td>0.6400</td>\n",
       "      <td>91</td>\n",
       "    </tr>\n",
       "    <tr>\n",
       "      <th>2</th>\n",
       "      <td>1eaf90ac73de72</td>\n",
       "      <td>6a4a42c3245a74</td>\n",
       "      <td>110163d8bb94ae</td>\n",
       "      <td>1</td>\n",
       "      <td>0</td>\n",
       "      <td>68.00</td>\n",
       "      <td>0</td>\n",
       "      <td>0</td>\n",
       "      <td>0</td>\n",
       "      <td>47</td>\n",
       "      <td>...</td>\n",
       "      <td>0.0000</td>\n",
       "      <td>0</td>\n",
       "      <td>0.00</td>\n",
       "      <td>0</td>\n",
       "      <td>0</td>\n",
       "      <td>161.80</td>\n",
       "      <td>2</td>\n",
       "      <td>0</td>\n",
       "      <td>0.7755</td>\n",
       "      <td>98</td>\n",
       "    </tr>\n",
       "    <tr>\n",
       "      <th>3</th>\n",
       "      <td>4616d365dd2853</td>\n",
       "      <td>a930a9c79cd721</td>\n",
       "      <td>f1f1f4ef412d7e</td>\n",
       "      <td>0</td>\n",
       "      <td>0</td>\n",
       "      <td>32.90</td>\n",
       "      <td>0</td>\n",
       "      <td>0</td>\n",
       "      <td>0</td>\n",
       "      <td>75</td>\n",
       "      <td>...</td>\n",
       "      <td>0.0000</td>\n",
       "      <td>0</td>\n",
       "      <td>0.00</td>\n",
       "      <td>0</td>\n",
       "      <td>0</td>\n",
       "      <td>202.70</td>\n",
       "      <td>3</td>\n",
       "      <td>0</td>\n",
       "      <td>0.1667</td>\n",
       "      <td>91</td>\n",
       "    </tr>\n",
       "    <tr>\n",
       "      <th>4</th>\n",
       "      <td>315c96c26c9aac</td>\n",
       "      <td>de04010b3458dd</td>\n",
       "      <td>6dc8ff871e21e6</td>\n",
       "      <td>0</td>\n",
       "      <td>0</td>\n",
       "      <td>100.00</td>\n",
       "      <td>0</td>\n",
       "      <td>0</td>\n",
       "      <td>0</td>\n",
       "      <td>45</td>\n",
       "      <td>...</td>\n",
       "      <td>0.0000</td>\n",
       "      <td>0</td>\n",
       "      <td>0.00</td>\n",
       "      <td>0</td>\n",
       "      <td>0</td>\n",
       "      <td>49.75</td>\n",
       "      <td>2</td>\n",
       "      <td>0</td>\n",
       "      <td>0.1875</td>\n",
       "      <td>97</td>\n",
       "    </tr>\n",
       "  </tbody>\n",
       "</table>\n",
       "<p>5 rows × 30 columns</p>\n",
       "</div>"
      ],
      "text/plain": [
       "               Id         groupId         matchId  assists  boosts  \\\n",
       "0  7f96b2f878858a  4d4b580de459be  a10357fd1a4a91        0       0   \n",
       "1  eef90569b9d03c  684d5656442f9e  aeb375fc57110c        0       0   \n",
       "2  1eaf90ac73de72  6a4a42c3245a74  110163d8bb94ae        1       0   \n",
       "3  4616d365dd2853  a930a9c79cd721  f1f1f4ef412d7e        0       0   \n",
       "4  315c96c26c9aac  de04010b3458dd  6dc8ff871e21e6        0       0   \n",
       "\n",
       "   damageDealt  DBNOs  headshotKills  heals  killPlace      ...        \\\n",
       "0         0.00      0              0      0         60      ...         \n",
       "1        91.47      0              0      0         57      ...         \n",
       "2        68.00      0              0      0         47      ...         \n",
       "3        32.90      0              0      0         75      ...         \n",
       "4       100.00      0              0      0         45      ...         \n",
       "\n",
       "   rideDistance  roadKills  swimDistance  teamKills  vehicleDestroys  \\\n",
       "0        0.0000          0          0.00          0                0   \n",
       "1        0.0045          0         11.04          0                0   \n",
       "2        0.0000          0          0.00          0                0   \n",
       "3        0.0000          0          0.00          0                0   \n",
       "4        0.0000          0          0.00          0                0   \n",
       "\n",
       "  walkDistance  weaponsAcquired  winPoints  winPlacePerc  playersJoined  \n",
       "0       244.80                1       1466        0.4444             96  \n",
       "1      1434.00                5          0        0.6400             91  \n",
       "2       161.80                2          0        0.7755             98  \n",
       "3       202.70                3          0        0.1667             91  \n",
       "4        49.75                2          0        0.1875             97  \n",
       "\n",
       "[5 rows x 30 columns]"
      ]
     },
     "execution_count": 14,
     "metadata": {},
     "output_type": "execute_result"
    }
   ],
   "source": [
    "train.head()"
   ]
  },
  {
   "cell_type": "code",
   "execution_count": 15,
   "metadata": {},
   "outputs": [
    {
     "data": {
      "text/plain": [
       "1206365    2\n",
       "2109739    2\n",
       "3956552    5\n",
       "3620228    5\n",
       "696000     5\n",
       "Name: playersJoined, dtype: int64"
      ]
     },
     "execution_count": 15,
     "metadata": {},
     "output_type": "execute_result"
    }
   ],
   "source": [
    "# 通过每场参加人数进行，按值升序排列\n",
    "train[\"playersJoined\"].sort_values().head()"
   ]
  },
  {
   "cell_type": "markdown",
   "metadata": {},
   "source": [
    "通过结果发现，最少的一局，竟然只有两个人，wtf!!!!"
   ]
  },
  {
   "cell_type": "code",
   "execution_count": 16,
   "metadata": {},
   "outputs": [
    {
     "data": {
      "image/png": "[encoded data removed]",
      "text/plain": [
       "<Figure size 1440x720 with 1 Axes>"
      ]
     },
     "metadata": {
      "needs_background": "light"
     },
     "output_type": "display_data"
    }
   ],
   "source": [
    "# 通过绘制图像，查看每局开始人数\n",
    "# 通过seaborn下的countplot方法，可以直接绘制统计过数量之后的直方图\n",
    "plt.figure(figsize=(20,10))\n",
    "sns.countplot(train['playersJoined'])\n",
    "plt.title('playersJoined')\n",
    "plt.grid()\n",
    "plt.show()"
   ]
  },
  {
   "cell_type": "markdown",
   "metadata": {},
   "source": [
    "通过观察，发现一局游戏少于75个玩家，就开始的还是比较少\n",
    "\n",
    "同时大部分游戏都是在接近100人的时候才开始\n",
    "\n",
    "限制每局开始人数大于等于75，再进行绘制。\n",
    "\n",
    "猜想：把这些数据在后期加入数据处理，应该会得到的结果更加准确一些"
   ]
  },
  {
   "cell_type": "code",
   "execution_count": 17,
   "metadata": {},
   "outputs": [
    {
     "data": {
      "image/png": "[encoded data removed]",
      "text/plain": [
       "<Figure size 1440x720 with 1 Axes>"
      ]
     },
     "metadata": {
      "needs_background": "light"
     },
     "output_type": "display_data"
    }
   ],
   "source": [
    "# 再次绘制每局参加人数的直方图\n",
    "plt.figure(figsize=(20,10))\n",
    "sns.countplot(train[train['playersJoined']>=75]['playersJoined'])\n",
    "plt.title('playersJoined')\n",
    "plt.grid()\n",
    "plt.show()"
   ]
  },
  {
   "cell_type": "markdown",
   "metadata": {},
   "source": [
    "#### 规范化输出部分数据\n",
    "\n",
    "现在我们统计了“每局玩家数量”，那么我们就可以通过“每局玩家数量”来进一步考证其它特征，同时对其规范化设置\n",
    "\n",
    "试想：一局只有70个玩家的杀敌数，和一局有100个玩家的杀敌数，应该是不可以同时比较的\n",
    "\n",
    "可以考虑的特征值包括\n",
    " - 1.kills（杀敌数）\n",
    "\n",
    " - 2.damageDealt（总伤害）\n",
    "\n",
    " - 3.maxPlace（本局最差名次）\n",
    "\n",
    " - 4.matchDuration（比赛时长）"
   ]
  },
  {
   "cell_type": "code",
   "execution_count": 18,
   "metadata": {},
   "outputs": [],
   "source": [
    "# 对部分特征值进行规范化\n",
    "train['killsNorm'] = train['kills']*((100-train['playersJoined'])/100 + 1)\n",
    "train['damageDealtNorm'] = train['damageDealt']*((100-train['playersJoined'])/100 + 1)\n",
    "train['maxPlaceNorm'] = train['maxPlace']*((100-train['playersJoined'])/100 + 1)\n",
    "train['matchDurationNorm'] = train['matchDuration']*((100-train['playersJoined'])/100 + 1)"
   ]
  },
  {
   "cell_type": "code",
   "execution_count": 19,
   "metadata": {},
   "outputs": [
    {
     "data": {
      "text/html": [
       "<div>\n",
       "<style scoped>\n",
       "    .dataframe tbody tr th:only-of-type {\n",
       "        vertical-align: middle;\n",
       "    }\n",
       "\n",
       "    .dataframe tbody tr th {\n",
       "        vertical-align: top;\n",
       "    }\n",
       "\n",
       "    .dataframe thead th {\n",
       "        text-align: right;\n",
       "    }\n",
       "</style>\n",
       "<table border=\"1\" class=\"dataframe\">\n",
       "  <thead>\n",
       "    <tr style=\"text-align: right;\">\n",
       "      <th></th>\n",
       "      <th>Id</th>\n",
       "      <th>kills</th>\n",
       "      <th>killsNorm</th>\n",
       "      <th>damageDealt</th>\n",
       "      <th>damageDealtNorm</th>\n",
       "      <th>maxPlace</th>\n",
       "      <th>maxPlaceNorm</th>\n",
       "      <th>matchDuration</th>\n",
       "      <th>matchDurationNorm</th>\n",
       "    </tr>\n",
       "  </thead>\n",
       "  <tbody>\n",
       "    <tr>\n",
       "      <th>0</th>\n",
       "      <td>7f96b2f878858a</td>\n",
       "      <td>0</td>\n",
       "      <td>0.00</td>\n",
       "      <td>0.000</td>\n",
       "      <td>0.00000</td>\n",
       "      <td>28</td>\n",
       "      <td>29.12</td>\n",
       "      <td>1306</td>\n",
       "      <td>1358.24</td>\n",
       "    </tr>\n",
       "    <tr>\n",
       "      <th>1</th>\n",
       "      <td>eef90569b9d03c</td>\n",
       "      <td>0</td>\n",
       "      <td>0.00</td>\n",
       "      <td>91.470</td>\n",
       "      <td>99.70230</td>\n",
       "      <td>26</td>\n",
       "      <td>28.34</td>\n",
       "      <td>1777</td>\n",
       "      <td>1936.93</td>\n",
       "    </tr>\n",
       "    <tr>\n",
       "      <th>2</th>\n",
       "      <td>1eaf90ac73de72</td>\n",
       "      <td>0</td>\n",
       "      <td>0.00</td>\n",
       "      <td>68.000</td>\n",
       "      <td>69.36000</td>\n",
       "      <td>50</td>\n",
       "      <td>51.00</td>\n",
       "      <td>1318</td>\n",
       "      <td>1344.36</td>\n",
       "    </tr>\n",
       "    <tr>\n",
       "      <th>3</th>\n",
       "      <td>4616d365dd2853</td>\n",
       "      <td>0</td>\n",
       "      <td>0.00</td>\n",
       "      <td>32.900</td>\n",
       "      <td>35.86100</td>\n",
       "      <td>31</td>\n",
       "      <td>33.79</td>\n",
       "      <td>1436</td>\n",
       "      <td>1565.24</td>\n",
       "    </tr>\n",
       "    <tr>\n",
       "      <th>4</th>\n",
       "      <td>315c96c26c9aac</td>\n",
       "      <td>1</td>\n",
       "      <td>1.03</td>\n",
       "      <td>100.000</td>\n",
       "      <td>103.00000</td>\n",
       "      <td>97</td>\n",
       "      <td>99.91</td>\n",
       "      <td>1424</td>\n",
       "      <td>1466.72</td>\n",
       "    </tr>\n",
       "    <tr>\n",
       "      <th>5</th>\n",
       "      <td>ff79c12f326506</td>\n",
       "      <td>1</td>\n",
       "      <td>1.05</td>\n",
       "      <td>100.000</td>\n",
       "      <td>105.00000</td>\n",
       "      <td>28</td>\n",
       "      <td>29.40</td>\n",
       "      <td>1395</td>\n",
       "      <td>1464.75</td>\n",
       "    </tr>\n",
       "    <tr>\n",
       "      <th>6</th>\n",
       "      <td>95959be0e21ca3</td>\n",
       "      <td>0</td>\n",
       "      <td>0.00</td>\n",
       "      <td>0.000</td>\n",
       "      <td>0.00000</td>\n",
       "      <td>28</td>\n",
       "      <td>28.84</td>\n",
       "      <td>1316</td>\n",
       "      <td>1355.48</td>\n",
       "    </tr>\n",
       "    <tr>\n",
       "      <th>7</th>\n",
       "      <td>311b84c6ff4390</td>\n",
       "      <td>0</td>\n",
       "      <td>0.00</td>\n",
       "      <td>8.538</td>\n",
       "      <td>8.87952</td>\n",
       "      <td>96</td>\n",
       "      <td>99.84</td>\n",
       "      <td>1967</td>\n",
       "      <td>2045.68</td>\n",
       "    </tr>\n",
       "    <tr>\n",
       "      <th>8</th>\n",
       "      <td>1a68204ccf9891</td>\n",
       "      <td>0</td>\n",
       "      <td>0.00</td>\n",
       "      <td>51.600</td>\n",
       "      <td>53.14800</td>\n",
       "      <td>28</td>\n",
       "      <td>28.84</td>\n",
       "      <td>1375</td>\n",
       "      <td>1416.25</td>\n",
       "    </tr>\n",
       "    <tr>\n",
       "      <th>9</th>\n",
       "      <td>e5bb5a43587253</td>\n",
       "      <td>0</td>\n",
       "      <td>0.00</td>\n",
       "      <td>37.270</td>\n",
       "      <td>38.38810</td>\n",
       "      <td>29</td>\n",
       "      <td>29.87</td>\n",
       "      <td>1930</td>\n",
       "      <td>1987.90</td>\n",
       "    </tr>\n",
       "    <tr>\n",
       "      <th>10</th>\n",
       "      <td>2b574d43972813</td>\n",
       "      <td>0</td>\n",
       "      <td>0.00</td>\n",
       "      <td>28.380</td>\n",
       "      <td>28.66380</td>\n",
       "      <td>29</td>\n",
       "      <td>29.29</td>\n",
       "      <td>1811</td>\n",
       "      <td>1829.11</td>\n",
       "    </tr>\n",
       "  </tbody>\n",
       "</table>\n",
       "</div>"
      ],
      "text/plain": [
       "                Id  kills  killsNorm  damageDealt  damageDealtNorm  maxPlace  \\\n",
       "0   7f96b2f878858a      0       0.00        0.000          0.00000        28   \n",
       "1   eef90569b9d03c      0       0.00       91.470         99.70230        26   \n",
       "2   1eaf90ac73de72      0       0.00       68.000         69.36000        50   \n",
       "3   4616d365dd2853      0       0.00       32.900         35.86100        31   \n",
       "4   315c96c26c9aac      1       1.03      100.000        103.00000        97   \n",
       "5   ff79c12f326506      1       1.05      100.000        105.00000        28   \n",
       "6   95959be0e21ca3      0       0.00        0.000          0.00000        28   \n",
       "7   311b84c6ff4390      0       0.00        8.538          8.87952        96   \n",
       "8   1a68204ccf9891      0       0.00       51.600         53.14800        28   \n",
       "9   e5bb5a43587253      0       0.00       37.270         38.38810        29   \n",
       "10  2b574d43972813      0       0.00       28.380         28.66380        29   \n",
       "\n",
       "    maxPlaceNorm  matchDuration  matchDurationNorm  \n",
       "0          29.12           1306            1358.24  \n",
       "1          28.34           1777            1936.93  \n",
       "2          51.00           1318            1344.36  \n",
       "3          33.79           1436            1565.24  \n",
       "4          99.91           1424            1466.72  \n",
       "5          29.40           1395            1464.75  \n",
       "6          28.84           1316            1355.48  \n",
       "7          99.84           1967            2045.68  \n",
       "8          28.84           1375            1416.25  \n",
       "9          29.87           1930            1987.90  \n",
       "10         29.29           1811            1829.11  "
      ]
     },
     "execution_count": 19,
     "metadata": {},
     "output_type": "execute_result"
    }
   ],
   "source": [
    "# 比较经过规范化的特征值和原始特征值的值\n",
    "to_show = ['Id', 'kills','killsNorm','damageDealt', 'damageDealtNorm', 'maxPlace', 'maxPlaceNorm', 'matchDuration', 'matchDurationNorm']\n",
    "train[to_show][0:11]"
   ]
  },
  {
   "cell_type": "markdown",
   "metadata": {},
   "source": [
    "### 部分变量合成\n",
    "此处我们把特征：heals(使用治疗药品数量)和boosts(能量、道具使用数量)合并成一个新的变量，命名：”healsandboosts“， 这是一个探索性过程，最后结果不一定有用，如果没有实际用处，最后再把它删除。"
   ]
  },
  {
   "cell_type": "code",
   "execution_count": 20,
   "metadata": {},
   "outputs": [],
   "source": [
    "# 创建新变量“healsandboosts”\n",
    "train['healsandboosts'] = train['heals'] + train['boosts']"
   ]
  },
  {
   "cell_type": "code",
   "execution_count": 21,
   "metadata": {},
   "outputs": [
    {
     "data": {
      "text/html": [
       "<div>\n",
       "<style scoped>\n",
       "    .dataframe tbody tr th:only-of-type {\n",
       "        vertical-align: middle;\n",
       "    }\n",
       "\n",
       "    .dataframe tbody tr th {\n",
       "        vertical-align: top;\n",
       "    }\n",
       "\n",
       "    .dataframe thead th {\n",
       "        text-align: right;\n",
       "    }\n",
       "</style>\n",
       "<table border=\"1\" class=\"dataframe\">\n",
       "  <thead>\n",
       "    <tr style=\"text-align: right;\">\n",
       "      <th></th>\n",
       "      <th>heals</th>\n",
       "      <th>boosts</th>\n",
       "      <th>healsandboosts</th>\n",
       "    </tr>\n",
       "  </thead>\n",
       "  <tbody>\n",
       "    <tr>\n",
       "      <th>4446961</th>\n",
       "      <td>0</td>\n",
       "      <td>0</td>\n",
       "      <td>0</td>\n",
       "    </tr>\n",
       "    <tr>\n",
       "      <th>4446962</th>\n",
       "      <td>0</td>\n",
       "      <td>1</td>\n",
       "      <td>1</td>\n",
       "    </tr>\n",
       "    <tr>\n",
       "      <th>4446963</th>\n",
       "      <td>0</td>\n",
       "      <td>0</td>\n",
       "      <td>0</td>\n",
       "    </tr>\n",
       "    <tr>\n",
       "      <th>4446964</th>\n",
       "      <td>2</td>\n",
       "      <td>4</td>\n",
       "      <td>6</td>\n",
       "    </tr>\n",
       "    <tr>\n",
       "      <th>4446965</th>\n",
       "      <td>1</td>\n",
       "      <td>2</td>\n",
       "      <td>3</td>\n",
       "    </tr>\n",
       "  </tbody>\n",
       "</table>\n",
       "</div>"
      ],
      "text/plain": [
       "         heals  boosts  healsandboosts\n",
       "4446961      0       0               0\n",
       "4446962      0       1               1\n",
       "4446963      0       0               0\n",
       "4446964      2       4               6\n",
       "4446965      1       2               3"
      ]
     },
     "execution_count": 21,
     "metadata": {},
     "output_type": "execute_result"
    }
   ],
   "source": [
    "train[[\"heals\", \"boosts\", \"healsandboosts\"]].tail()"
   ]
  },
  {
   "cell_type": "markdown",
   "metadata": {},
   "source": [
    "### 异常值处理\n",
    "#### 异常值处理：删除有击杀，但是完全没有移动的玩家\n",
    "异常数据处理：\n",
    "\n",
    "一些行中的数据统计出来的结果非常反常规，那么这些玩家肯定有问题，为了训练模型的准确性，我们会把这些异常数据剔除\n",
    "\n",
    "通过以下操作，识别出玩家在游戏中有击杀数，但是全局没有移动；\n",
    "\n",
    "这类型玩家肯定是存在异常情况（挂**），我们把这些玩家删除。"
   ]
  },
  {
   "cell_type": "code",
   "execution_count": 22,
   "metadata": {},
   "outputs": [],
   "source": [
    "# 创建新变量，统计玩家移动距离\n",
    "train['totalDistance'] = train['rideDistance'] + train['walkDistance'] + train['swimDistance']\n",
    "# 创建新变量，统计玩家是否在游戏中，有击杀，但是没有移动，如果是返回True, 否则返回false\n",
    "train['killsWithoutMoving'] = ((train['kills'] > 0) & (train['totalDistance'] == 0))"
   ]
  },
  {
   "cell_type": "code",
   "execution_count": 23,
   "metadata": {},
   "outputs": [
    {
     "data": {
      "text/plain": [
       "0    False\n",
       "1    False\n",
       "2    False\n",
       "3    False\n",
       "4    False\n",
       "Name: killsWithoutMoving, dtype: bool"
      ]
     },
     "execution_count": 23,
     "metadata": {},
     "output_type": "execute_result"
    }
   ],
   "source": [
    "train[\"killsWithoutMoving\"].head()"
   ]
  },
  {
   "cell_type": "code",
   "execution_count": 24,
   "metadata": {},
   "outputs": [
    {
     "data": {
      "text/plain": [
       "count     4446965\n",
       "unique          2\n",
       "top         False\n",
       "freq      4445430\n",
       "Name: killsWithoutMoving, dtype: object"
      ]
     },
     "execution_count": 24,
     "metadata": {},
     "output_type": "execute_result"
    }
   ],
   "source": [
    "train[\"killsWithoutMoving\"].describe()"
   ]
  },
  {
   "cell_type": "code",
   "execution_count": 25,
   "metadata": {},
   "outputs": [
    {
     "data": {
      "text/plain": [
       "(1535, 37)"
      ]
     },
     "execution_count": 25,
     "metadata": {},
     "output_type": "execute_result"
    }
   ],
   "source": [
    "# 检查是否存在有击杀但是没有移动的数据\n",
    "train[train['killsWithoutMoving'] == True].shape"
   ]
  },
  {
   "cell_type": "code",
   "execution_count": 26,
   "metadata": {},
   "outputs": [
    {
     "data": {
      "text/html": [
       "<div>\n",
       "<style scoped>\n",
       "    .dataframe tbody tr th:only-of-type {\n",
       "        vertical-align: middle;\n",
       "    }\n",
       "\n",
       "    .dataframe tbody tr th {\n",
       "        vertical-align: top;\n",
       "    }\n",
       "\n",
       "    .dataframe thead th {\n",
       "        text-align: right;\n",
       "    }\n",
       "</style>\n",
       "<table border=\"1\" class=\"dataframe\">\n",
       "  <thead>\n",
       "    <tr style=\"text-align: right;\">\n",
       "      <th></th>\n",
       "      <th>Id</th>\n",
       "      <th>groupId</th>\n",
       "      <th>matchId</th>\n",
       "      <th>assists</th>\n",
       "      <th>boosts</th>\n",
       "      <th>damageDealt</th>\n",
       "      <th>DBNOs</th>\n",
       "      <th>headshotKills</th>\n",
       "      <th>heals</th>\n",
       "      <th>killPlace</th>\n",
       "      <th>...</th>\n",
       "      <th>winPoints</th>\n",
       "      <th>winPlacePerc</th>\n",
       "      <th>playersJoined</th>\n",
       "      <th>killsNorm</th>\n",
       "      <th>damageDealtNorm</th>\n",
       "      <th>maxPlaceNorm</th>\n",
       "      <th>matchDurationNorm</th>\n",
       "      <th>healsandboosts</th>\n",
       "      <th>totalDistance</th>\n",
       "      <th>killsWithoutMoving</th>\n",
       "    </tr>\n",
       "  </thead>\n",
       "  <tbody>\n",
       "    <tr>\n",
       "      <th>1824</th>\n",
       "      <td>b538d514ef2476</td>\n",
       "      <td>0eb2ce2f43f9d6</td>\n",
       "      <td>35e7d750e442e2</td>\n",
       "      <td>0</td>\n",
       "      <td>0</td>\n",
       "      <td>593.0</td>\n",
       "      <td>0</td>\n",
       "      <td>0</td>\n",
       "      <td>3</td>\n",
       "      <td>18</td>\n",
       "      <td>...</td>\n",
       "      <td>0</td>\n",
       "      <td>0.8571</td>\n",
       "      <td>58</td>\n",
       "      <td>8.52</td>\n",
       "      <td>842.060</td>\n",
       "      <td>21.30</td>\n",
       "      <td>842.06</td>\n",
       "      <td>3</td>\n",
       "      <td>0.0</td>\n",
       "      <td>True</td>\n",
       "    </tr>\n",
       "    <tr>\n",
       "      <th>6673</th>\n",
       "      <td>6d3a61da07b7cb</td>\n",
       "      <td>2d8119b1544f87</td>\n",
       "      <td>904cecf36217df</td>\n",
       "      <td>2</td>\n",
       "      <td>0</td>\n",
       "      <td>346.6</td>\n",
       "      <td>0</td>\n",
       "      <td>0</td>\n",
       "      <td>6</td>\n",
       "      <td>33</td>\n",
       "      <td>...</td>\n",
       "      <td>0</td>\n",
       "      <td>0.6000</td>\n",
       "      <td>42</td>\n",
       "      <td>4.74</td>\n",
       "      <td>547.628</td>\n",
       "      <td>17.38</td>\n",
       "      <td>2834.52</td>\n",
       "      <td>6</td>\n",
       "      <td>0.0</td>\n",
       "      <td>True</td>\n",
       "    </tr>\n",
       "    <tr>\n",
       "      <th>11892</th>\n",
       "      <td>550398a8f33db7</td>\n",
       "      <td>c3fd0e2abab0af</td>\n",
       "      <td>db6f6d1f0d4904</td>\n",
       "      <td>2</td>\n",
       "      <td>0</td>\n",
       "      <td>1750.0</td>\n",
       "      <td>0</td>\n",
       "      <td>4</td>\n",
       "      <td>5</td>\n",
       "      <td>3</td>\n",
       "      <td>...</td>\n",
       "      <td>0</td>\n",
       "      <td>0.8947</td>\n",
       "      <td>21</td>\n",
       "      <td>35.80</td>\n",
       "      <td>3132.500</td>\n",
       "      <td>35.80</td>\n",
       "      <td>1607.42</td>\n",
       "      <td>5</td>\n",
       "      <td>0.0</td>\n",
       "      <td>True</td>\n",
       "    </tr>\n",
       "    <tr>\n",
       "      <th>14631</th>\n",
       "      <td>58d690ee461e9d</td>\n",
       "      <td>ea5b6630b33d67</td>\n",
       "      <td>dbf34301df5e53</td>\n",
       "      <td>0</td>\n",
       "      <td>0</td>\n",
       "      <td>157.8</td>\n",
       "      <td>0</td>\n",
       "      <td>0</td>\n",
       "      <td>0</td>\n",
       "      <td>69</td>\n",
       "      <td>...</td>\n",
       "      <td>1500</td>\n",
       "      <td>0.0000</td>\n",
       "      <td>73</td>\n",
       "      <td>1.27</td>\n",
       "      <td>200.406</td>\n",
       "      <td>24.13</td>\n",
       "      <td>1014.73</td>\n",
       "      <td>0</td>\n",
       "      <td>0.0</td>\n",
       "      <td>True</td>\n",
       "    </tr>\n",
       "    <tr>\n",
       "      <th>15591</th>\n",
       "      <td>49b61fc963d632</td>\n",
       "      <td>0f5c5f19d9cc21</td>\n",
       "      <td>904cecf36217df</td>\n",
       "      <td>0</td>\n",
       "      <td>0</td>\n",
       "      <td>100.0</td>\n",
       "      <td>0</td>\n",
       "      <td>1</td>\n",
       "      <td>0</td>\n",
       "      <td>37</td>\n",
       "      <td>...</td>\n",
       "      <td>0</td>\n",
       "      <td>0.3000</td>\n",
       "      <td>42</td>\n",
       "      <td>1.58</td>\n",
       "      <td>158.000</td>\n",
       "      <td>17.38</td>\n",
       "      <td>2834.52</td>\n",
       "      <td>0</td>\n",
       "      <td>0.0</td>\n",
       "      <td>True</td>\n",
       "    </tr>\n",
       "  </tbody>\n",
       "</table>\n",
       "<p>5 rows × 37 columns</p>\n",
       "</div>"
      ],
      "text/plain": [
       "                   Id         groupId         matchId  assists  boosts  \\\n",
       "1824   b538d514ef2476  0eb2ce2f43f9d6  35e7d750e442e2        0       0   \n",
       "6673   6d3a61da07b7cb  2d8119b1544f87  904cecf36217df        2       0   \n",
       "11892  550398a8f33db7  c3fd0e2abab0af  db6f6d1f0d4904        2       0   \n",
       "14631  58d690ee461e9d  ea5b6630b33d67  dbf34301df5e53        0       0   \n",
       "15591  49b61fc963d632  0f5c5f19d9cc21  904cecf36217df        0       0   \n",
       "\n",
       "       damageDealt  DBNOs  headshotKills  heals  killPlace  \\\n",
       "1824         593.0      0              0      3         18   \n",
       "6673         346.6      0              0      6         33   \n",
       "11892       1750.0      0              4      5          3   \n",
       "14631        157.8      0              0      0         69   \n",
       "15591        100.0      0              1      0         37   \n",
       "\n",
       "              ...          winPoints  winPlacePerc  playersJoined  killsNorm  \\\n",
       "1824          ...                  0        0.8571             58       8.52   \n",
       "6673          ...                  0        0.6000             42       4.74   \n",
       "11892         ...                  0        0.8947             21      35.80   \n",
       "14631         ...               1500        0.0000             73       1.27   \n",
       "15591         ...                  0        0.3000             42       1.58   \n",
       "\n",
       "       damageDealtNorm maxPlaceNorm  matchDurationNorm  healsandboosts  \\\n",
       "1824           842.060        21.30             842.06               3   \n",
       "6673           547.628        17.38            2834.52               6   \n",
       "11892         3132.500        35.80            1607.42               5   \n",
       "14631          200.406        24.13            1014.73               0   \n",
       "15591          158.000        17.38            2834.52               0   \n",
       "\n",
       "       totalDistance  killsWithoutMoving  \n",
       "1824             0.0                True  \n",
       "6673             0.0                True  \n",
       "11892            0.0                True  \n",
       "14631            0.0                True  \n",
       "15591            0.0                True  \n",
       "\n",
       "[5 rows x 37 columns]"
      ]
     },
     "execution_count": 26,
     "metadata": {},
     "output_type": "execute_result"
    }
   ],
   "source": [
    "train[train['killsWithoutMoving'] == True].head()"
   ]
  },
  {
   "cell_type": "code",
   "execution_count": 27,
   "metadata": {},
   "outputs": [],
   "source": [
    "# 删除这些数据\n",
    "train.drop(train[train['killsWithoutMoving'] == True].index, inplace=True)"
   ]
  },
  {
   "cell_type": "markdown",
   "metadata": {},
   "source": [
    "#### 异常值处理：删除驾车杀敌数异常的数据"
   ]
  },
  {
   "cell_type": "code",
   "execution_count": 28,
   "metadata": {},
   "outputs": [
    {
     "data": {
      "text/html": [
       "<div>\n",
       "<style scoped>\n",
       "    .dataframe tbody tr th:only-of-type {\n",
       "        vertical-align: middle;\n",
       "    }\n",
       "\n",
       "    .dataframe tbody tr th {\n",
       "        vertical-align: top;\n",
       "    }\n",
       "\n",
       "    .dataframe thead th {\n",
       "        text-align: right;\n",
       "    }\n",
       "</style>\n",
       "<table border=\"1\" class=\"dataframe\">\n",
       "  <thead>\n",
       "    <tr style=\"text-align: right;\">\n",
       "      <th></th>\n",
       "      <th>Id</th>\n",
       "      <th>groupId</th>\n",
       "      <th>matchId</th>\n",
       "      <th>assists</th>\n",
       "      <th>boosts</th>\n",
       "      <th>damageDealt</th>\n",
       "      <th>DBNOs</th>\n",
       "      <th>headshotKills</th>\n",
       "      <th>heals</th>\n",
       "      <th>killPlace</th>\n",
       "      <th>...</th>\n",
       "      <th>winPoints</th>\n",
       "      <th>winPlacePerc</th>\n",
       "      <th>playersJoined</th>\n",
       "      <th>killsNorm</th>\n",
       "      <th>damageDealtNorm</th>\n",
       "      <th>maxPlaceNorm</th>\n",
       "      <th>matchDurationNorm</th>\n",
       "      <th>healsandboosts</th>\n",
       "      <th>totalDistance</th>\n",
       "      <th>killsWithoutMoving</th>\n",
       "    </tr>\n",
       "  </thead>\n",
       "  <tbody>\n",
       "    <tr>\n",
       "      <th>2733926</th>\n",
       "      <td>c3e444f7d1289f</td>\n",
       "      <td>489dd6d1f2b3bb</td>\n",
       "      <td>4797482205aaa4</td>\n",
       "      <td>0</td>\n",
       "      <td>0</td>\n",
       "      <td>1246.0</td>\n",
       "      <td>0</td>\n",
       "      <td>0</td>\n",
       "      <td>0</td>\n",
       "      <td>1</td>\n",
       "      <td>...</td>\n",
       "      <td>1371</td>\n",
       "      <td>0.4286</td>\n",
       "      <td>92</td>\n",
       "      <td>15.12</td>\n",
       "      <td>1345.68</td>\n",
       "      <td>99.36</td>\n",
       "      <td>1572.48</td>\n",
       "      <td>0</td>\n",
       "      <td>1282.302</td>\n",
       "      <td>False</td>\n",
       "    </tr>\n",
       "    <tr>\n",
       "      <th>2767999</th>\n",
       "      <td>34193085975338</td>\n",
       "      <td>bd7d50fa305700</td>\n",
       "      <td>a22354d036b3d6</td>\n",
       "      <td>0</td>\n",
       "      <td>0</td>\n",
       "      <td>1102.0</td>\n",
       "      <td>0</td>\n",
       "      <td>0</td>\n",
       "      <td>0</td>\n",
       "      <td>1</td>\n",
       "      <td>...</td>\n",
       "      <td>1533</td>\n",
       "      <td>0.4713</td>\n",
       "      <td>88</td>\n",
       "      <td>12.32</td>\n",
       "      <td>1234.24</td>\n",
       "      <td>98.56</td>\n",
       "      <td>2179.52</td>\n",
       "      <td>0</td>\n",
       "      <td>4934.600</td>\n",
       "      <td>False</td>\n",
       "    </tr>\n",
       "    <tr>\n",
       "      <th>2890740</th>\n",
       "      <td>a3438934e3e535</td>\n",
       "      <td>1081c315a80d14</td>\n",
       "      <td>fe744430ac0070</td>\n",
       "      <td>0</td>\n",
       "      <td>8</td>\n",
       "      <td>2074.0</td>\n",
       "      <td>0</td>\n",
       "      <td>1</td>\n",
       "      <td>11</td>\n",
       "      <td>1</td>\n",
       "      <td>...</td>\n",
       "      <td>1568</td>\n",
       "      <td>1.0000</td>\n",
       "      <td>38</td>\n",
       "      <td>32.40</td>\n",
       "      <td>3359.88</td>\n",
       "      <td>61.56</td>\n",
       "      <td>3191.40</td>\n",
       "      <td>19</td>\n",
       "      <td>5876.000</td>\n",
       "      <td>False</td>\n",
       "    </tr>\n",
       "    <tr>\n",
       "      <th>3524413</th>\n",
       "      <td>9d9d044f81de72</td>\n",
       "      <td>8be97e1ba792e3</td>\n",
       "      <td>859e2c2db5b125</td>\n",
       "      <td>0</td>\n",
       "      <td>3</td>\n",
       "      <td>1866.0</td>\n",
       "      <td>0</td>\n",
       "      <td>5</td>\n",
       "      <td>7</td>\n",
       "      <td>1</td>\n",
       "      <td>...</td>\n",
       "      <td>1606</td>\n",
       "      <td>0.9398</td>\n",
       "      <td>84</td>\n",
       "      <td>20.88</td>\n",
       "      <td>2164.56</td>\n",
       "      <td>97.44</td>\n",
       "      <td>2233.00</td>\n",
       "      <td>10</td>\n",
       "      <td>7853.000</td>\n",
       "      <td>False</td>\n",
       "    </tr>\n",
       "  </tbody>\n",
       "</table>\n",
       "<p>4 rows × 37 columns</p>\n",
       "</div>"
      ],
      "text/plain": [
       "                     Id         groupId         matchId  assists  boosts  \\\n",
       "2733926  c3e444f7d1289f  489dd6d1f2b3bb  4797482205aaa4        0       0   \n",
       "2767999  34193085975338  bd7d50fa305700  a22354d036b3d6        0       0   \n",
       "2890740  a3438934e3e535  1081c315a80d14  fe744430ac0070        0       8   \n",
       "3524413  9d9d044f81de72  8be97e1ba792e3  859e2c2db5b125        0       3   \n",
       "\n",
       "         damageDealt  DBNOs  headshotKills  heals  killPlace  \\\n",
       "2733926       1246.0      0              0      0          1   \n",
       "2767999       1102.0      0              0      0          1   \n",
       "2890740       2074.0      0              1     11          1   \n",
       "3524413       1866.0      0              5      7          1   \n",
       "\n",
       "                ...          winPoints  winPlacePerc  playersJoined  \\\n",
       "2733926         ...               1371        0.4286             92   \n",
       "2767999         ...               1533        0.4713             88   \n",
       "2890740         ...               1568        1.0000             38   \n",
       "3524413         ...               1606        0.9398             84   \n",
       "\n",
       "         killsNorm  damageDealtNorm maxPlaceNorm  matchDurationNorm  \\\n",
       "2733926      15.12          1345.68        99.36            1572.48   \n",
       "2767999      12.32          1234.24        98.56            2179.52   \n",
       "2890740      32.40          3359.88        61.56            3191.40   \n",
       "3524413      20.88          2164.56        97.44            2233.00   \n",
       "\n",
       "         healsandboosts  totalDistance  killsWithoutMoving  \n",
       "2733926               0       1282.302               False  \n",
       "2767999               0       4934.600               False  \n",
       "2890740              19       5876.000               False  \n",
       "3524413              10       7853.000               False  \n",
       "\n",
       "[4 rows x 37 columns]"
      ]
     },
     "execution_count": 28,
     "metadata": {},
     "output_type": "execute_result"
    }
   ],
   "source": [
    "# 查看载具杀敌数超过十个的玩家\n",
    "train[train['roadKills'] > 10]"
   ]
  },
  {
   "cell_type": "code",
   "execution_count": 29,
   "metadata": {},
   "outputs": [],
   "source": [
    "# 删除这些数据\n",
    "train.drop(train[train['roadKills'] > 10].index, inplace=True)"
   ]
  },
  {
   "cell_type": "code",
   "execution_count": 30,
   "metadata": {},
   "outputs": [
    {
     "data": {
      "text/plain": [
       "(4445426, 37)"
      ]
     },
     "execution_count": 30,
     "metadata": {},
     "output_type": "execute_result"
    }
   ],
   "source": [
    "train.shape"
   ]
  },
  {
   "cell_type": "markdown",
   "metadata": {},
   "source": [
    "#### 异常值处理：删除玩家在一局中杀敌数超过30人的数据"
   ]
  },
  {
   "cell_type": "code",
   "execution_count": 31,
   "metadata": {},
   "outputs": [
    {
     "data": {
      "image/png": "[encoded data removed]",
      "text/plain": [
       "<Figure size 720x288 with 1 Axes>"
      ]
     },
     "metadata": {
      "needs_background": "light"
     },
     "output_type": "display_data"
    }
   ],
   "source": [
    "# 首先绘制玩家杀敌数的条形图\n",
    "plt.figure(figsize=(10,4))\n",
    "sns.countplot(data=train, x=train['kills']).set_title('Kills')\n",
    "plt.show()"
   ]
  },
  {
   "cell_type": "code",
   "execution_count": 32,
   "metadata": {},
   "outputs": [
    {
     "data": {
      "text/plain": [
       "(95, 37)"
      ]
     },
     "execution_count": 32,
     "metadata": {},
     "output_type": "execute_result"
    }
   ],
   "source": [
    "train[train['kills'] > 30].shape"
   ]
  },
  {
   "cell_type": "code",
   "execution_count": 33,
   "metadata": {},
   "outputs": [
    {
     "data": {
      "text/html": [
       "<div>\n",
       "<style scoped>\n",
       "    .dataframe tbody tr th:only-of-type {\n",
       "        vertical-align: middle;\n",
       "    }\n",
       "\n",
       "    .dataframe tbody tr th {\n",
       "        vertical-align: top;\n",
       "    }\n",
       "\n",
       "    .dataframe thead th {\n",
       "        text-align: right;\n",
       "    }\n",
       "</style>\n",
       "<table border=\"1\" class=\"dataframe\">\n",
       "  <thead>\n",
       "    <tr style=\"text-align: right;\">\n",
       "      <th></th>\n",
       "      <th>Id</th>\n",
       "      <th>groupId</th>\n",
       "      <th>matchId</th>\n",
       "      <th>assists</th>\n",
       "      <th>boosts</th>\n",
       "      <th>damageDealt</th>\n",
       "      <th>DBNOs</th>\n",
       "      <th>headshotKills</th>\n",
       "      <th>heals</th>\n",
       "      <th>killPlace</th>\n",
       "      <th>...</th>\n",
       "      <th>winPoints</th>\n",
       "      <th>winPlacePerc</th>\n",
       "      <th>playersJoined</th>\n",
       "      <th>killsNorm</th>\n",
       "      <th>damageDealtNorm</th>\n",
       "      <th>maxPlaceNorm</th>\n",
       "      <th>matchDurationNorm</th>\n",
       "      <th>healsandboosts</th>\n",
       "      <th>totalDistance</th>\n",
       "      <th>killsWithoutMoving</th>\n",
       "    </tr>\n",
       "  </thead>\n",
       "  <tbody>\n",
       "    <tr>\n",
       "      <th>57978</th>\n",
       "      <td>9d8253e21ccbbd</td>\n",
       "      <td>ef7135ed856cd8</td>\n",
       "      <td>37f05e2a01015f</td>\n",
       "      <td>9</td>\n",
       "      <td>0</td>\n",
       "      <td>3725.0</td>\n",
       "      <td>0</td>\n",
       "      <td>7</td>\n",
       "      <td>0</td>\n",
       "      <td>2</td>\n",
       "      <td>...</td>\n",
       "      <td>1500</td>\n",
       "      <td>0.8571</td>\n",
       "      <td>16</td>\n",
       "      <td>64.40</td>\n",
       "      <td>6854.00</td>\n",
       "      <td>14.72</td>\n",
       "      <td>3308.32</td>\n",
       "      <td>0</td>\n",
       "      <td>48.82</td>\n",
       "      <td>False</td>\n",
       "    </tr>\n",
       "    <tr>\n",
       "      <th>87793</th>\n",
       "      <td>45f76442384931</td>\n",
       "      <td>b3627758941d34</td>\n",
       "      <td>37f05e2a01015f</td>\n",
       "      <td>8</td>\n",
       "      <td>0</td>\n",
       "      <td>3087.0</td>\n",
       "      <td>0</td>\n",
       "      <td>8</td>\n",
       "      <td>27</td>\n",
       "      <td>3</td>\n",
       "      <td>...</td>\n",
       "      <td>1500</td>\n",
       "      <td>1.0000</td>\n",
       "      <td>16</td>\n",
       "      <td>57.04</td>\n",
       "      <td>5680.08</td>\n",
       "      <td>14.72</td>\n",
       "      <td>3308.32</td>\n",
       "      <td>27</td>\n",
       "      <td>780.70</td>\n",
       "      <td>False</td>\n",
       "    </tr>\n",
       "    <tr>\n",
       "      <th>156599</th>\n",
       "      <td>746aa7eabf7c86</td>\n",
       "      <td>5723e7d8250da3</td>\n",
       "      <td>f900de1ec39fa5</td>\n",
       "      <td>21</td>\n",
       "      <td>0</td>\n",
       "      <td>5479.0</td>\n",
       "      <td>0</td>\n",
       "      <td>12</td>\n",
       "      <td>7</td>\n",
       "      <td>4</td>\n",
       "      <td>...</td>\n",
       "      <td>0</td>\n",
       "      <td>0.7000</td>\n",
       "      <td>11</td>\n",
       "      <td>90.72</td>\n",
       "      <td>10355.31</td>\n",
       "      <td>20.79</td>\n",
       "      <td>3398.22</td>\n",
       "      <td>7</td>\n",
       "      <td>23.71</td>\n",
       "      <td>False</td>\n",
       "    </tr>\n",
       "    <tr>\n",
       "      <th>160254</th>\n",
       "      <td>15622257cb44e2</td>\n",
       "      <td>1a513eeecfe724</td>\n",
       "      <td>db413c7c48292c</td>\n",
       "      <td>1</td>\n",
       "      <td>0</td>\n",
       "      <td>4033.0</td>\n",
       "      <td>0</td>\n",
       "      <td>40</td>\n",
       "      <td>0</td>\n",
       "      <td>1</td>\n",
       "      <td>...</td>\n",
       "      <td>1500</td>\n",
       "      <td>1.0000</td>\n",
       "      <td>62</td>\n",
       "      <td>57.96</td>\n",
       "      <td>5565.54</td>\n",
       "      <td>11.04</td>\n",
       "      <td>1164.72</td>\n",
       "      <td>0</td>\n",
       "      <td>718.30</td>\n",
       "      <td>False</td>\n",
       "    </tr>\n",
       "    <tr>\n",
       "      <th>180189</th>\n",
       "      <td>1355613d43e2d0</td>\n",
       "      <td>f863cd38c61dbf</td>\n",
       "      <td>39c442628f5df5</td>\n",
       "      <td>5</td>\n",
       "      <td>0</td>\n",
       "      <td>3171.0</td>\n",
       "      <td>0</td>\n",
       "      <td>6</td>\n",
       "      <td>15</td>\n",
       "      <td>1</td>\n",
       "      <td>...</td>\n",
       "      <td>0</td>\n",
       "      <td>1.0000</td>\n",
       "      <td>11</td>\n",
       "      <td>66.15</td>\n",
       "      <td>5993.19</td>\n",
       "      <td>17.01</td>\n",
       "      <td>3394.44</td>\n",
       "      <td>15</td>\n",
       "      <td>71.51</td>\n",
       "      <td>False</td>\n",
       "    </tr>\n",
       "  </tbody>\n",
       "</table>\n",
       "<p>5 rows × 37 columns</p>\n",
       "</div>"
      ],
      "text/plain": [
       "                    Id         groupId         matchId  assists  boosts  \\\n",
       "57978   9d8253e21ccbbd  ef7135ed856cd8  37f05e2a01015f        9       0   \n",
       "87793   45f76442384931  b3627758941d34  37f05e2a01015f        8       0   \n",
       "156599  746aa7eabf7c86  5723e7d8250da3  f900de1ec39fa5       21       0   \n",
       "160254  15622257cb44e2  1a513eeecfe724  db413c7c48292c        1       0   \n",
       "180189  1355613d43e2d0  f863cd38c61dbf  39c442628f5df5        5       0   \n",
       "\n",
       "        damageDealt  DBNOs  headshotKills  heals  killPlace  \\\n",
       "57978        3725.0      0              7      0          2   \n",
       "87793        3087.0      0              8     27          3   \n",
       "156599       5479.0      0             12      7          4   \n",
       "160254       4033.0      0             40      0          1   \n",
       "180189       3171.0      0              6     15          1   \n",
       "\n",
       "               ...          winPoints  winPlacePerc  playersJoined  killsNorm  \\\n",
       "57978          ...               1500        0.8571             16      64.40   \n",
       "87793          ...               1500        1.0000             16      57.04   \n",
       "156599         ...                  0        0.7000             11      90.72   \n",
       "160254         ...               1500        1.0000             62      57.96   \n",
       "180189         ...                  0        1.0000             11      66.15   \n",
       "\n",
       "        damageDealtNorm maxPlaceNorm  matchDurationNorm  healsandboosts  \\\n",
       "57978           6854.00        14.72            3308.32               0   \n",
       "87793           5680.08        14.72            3308.32              27   \n",
       "156599         10355.31        20.79            3398.22               7   \n",
       "160254          5565.54        11.04            1164.72               0   \n",
       "180189          5993.19        17.01            3394.44              15   \n",
       "\n",
       "        totalDistance  killsWithoutMoving  \n",
       "57978           48.82               False  \n",
       "87793          780.70               False  \n",
       "156599          23.71               False  \n",
       "160254         718.30               False  \n",
       "180189          71.51               False  \n",
       "\n",
       "[5 rows x 37 columns]"
      ]
     },
     "execution_count": 33,
     "metadata": {},
     "output_type": "execute_result"
    }
   ],
   "source": [
    "train[train['kills'] > 30].head()"
   ]
  },
  {
   "cell_type": "code",
   "execution_count": 34,
   "metadata": {},
   "outputs": [],
   "source": [
    "# 异常数据删除\n",
    "train.drop(train[train['kills'] > 30].index, inplace=True)"
   ]
  },
  {
   "cell_type": "markdown",
   "metadata": {},
   "source": [
    "#### 异常值处理：删除爆头率异常数据\n",
    "如果一个玩家的击杀爆头率过高，也说明其有问题"
   ]
  },
  {
   "cell_type": "code",
   "execution_count": 35,
   "metadata": {},
   "outputs": [],
   "source": [
    "# 创建变量爆头率\n",
    "train['headshot_rate'] = train['headshotKills'] / train['kills']\n",
    "train['headshot_rate'] = train['headshot_rate'].fillna(0)"
   ]
  },
  {
   "cell_type": "code",
   "execution_count": 36,
   "metadata": {},
   "outputs": [
    {
     "data": {
      "text/plain": [
       "4446961    0.0\n",
       "4446962    0.0\n",
       "4446963    0.0\n",
       "4446964    0.5\n",
       "4446965    0.0\n",
       "Name: headshot_rate, dtype: float64"
      ]
     },
     "execution_count": 36,
     "metadata": {},
     "output_type": "execute_result"
    }
   ],
   "source": [
    "train[\"headshot_rate\"].tail()"
   ]
  },
  {
   "cell_type": "code",
   "execution_count": 37,
   "metadata": {},
   "outputs": [
    {
     "data": {
      "image/png": "[encoded data removed]",
      "text/plain": [
       "<Figure size 864x288 with 1 Axes>"
      ]
     },
     "metadata": {
      "needs_background": "light"
     },
     "output_type": "display_data"
    }
   ],
   "source": [
    "# 绘制爆头率图像\n",
    "plt.figure(figsize=(12,4))\n",
    "sns.distplot(train['headshot_rate'], bins=10)\n",
    "plt.show()"
   ]
  },
  {
   "cell_type": "code",
   "execution_count": 38,
   "metadata": {},
   "outputs": [
    {
     "data": {
      "text/plain": [
       "(24, 38)"
      ]
     },
     "execution_count": 38,
     "metadata": {},
     "output_type": "execute_result"
    }
   ],
   "source": [
    "train[(train['headshot_rate'] == 1) & (train['kills'] > 9)].shape"
   ]
  },
  {
   "cell_type": "code",
   "execution_count": 39,
   "metadata": {},
   "outputs": [
    {
     "data": {
      "text/html": [
       "<div>\n",
       "<style scoped>\n",
       "    .dataframe tbody tr th:only-of-type {\n",
       "        vertical-align: middle;\n",
       "    }\n",
       "\n",
       "    .dataframe tbody tr th {\n",
       "        vertical-align: top;\n",
       "    }\n",
       "\n",
       "    .dataframe thead th {\n",
       "        text-align: right;\n",
       "    }\n",
       "</style>\n",
       "<table border=\"1\" class=\"dataframe\">\n",
       "  <thead>\n",
       "    <tr style=\"text-align: right;\">\n",
       "      <th></th>\n",
       "      <th>Id</th>\n",
       "      <th>groupId</th>\n",
       "      <th>matchId</th>\n",
       "      <th>assists</th>\n",
       "      <th>boosts</th>\n",
       "      <th>damageDealt</th>\n",
       "      <th>DBNOs</th>\n",
       "      <th>headshotKills</th>\n",
       "      <th>heals</th>\n",
       "      <th>killPlace</th>\n",
       "      <th>...</th>\n",
       "      <th>winPlacePerc</th>\n",
       "      <th>playersJoined</th>\n",
       "      <th>killsNorm</th>\n",
       "      <th>damageDealtNorm</th>\n",
       "      <th>maxPlaceNorm</th>\n",
       "      <th>matchDurationNorm</th>\n",
       "      <th>healsandboosts</th>\n",
       "      <th>totalDistance</th>\n",
       "      <th>killsWithoutMoving</th>\n",
       "      <th>headshot_rate</th>\n",
       "    </tr>\n",
       "  </thead>\n",
       "  <tbody>\n",
       "    <tr>\n",
       "      <th>281570</th>\n",
       "      <td>ab9d7168570927</td>\n",
       "      <td>add05ebde0214c</td>\n",
       "      <td>e016a873339c7b</td>\n",
       "      <td>2</td>\n",
       "      <td>3</td>\n",
       "      <td>1212.0</td>\n",
       "      <td>8</td>\n",
       "      <td>10</td>\n",
       "      <td>0</td>\n",
       "      <td>1</td>\n",
       "      <td>...</td>\n",
       "      <td>0.8462</td>\n",
       "      <td>93</td>\n",
       "      <td>10.70</td>\n",
       "      <td>1296.84</td>\n",
       "      <td>28.89</td>\n",
       "      <td>1522.61</td>\n",
       "      <td>3</td>\n",
       "      <td>2939.0</td>\n",
       "      <td>False</td>\n",
       "      <td>1.0</td>\n",
       "    </tr>\n",
       "    <tr>\n",
       "      <th>346124</th>\n",
       "      <td>044d18fc42fc75</td>\n",
       "      <td>fc1dbc2df6a887</td>\n",
       "      <td>628107d4c41084</td>\n",
       "      <td>3</td>\n",
       "      <td>5</td>\n",
       "      <td>1620.0</td>\n",
       "      <td>13</td>\n",
       "      <td>11</td>\n",
       "      <td>3</td>\n",
       "      <td>1</td>\n",
       "      <td>...</td>\n",
       "      <td>1.0000</td>\n",
       "      <td>96</td>\n",
       "      <td>11.44</td>\n",
       "      <td>1684.80</td>\n",
       "      <td>28.08</td>\n",
       "      <td>1796.08</td>\n",
       "      <td>8</td>\n",
       "      <td>8142.0</td>\n",
       "      <td>False</td>\n",
       "      <td>1.0</td>\n",
       "    </tr>\n",
       "    <tr>\n",
       "      <th>871244</th>\n",
       "      <td>e668a25f5488e3</td>\n",
       "      <td>5ba8feabfb2a23</td>\n",
       "      <td>f6e6581e03ba4f</td>\n",
       "      <td>0</td>\n",
       "      <td>4</td>\n",
       "      <td>1365.0</td>\n",
       "      <td>9</td>\n",
       "      <td>13</td>\n",
       "      <td>0</td>\n",
       "      <td>1</td>\n",
       "      <td>...</td>\n",
       "      <td>1.0000</td>\n",
       "      <td>98</td>\n",
       "      <td>13.26</td>\n",
       "      <td>1392.30</td>\n",
       "      <td>27.54</td>\n",
       "      <td>1280.10</td>\n",
       "      <td>4</td>\n",
       "      <td>2105.0</td>\n",
       "      <td>False</td>\n",
       "      <td>1.0</td>\n",
       "    </tr>\n",
       "    <tr>\n",
       "      <th>908815</th>\n",
       "      <td>566d8218b705aa</td>\n",
       "      <td>a9b056478d71b2</td>\n",
       "      <td>3a41552d553583</td>\n",
       "      <td>2</td>\n",
       "      <td>5</td>\n",
       "      <td>1535.0</td>\n",
       "      <td>10</td>\n",
       "      <td>10</td>\n",
       "      <td>3</td>\n",
       "      <td>1</td>\n",
       "      <td>...</td>\n",
       "      <td>0.9630</td>\n",
       "      <td>95</td>\n",
       "      <td>10.50</td>\n",
       "      <td>1611.75</td>\n",
       "      <td>29.40</td>\n",
       "      <td>1929.90</td>\n",
       "      <td>8</td>\n",
       "      <td>7948.0</td>\n",
       "      <td>False</td>\n",
       "      <td>1.0</td>\n",
       "    </tr>\n",
       "    <tr>\n",
       "      <th>963463</th>\n",
       "      <td>1bd6fd288df4f0</td>\n",
       "      <td>90584ffa22fe15</td>\n",
       "      <td>ba2de992ec7bb8</td>\n",
       "      <td>2</td>\n",
       "      <td>6</td>\n",
       "      <td>1355.0</td>\n",
       "      <td>12</td>\n",
       "      <td>10</td>\n",
       "      <td>2</td>\n",
       "      <td>1</td>\n",
       "      <td>...</td>\n",
       "      <td>1.0000</td>\n",
       "      <td>96</td>\n",
       "      <td>10.40</td>\n",
       "      <td>1409.20</td>\n",
       "      <td>28.08</td>\n",
       "      <td>1473.68</td>\n",
       "      <td>8</td>\n",
       "      <td>3476.0</td>\n",
       "      <td>False</td>\n",
       "      <td>1.0</td>\n",
       "    </tr>\n",
       "  </tbody>\n",
       "</table>\n",
       "<p>5 rows × 38 columns</p>\n",
       "</div>"
      ],
      "text/plain": [
       "                    Id         groupId         matchId  assists  boosts  \\\n",
       "281570  ab9d7168570927  add05ebde0214c  e016a873339c7b        2       3   \n",
       "346124  044d18fc42fc75  fc1dbc2df6a887  628107d4c41084        3       5   \n",
       "871244  e668a25f5488e3  5ba8feabfb2a23  f6e6581e03ba4f        0       4   \n",
       "908815  566d8218b705aa  a9b056478d71b2  3a41552d553583        2       5   \n",
       "963463  1bd6fd288df4f0  90584ffa22fe15  ba2de992ec7bb8        2       6   \n",
       "\n",
       "        damageDealt  DBNOs  headshotKills  heals  killPlace      ...        \\\n",
       "281570       1212.0      8             10      0          1      ...         \n",
       "346124       1620.0     13             11      3          1      ...         \n",
       "871244       1365.0      9             13      0          1      ...         \n",
       "908815       1535.0     10             10      3          1      ...         \n",
       "963463       1355.0     12             10      2          1      ...         \n",
       "\n",
       "        winPlacePerc  playersJoined  killsNorm  damageDealtNorm  maxPlaceNorm  \\\n",
       "281570        0.8462             93      10.70          1296.84         28.89   \n",
       "346124        1.0000             96      11.44          1684.80         28.08   \n",
       "871244        1.0000             98      13.26          1392.30         27.54   \n",
       "908815        0.9630             95      10.50          1611.75         29.40   \n",
       "963463        1.0000             96      10.40          1409.20         28.08   \n",
       "\n",
       "       matchDurationNorm  healsandboosts  totalDistance  killsWithoutMoving  \\\n",
       "281570           1522.61               3         2939.0               False   \n",
       "346124           1796.08               8         8142.0               False   \n",
       "871244           1280.10               4         2105.0               False   \n",
       "908815           1929.90               8         7948.0               False   \n",
       "963463           1473.68               8         3476.0               False   \n",
       "\n",
       "        headshot_rate  \n",
       "281570            1.0  \n",
       "346124            1.0  \n",
       "871244            1.0  \n",
       "908815            1.0  \n",
       "963463            1.0  \n",
       "\n",
       "[5 rows x 38 columns]"
      ]
     },
     "execution_count": 39,
     "metadata": {},
     "output_type": "execute_result"
    }
   ],
   "source": [
    "train[(train['headshot_rate'] == 1) & (train['kills'] > 9)].head()"
   ]
  },
  {
   "cell_type": "code",
   "execution_count": 40,
   "metadata": {},
   "outputs": [],
   "source": [
    "train.drop(train[(train['headshot_rate'] == 1) & (train['kills'] > 9)].index, inplace=True)"
   ]
  },
  {
   "cell_type": "markdown",
   "metadata": {},
   "source": [
    "#### 异常值处理：删除最远杀敌距离异常数据"
   ]
  },
  {
   "cell_type": "code",
   "execution_count": 41,
   "metadata": {},
   "outputs": [
    {
     "data": {
      "image/png": "[encoded data removed]",
      "text/plain": [
       "<Figure size 864x288 with 1 Axes>"
      ]
     },
     "metadata": {
      "needs_background": "light"
     },
     "output_type": "display_data"
    }
   ],
   "source": [
    "# 绘制图像\n",
    "plt.figure(figsize=(12,4))\n",
    "sns.distplot(train['longestKill'], bins=10)\n",
    "plt.show()"
   ]
  },
  {
   "cell_type": "code",
   "execution_count": 42,
   "metadata": {},
   "outputs": [
    {
     "data": {
      "text/plain": [
       "(20, 38)"
      ]
     },
     "execution_count": 42,
     "metadata": {},
     "output_type": "execute_result"
    }
   ],
   "source": [
    "# 找出最远杀敌距离大于等于1km的玩家\n",
    "train[train['longestKill'] >= 1000].shape"
   ]
  },
  {
   "cell_type": "code",
   "execution_count": 43,
   "metadata": {},
   "outputs": [
    {
     "data": {
      "text/plain": [
       "202281    1000.0\n",
       "240005    1004.0\n",
       "324313    1026.0\n",
       "656553    1000.0\n",
       "803632    1075.0\n",
       "Name: longestKill, dtype: float64"
      ]
     },
     "execution_count": 43,
     "metadata": {},
     "output_type": "execute_result"
    }
   ],
   "source": [
    "train[train['longestKill'] >= 1000][\"longestKill\"].head()"
   ]
  },
  {
   "cell_type": "code",
   "execution_count": 44,
   "metadata": {},
   "outputs": [],
   "source": [
    "train.drop(train[train['longestKill'] >= 1000].index, inplace=True)"
   ]
  },
  {
   "cell_type": "code",
   "execution_count": 45,
   "metadata": {},
   "outputs": [
    {
     "data": {
      "text/plain": [
       "(4445287, 38)"
      ]
     },
     "execution_count": 45,
     "metadata": {},
     "output_type": "execute_result"
    }
   ],
   "source": [
    "train.shape"
   ]
  },
  {
   "cell_type": "markdown",
   "metadata": {},
   "source": [
    "#### 异常值处理：删除关于运动距离的异常值"
   ]
  },
  {
   "cell_type": "code",
   "execution_count": 46,
   "metadata": {},
   "outputs": [
    {
     "data": {
      "text/html": [
       "<div>\n",
       "<style scoped>\n",
       "    .dataframe tbody tr th:only-of-type {\n",
       "        vertical-align: middle;\n",
       "    }\n",
       "\n",
       "    .dataframe tbody tr th {\n",
       "        vertical-align: top;\n",
       "    }\n",
       "\n",
       "    .dataframe thead th {\n",
       "        text-align: right;\n",
       "    }\n",
       "</style>\n",
       "<table border=\"1\" class=\"dataframe\">\n",
       "  <thead>\n",
       "    <tr style=\"text-align: right;\">\n",
       "      <th></th>\n",
       "      <th>walkDistance</th>\n",
       "      <th>rideDistance</th>\n",
       "      <th>swimDistance</th>\n",
       "      <th>totalDistance</th>\n",
       "    </tr>\n",
       "  </thead>\n",
       "  <tbody>\n",
       "    <tr>\n",
       "      <th>count</th>\n",
       "      <td>4.445287e+06</td>\n",
       "      <td>4.445287e+06</td>\n",
       "      <td>4.445287e+06</td>\n",
       "      <td>4.445287e+06</td>\n",
       "    </tr>\n",
       "    <tr>\n",
       "      <th>mean</th>\n",
       "      <td>1.154619e+03</td>\n",
       "      <td>6.063215e+02</td>\n",
       "      <td>4.510898e+00</td>\n",
       "      <td>1.765451e+03</td>\n",
       "    </tr>\n",
       "    <tr>\n",
       "      <th>std</th>\n",
       "      <td>1.183508e+03</td>\n",
       "      <td>1.498562e+03</td>\n",
       "      <td>3.050738e+01</td>\n",
       "      <td>2.183248e+03</td>\n",
       "    </tr>\n",
       "    <tr>\n",
       "      <th>min</th>\n",
       "      <td>0.000000e+00</td>\n",
       "      <td>0.000000e+00</td>\n",
       "      <td>0.000000e+00</td>\n",
       "      <td>0.000000e+00</td>\n",
       "    </tr>\n",
       "    <tr>\n",
       "      <th>25%</th>\n",
       "      <td>1.554000e+02</td>\n",
       "      <td>0.000000e+00</td>\n",
       "      <td>0.000000e+00</td>\n",
       "      <td>1.584000e+02</td>\n",
       "    </tr>\n",
       "    <tr>\n",
       "      <th>50%</th>\n",
       "      <td>6.863000e+02</td>\n",
       "      <td>0.000000e+00</td>\n",
       "      <td>0.000000e+00</td>\n",
       "      <td>7.892500e+02</td>\n",
       "    </tr>\n",
       "    <tr>\n",
       "      <th>75%</th>\n",
       "      <td>1.977000e+03</td>\n",
       "      <td>2.566000e-01</td>\n",
       "      <td>0.000000e+00</td>\n",
       "      <td>2.729000e+03</td>\n",
       "    </tr>\n",
       "    <tr>\n",
       "      <th>max</th>\n",
       "      <td>2.578000e+04</td>\n",
       "      <td>4.071000e+04</td>\n",
       "      <td>3.823000e+03</td>\n",
       "      <td>4.127010e+04</td>\n",
       "    </tr>\n",
       "  </tbody>\n",
       "</table>\n",
       "</div>"
      ],
      "text/plain": [
       "       walkDistance  rideDistance  swimDistance  totalDistance\n",
       "count  4.445287e+06  4.445287e+06  4.445287e+06   4.445287e+06\n",
       "mean   1.154619e+03  6.063215e+02  4.510898e+00   1.765451e+03\n",
       "std    1.183508e+03  1.498562e+03  3.050738e+01   2.183248e+03\n",
       "min    0.000000e+00  0.000000e+00  0.000000e+00   0.000000e+00\n",
       "25%    1.554000e+02  0.000000e+00  0.000000e+00   1.584000e+02\n",
       "50%    6.863000e+02  0.000000e+00  0.000000e+00   7.892500e+02\n",
       "75%    1.977000e+03  2.566000e-01  0.000000e+00   2.729000e+03\n",
       "max    2.578000e+04  4.071000e+04  3.823000e+03   4.127010e+04"
      ]
     },
     "execution_count": 46,
     "metadata": {},
     "output_type": "execute_result"
    }
   ],
   "source": [
    "# 距离整体描述\n",
    "train[['walkDistance', 'rideDistance', 'swimDistance', 'totalDistance']].describe()"
   ]
  },
  {
   "cell_type": "markdown",
   "metadata": {},
   "source": [
    "##### a）行走距离处理"
   ]
  },
  {
   "cell_type": "code",
   "execution_count": 47,
   "metadata": {},
   "outputs": [
    {
     "data": {
      "image/png": "[encoded data removed]",
      "text/plain": [
       "<Figure size 864x288 with 1 Axes>"
      ]
     },
     "metadata": {
      "needs_background": "light"
     },
     "output_type": "display_data"
    }
   ],
   "source": [
    "plt.figure(figsize=(12,4))\n",
    "sns.distplot(train['walkDistance'], bins=10)\n",
    "plt.show()"
   ]
  },
  {
   "cell_type": "code",
   "execution_count": 48,
   "metadata": {},
   "outputs": [
    {
     "data": {
      "text/plain": [
       "(219, 38)"
      ]
     },
     "execution_count": 48,
     "metadata": {},
     "output_type": "execute_result"
    }
   ],
   "source": [
    "train[train['walkDistance'] >= 10000].shape"
   ]
  },
  {
   "cell_type": "code",
   "execution_count": 49,
   "metadata": {},
   "outputs": [
    {
     "data": {
      "text/html": [
       "<div>\n",
       "<style scoped>\n",
       "    .dataframe tbody tr th:only-of-type {\n",
       "        vertical-align: middle;\n",
       "    }\n",
       "\n",
       "    .dataframe tbody tr th {\n",
       "        vertical-align: top;\n",
       "    }\n",
       "\n",
       "    .dataframe thead th {\n",
       "        text-align: right;\n",
       "    }\n",
       "</style>\n",
       "<table border=\"1\" class=\"dataframe\">\n",
       "  <thead>\n",
       "    <tr style=\"text-align: right;\">\n",
       "      <th></th>\n",
       "      <th>Id</th>\n",
       "      <th>groupId</th>\n",
       "      <th>matchId</th>\n",
       "      <th>assists</th>\n",
       "      <th>boosts</th>\n",
       "      <th>damageDealt</th>\n",
       "      <th>DBNOs</th>\n",
       "      <th>headshotKills</th>\n",
       "      <th>heals</th>\n",
       "      <th>killPlace</th>\n",
       "      <th>...</th>\n",
       "      <th>winPlacePerc</th>\n",
       "      <th>playersJoined</th>\n",
       "      <th>killsNorm</th>\n",
       "      <th>damageDealtNorm</th>\n",
       "      <th>maxPlaceNorm</th>\n",
       "      <th>matchDurationNorm</th>\n",
       "      <th>healsandboosts</th>\n",
       "      <th>totalDistance</th>\n",
       "      <th>killsWithoutMoving</th>\n",
       "      <th>headshot_rate</th>\n",
       "    </tr>\n",
       "  </thead>\n",
       "  <tbody>\n",
       "    <tr>\n",
       "      <th>23026</th>\n",
       "      <td>8a6562381dd83f</td>\n",
       "      <td>23e638cd6eaf77</td>\n",
       "      <td>b0a804a610e9b0</td>\n",
       "      <td>0</td>\n",
       "      <td>1</td>\n",
       "      <td>0.00</td>\n",
       "      <td>0</td>\n",
       "      <td>0</td>\n",
       "      <td>0</td>\n",
       "      <td>44</td>\n",
       "      <td>...</td>\n",
       "      <td>0.8163</td>\n",
       "      <td>99</td>\n",
       "      <td>0.00</td>\n",
       "      <td>0.0000</td>\n",
       "      <td>99.99</td>\n",
       "      <td>1925.06</td>\n",
       "      <td>1</td>\n",
       "      <td>13540.3032</td>\n",
       "      <td>False</td>\n",
       "      <td>0.0</td>\n",
       "    </tr>\n",
       "    <tr>\n",
       "      <th>34344</th>\n",
       "      <td>5a591ecc957393</td>\n",
       "      <td>6717370b51c247</td>\n",
       "      <td>a15d93e7165b05</td>\n",
       "      <td>0</td>\n",
       "      <td>3</td>\n",
       "      <td>23.22</td>\n",
       "      <td>0</td>\n",
       "      <td>0</td>\n",
       "      <td>1</td>\n",
       "      <td>34</td>\n",
       "      <td>...</td>\n",
       "      <td>0.9474</td>\n",
       "      <td>65</td>\n",
       "      <td>0.00</td>\n",
       "      <td>31.3470</td>\n",
       "      <td>27.00</td>\n",
       "      <td>2668.95</td>\n",
       "      <td>4</td>\n",
       "      <td>10070.9073</td>\n",
       "      <td>False</td>\n",
       "      <td>0.0</td>\n",
       "    </tr>\n",
       "    <tr>\n",
       "      <th>49312</th>\n",
       "      <td>582685f487f0b4</td>\n",
       "      <td>338112cd12f1e7</td>\n",
       "      <td>d0afbf5c3a6dc9</td>\n",
       "      <td>0</td>\n",
       "      <td>4</td>\n",
       "      <td>117.20</td>\n",
       "      <td>1</td>\n",
       "      <td>0</td>\n",
       "      <td>1</td>\n",
       "      <td>24</td>\n",
       "      <td>...</td>\n",
       "      <td>0.9130</td>\n",
       "      <td>94</td>\n",
       "      <td>1.06</td>\n",
       "      <td>124.2320</td>\n",
       "      <td>49.82</td>\n",
       "      <td>2323.52</td>\n",
       "      <td>5</td>\n",
       "      <td>12446.7588</td>\n",
       "      <td>False</td>\n",
       "      <td>0.0</td>\n",
       "    </tr>\n",
       "    <tr>\n",
       "      <th>68590</th>\n",
       "      <td>8c0d9dd0b4463c</td>\n",
       "      <td>c963553dc937e9</td>\n",
       "      <td>926681ea721a47</td>\n",
       "      <td>0</td>\n",
       "      <td>1</td>\n",
       "      <td>32.34</td>\n",
       "      <td>0</td>\n",
       "      <td>0</td>\n",
       "      <td>1</td>\n",
       "      <td>46</td>\n",
       "      <td>...</td>\n",
       "      <td>0.8333</td>\n",
       "      <td>96</td>\n",
       "      <td>0.00</td>\n",
       "      <td>33.6336</td>\n",
       "      <td>50.96</td>\n",
       "      <td>1909.44</td>\n",
       "      <td>2</td>\n",
       "      <td>12483.6200</td>\n",
       "      <td>False</td>\n",
       "      <td>0.0</td>\n",
       "    </tr>\n",
       "    <tr>\n",
       "      <th>94400</th>\n",
       "      <td>d441bebd01db61</td>\n",
       "      <td>7e179b3366adb8</td>\n",
       "      <td>923b57b8b834cc</td>\n",
       "      <td>1</td>\n",
       "      <td>1</td>\n",
       "      <td>73.08</td>\n",
       "      <td>0</td>\n",
       "      <td>0</td>\n",
       "      <td>3</td>\n",
       "      <td>27</td>\n",
       "      <td>...</td>\n",
       "      <td>0.8194</td>\n",
       "      <td>73</td>\n",
       "      <td>0.00</td>\n",
       "      <td>92.8116</td>\n",
       "      <td>92.71</td>\n",
       "      <td>2293.62</td>\n",
       "      <td>4</td>\n",
       "      <td>11490.6300</td>\n",
       "      <td>False</td>\n",
       "      <td>0.0</td>\n",
       "    </tr>\n",
       "  </tbody>\n",
       "</table>\n",
       "<p>5 rows × 38 columns</p>\n",
       "</div>"
      ],
      "text/plain": [
       "                   Id         groupId         matchId  assists  boosts  \\\n",
       "23026  8a6562381dd83f  23e638cd6eaf77  b0a804a610e9b0        0       1   \n",
       "34344  5a591ecc957393  6717370b51c247  a15d93e7165b05        0       3   \n",
       "49312  582685f487f0b4  338112cd12f1e7  d0afbf5c3a6dc9        0       4   \n",
       "68590  8c0d9dd0b4463c  c963553dc937e9  926681ea721a47        0       1   \n",
       "94400  d441bebd01db61  7e179b3366adb8  923b57b8b834cc        1       1   \n",
       "\n",
       "       damageDealt  DBNOs  headshotKills  heals  killPlace      ...        \\\n",
       "23026         0.00      0              0      0         44      ...         \n",
       "34344        23.22      0              0      1         34      ...         \n",
       "49312       117.20      1              0      1         24      ...         \n",
       "68590        32.34      0              0      1         46      ...         \n",
       "94400        73.08      0              0      3         27      ...         \n",
       "\n",
       "       winPlacePerc  playersJoined  killsNorm  damageDealtNorm  maxPlaceNorm  \\\n",
       "23026        0.8163             99       0.00           0.0000         99.99   \n",
       "34344        0.9474             65       0.00          31.3470         27.00   \n",
       "49312        0.9130             94       1.06         124.2320         49.82   \n",
       "68590        0.8333             96       0.00          33.6336         50.96   \n",
       "94400        0.8194             73       0.00          92.8116         92.71   \n",
       "\n",
       "      matchDurationNorm  healsandboosts  totalDistance  killsWithoutMoving  \\\n",
       "23026           1925.06               1     13540.3032               False   \n",
       "34344           2668.95               4     10070.9073               False   \n",
       "49312           2323.52               5     12446.7588               False   \n",
       "68590           1909.44               2     12483.6200               False   \n",
       "94400           2293.62               4     11490.6300               False   \n",
       "\n",
       "       headshot_rate  \n",
       "23026            0.0  \n",
       "34344            0.0  \n",
       "49312            0.0  \n",
       "68590            0.0  \n",
       "94400            0.0  \n",
       "\n",
       "[5 rows x 38 columns]"
      ]
     },
     "execution_count": 49,
     "metadata": {},
     "output_type": "execute_result"
    }
   ],
   "source": [
    "train[train['walkDistance'] >= 10000].head()"
   ]
  },
  {
   "cell_type": "code",
   "execution_count": 50,
   "metadata": {},
   "outputs": [],
   "source": [
    "train.drop(train[train['walkDistance'] >= 10000].index, inplace=True)"
   ]
  },
  {
   "cell_type": "markdown",
   "metadata": {},
   "source": [
    "#####  b）载具行驶距离处理"
   ]
  },
  {
   "cell_type": "code",
   "execution_count": 51,
   "metadata": {},
   "outputs": [
    {
     "data": {
      "image/png": "[encoded data removed]",
      "text/plain": [
       "<Figure size 864x288 with 1 Axes>"
      ]
     },
     "metadata": {
      "needs_background": "light"
     },
     "output_type": "display_data"
    }
   ],
   "source": [
    "plt.figure(figsize=(12,4))\n",
    "sns.distplot(train['rideDistance'], bins=10)\n",
    "plt.show()"
   ]
  },
  {
   "cell_type": "code",
   "execution_count": 52,
   "metadata": {},
   "outputs": [
    {
     "data": {
      "text/plain": [
       "(150, 38)"
      ]
     },
     "execution_count": 52,
     "metadata": {},
     "output_type": "execute_result"
    }
   ],
   "source": [
    "train[train['rideDistance'] >= 20000].shape"
   ]
  },
  {
   "cell_type": "code",
   "execution_count": 53,
   "metadata": {},
   "outputs": [
    {
     "data": {
      "text/html": [
       "<div>\n",
       "<style scoped>\n",
       "    .dataframe tbody tr th:only-of-type {\n",
       "        vertical-align: middle;\n",
       "    }\n",
       "\n",
       "    .dataframe tbody tr th {\n",
       "        vertical-align: top;\n",
       "    }\n",
       "\n",
       "    .dataframe thead th {\n",
       "        text-align: right;\n",
       "    }\n",
       "</style>\n",
       "<table border=\"1\" class=\"dataframe\">\n",
       "  <thead>\n",
       "    <tr style=\"text-align: right;\">\n",
       "      <th></th>\n",
       "      <th>Id</th>\n",
       "      <th>groupId</th>\n",
       "      <th>matchId</th>\n",
       "      <th>assists</th>\n",
       "      <th>boosts</th>\n",
       "      <th>damageDealt</th>\n",
       "      <th>DBNOs</th>\n",
       "      <th>headshotKills</th>\n",
       "      <th>heals</th>\n",
       "      <th>killPlace</th>\n",
       "      <th>...</th>\n",
       "      <th>winPlacePerc</th>\n",
       "      <th>playersJoined</th>\n",
       "      <th>killsNorm</th>\n",
       "      <th>damageDealtNorm</th>\n",
       "      <th>maxPlaceNorm</th>\n",
       "      <th>matchDurationNorm</th>\n",
       "      <th>healsandboosts</th>\n",
       "      <th>totalDistance</th>\n",
       "      <th>killsWithoutMoving</th>\n",
       "      <th>headshot_rate</th>\n",
       "    </tr>\n",
       "  </thead>\n",
       "  <tbody>\n",
       "    <tr>\n",
       "      <th>28588</th>\n",
       "      <td>6260f7c49dc16f</td>\n",
       "      <td>b24589f02eedd7</td>\n",
       "      <td>6ebea3b4f55b4a</td>\n",
       "      <td>0</td>\n",
       "      <td>0</td>\n",
       "      <td>99.2</td>\n",
       "      <td>0</td>\n",
       "      <td>0</td>\n",
       "      <td>1</td>\n",
       "      <td>30</td>\n",
       "      <td>...</td>\n",
       "      <td>0.6421</td>\n",
       "      <td>96</td>\n",
       "      <td>1.04</td>\n",
       "      <td>103.168</td>\n",
       "      <td>99.84</td>\n",
       "      <td>1969.76</td>\n",
       "      <td>1</td>\n",
       "      <td>26306.6</td>\n",
       "      <td>False</td>\n",
       "      <td>0.000000</td>\n",
       "    </tr>\n",
       "    <tr>\n",
       "      <th>63015</th>\n",
       "      <td>adb7dae4d0c10a</td>\n",
       "      <td>8ede98a241f30a</td>\n",
       "      <td>8b36eac66378e4</td>\n",
       "      <td>0</td>\n",
       "      <td>0</td>\n",
       "      <td>0.0</td>\n",
       "      <td>0</td>\n",
       "      <td>0</td>\n",
       "      <td>0</td>\n",
       "      <td>55</td>\n",
       "      <td>...</td>\n",
       "      <td>0.5376</td>\n",
       "      <td>94</td>\n",
       "      <td>0.00</td>\n",
       "      <td>0.000</td>\n",
       "      <td>99.64</td>\n",
       "      <td>2004.46</td>\n",
       "      <td>0</td>\n",
       "      <td>22065.4</td>\n",
       "      <td>False</td>\n",
       "      <td>0.000000</td>\n",
       "    </tr>\n",
       "    <tr>\n",
       "      <th>70507</th>\n",
       "      <td>ca6fa339064d67</td>\n",
       "      <td>f7bb2e30c3461f</td>\n",
       "      <td>3bfd8d66edbeff</td>\n",
       "      <td>0</td>\n",
       "      <td>0</td>\n",
       "      <td>100.0</td>\n",
       "      <td>0</td>\n",
       "      <td>0</td>\n",
       "      <td>0</td>\n",
       "      <td>26</td>\n",
       "      <td>...</td>\n",
       "      <td>0.8878</td>\n",
       "      <td>99</td>\n",
       "      <td>1.01</td>\n",
       "      <td>101.000</td>\n",
       "      <td>99.99</td>\n",
       "      <td>1947.28</td>\n",
       "      <td>0</td>\n",
       "      <td>28917.5</td>\n",
       "      <td>False</td>\n",
       "      <td>0.000000</td>\n",
       "    </tr>\n",
       "    <tr>\n",
       "      <th>72763</th>\n",
       "      <td>198e5894e68ff4</td>\n",
       "      <td>ccf47c82abb11f</td>\n",
       "      <td>d92bf8e696b61d</td>\n",
       "      <td>0</td>\n",
       "      <td>0</td>\n",
       "      <td>0.0</td>\n",
       "      <td>0</td>\n",
       "      <td>0</td>\n",
       "      <td>0</td>\n",
       "      <td>46</td>\n",
       "      <td>...</td>\n",
       "      <td>0.7917</td>\n",
       "      <td>97</td>\n",
       "      <td>0.00</td>\n",
       "      <td>0.000</td>\n",
       "      <td>99.91</td>\n",
       "      <td>1861.21</td>\n",
       "      <td>0</td>\n",
       "      <td>21197.2</td>\n",
       "      <td>False</td>\n",
       "      <td>0.000000</td>\n",
       "    </tr>\n",
       "    <tr>\n",
       "      <th>95276</th>\n",
       "      <td>c3fabfce7589ae</td>\n",
       "      <td>15529e25aa4a74</td>\n",
       "      <td>d055504340e5f4</td>\n",
       "      <td>0</td>\n",
       "      <td>7</td>\n",
       "      <td>778.2</td>\n",
       "      <td>0</td>\n",
       "      <td>1</td>\n",
       "      <td>2</td>\n",
       "      <td>2</td>\n",
       "      <td>...</td>\n",
       "      <td>0.9785</td>\n",
       "      <td>94</td>\n",
       "      <td>7.42</td>\n",
       "      <td>824.892</td>\n",
       "      <td>99.64</td>\n",
       "      <td>1986.44</td>\n",
       "      <td>9</td>\n",
       "      <td>26733.2</td>\n",
       "      <td>False</td>\n",
       "      <td>0.142857</td>\n",
       "    </tr>\n",
       "  </tbody>\n",
       "</table>\n",
       "<p>5 rows × 38 columns</p>\n",
       "</div>"
      ],
      "text/plain": [
       "                   Id         groupId         matchId  assists  boosts  \\\n",
       "28588  6260f7c49dc16f  b24589f02eedd7  6ebea3b4f55b4a        0       0   \n",
       "63015  adb7dae4d0c10a  8ede98a241f30a  8b36eac66378e4        0       0   \n",
       "70507  ca6fa339064d67  f7bb2e30c3461f  3bfd8d66edbeff        0       0   \n",
       "72763  198e5894e68ff4  ccf47c82abb11f  d92bf8e696b61d        0       0   \n",
       "95276  c3fabfce7589ae  15529e25aa4a74  d055504340e5f4        0       7   \n",
       "\n",
       "       damageDealt  DBNOs  headshotKills  heals  killPlace      ...        \\\n",
       "28588         99.2      0              0      1         30      ...         \n",
       "63015          0.0      0              0      0         55      ...         \n",
       "70507        100.0      0              0      0         26      ...         \n",
       "72763          0.0      0              0      0         46      ...         \n",
       "95276        778.2      0              1      2          2      ...         \n",
       "\n",
       "       winPlacePerc  playersJoined  killsNorm  damageDealtNorm  maxPlaceNorm  \\\n",
       "28588        0.6421             96       1.04          103.168         99.84   \n",
       "63015        0.5376             94       0.00            0.000         99.64   \n",
       "70507        0.8878             99       1.01          101.000         99.99   \n",
       "72763        0.7917             97       0.00            0.000         99.91   \n",
       "95276        0.9785             94       7.42          824.892         99.64   \n",
       "\n",
       "      matchDurationNorm  healsandboosts  totalDistance  killsWithoutMoving  \\\n",
       "28588           1969.76               1        26306.6               False   \n",
       "63015           2004.46               0        22065.4               False   \n",
       "70507           1947.28               0        28917.5               False   \n",
       "72763           1861.21               0        21197.2               False   \n",
       "95276           1986.44               9        26733.2               False   \n",
       "\n",
       "       headshot_rate  \n",
       "28588       0.000000  \n",
       "63015       0.000000  \n",
       "70507       0.000000  \n",
       "72763       0.000000  \n",
       "95276       0.142857  \n",
       "\n",
       "[5 rows x 38 columns]"
      ]
     },
     "execution_count": 53,
     "metadata": {},
     "output_type": "execute_result"
    }
   ],
   "source": [
    "train[train['rideDistance'] >= 20000].head()"
   ]
  },
  {
   "cell_type": "code",
   "execution_count": 54,
   "metadata": {},
   "outputs": [],
   "source": [
    "train.drop(train[train['rideDistance'] >= 20000].index, inplace=True)"
   ]
  },
  {
   "cell_type": "markdown",
   "metadata": {},
   "source": [
    "##### c）游泳距离处理"
   ]
  },
  {
   "cell_type": "code",
   "execution_count": 55,
   "metadata": {},
   "outputs": [
    {
     "data": {
      "image/png": "[encoded data removed]",
      "text/plain": [
       "<Figure size 864x288 with 1 Axes>"
      ]
     },
     "metadata": {
      "needs_background": "light"
     },
     "output_type": "display_data"
    }
   ],
   "source": [
    "plt.figure(figsize=(12,4))\n",
    "sns.distplot(train['swimDistance'], bins=10)\n",
    "plt.show()"
   ]
  },
  {
   "cell_type": "code",
   "execution_count": 56,
   "metadata": {},
   "outputs": [
    {
     "data": {
      "text/plain": [
       "(12, 38)"
      ]
     },
     "execution_count": 56,
     "metadata": {},
     "output_type": "execute_result"
    }
   ],
   "source": [
    "train[train['swimDistance'] >= 2000].shape"
   ]
  },
  {
   "cell_type": "code",
   "execution_count": 57,
   "metadata": {},
   "outputs": [
    {
     "data": {
      "text/html": [
       "<div>\n",
       "<style scoped>\n",
       "    .dataframe tbody tr th:only-of-type {\n",
       "        vertical-align: middle;\n",
       "    }\n",
       "\n",
       "    .dataframe tbody tr th {\n",
       "        vertical-align: top;\n",
       "    }\n",
       "\n",
       "    .dataframe thead th {\n",
       "        text-align: right;\n",
       "    }\n",
       "</style>\n",
       "<table border=\"1\" class=\"dataframe\">\n",
       "  <thead>\n",
       "    <tr style=\"text-align: right;\">\n",
       "      <th></th>\n",
       "      <th>swimDistance</th>\n",
       "    </tr>\n",
       "  </thead>\n",
       "  <tbody>\n",
       "    <tr>\n",
       "      <th>177973</th>\n",
       "      <td>2295.0</td>\n",
       "    </tr>\n",
       "    <tr>\n",
       "      <th>274258</th>\n",
       "      <td>2148.0</td>\n",
       "    </tr>\n",
       "    <tr>\n",
       "      <th>1005337</th>\n",
       "      <td>2718.0</td>\n",
       "    </tr>\n",
       "    <tr>\n",
       "      <th>1195818</th>\n",
       "      <td>2668.0</td>\n",
       "    </tr>\n",
       "    <tr>\n",
       "      <th>1227362</th>\n",
       "      <td>3823.0</td>\n",
       "    </tr>\n",
       "    <tr>\n",
       "      <th>1889163</th>\n",
       "      <td>2484.0</td>\n",
       "    </tr>\n",
       "    <tr>\n",
       "      <th>2065940</th>\n",
       "      <td>3514.0</td>\n",
       "    </tr>\n",
       "    <tr>\n",
       "      <th>2327586</th>\n",
       "      <td>2387.0</td>\n",
       "    </tr>\n",
       "    <tr>\n",
       "      <th>2784855</th>\n",
       "      <td>2206.0</td>\n",
       "    </tr>\n",
       "    <tr>\n",
       "      <th>3359439</th>\n",
       "      <td>2338.0</td>\n",
       "    </tr>\n",
       "    <tr>\n",
       "      <th>3513522</th>\n",
       "      <td>2124.0</td>\n",
       "    </tr>\n",
       "    <tr>\n",
       "      <th>4132225</th>\n",
       "      <td>2382.0</td>\n",
       "    </tr>\n",
       "  </tbody>\n",
       "</table>\n",
       "</div>"
      ],
      "text/plain": [
       "         swimDistance\n",
       "177973         2295.0\n",
       "274258         2148.0\n",
       "1005337        2718.0\n",
       "1195818        2668.0\n",
       "1227362        3823.0\n",
       "1889163        2484.0\n",
       "2065940        3514.0\n",
       "2327586        2387.0\n",
       "2784855        2206.0\n",
       "3359439        2338.0\n",
       "3513522        2124.0\n",
       "4132225        2382.0"
      ]
     },
     "execution_count": 57,
     "metadata": {},
     "output_type": "execute_result"
    }
   ],
   "source": [
    "train[train['swimDistance'] >= 2000][[\"swimDistance\"]]"
   ]
  },
  {
   "cell_type": "code",
   "execution_count": 58,
   "metadata": {},
   "outputs": [],
   "source": [
    "train.drop(train[train['swimDistance'] >= 2000].index, inplace=True)"
   ]
  },
  {
   "cell_type": "markdown",
   "metadata": {},
   "source": [
    "#### 异常值处理：武器收集异常值处理"
   ]
  },
  {
   "cell_type": "code",
   "execution_count": 59,
   "metadata": {},
   "outputs": [
    {
     "data": {
      "image/png": "[encoded data removed]",
      "text/plain": [
       "<Figure size 864x288 with 1 Axes>"
      ]
     },
     "metadata": {
      "needs_background": "light"
     },
     "output_type": "display_data"
    }
   ],
   "source": [
    "plt.figure(figsize=(12,4))\n",
    "sns.distplot(train['weaponsAcquired'], bins=100)\n",
    "plt.show()"
   ]
  },
  {
   "cell_type": "code",
   "execution_count": 60,
   "metadata": {},
   "outputs": [
    {
     "data": {
      "text/plain": [
       "(19, 38)"
      ]
     },
     "execution_count": 60,
     "metadata": {},
     "output_type": "execute_result"
    }
   ],
   "source": [
    "train[train['weaponsAcquired'] >= 80].shape"
   ]
  },
  {
   "cell_type": "code",
   "execution_count": 61,
   "metadata": {},
   "outputs": [
    {
     "data": {
      "text/html": [
       "<div>\n",
       "<style scoped>\n",
       "    .dataframe tbody tr th:only-of-type {\n",
       "        vertical-align: middle;\n",
       "    }\n",
       "\n",
       "    .dataframe tbody tr th {\n",
       "        vertical-align: top;\n",
       "    }\n",
       "\n",
       "    .dataframe thead th {\n",
       "        text-align: right;\n",
       "    }\n",
       "</style>\n",
       "<table border=\"1\" class=\"dataframe\">\n",
       "  <thead>\n",
       "    <tr style=\"text-align: right;\">\n",
       "      <th></th>\n",
       "      <th>weaponsAcquired</th>\n",
       "    </tr>\n",
       "  </thead>\n",
       "  <tbody>\n",
       "    <tr>\n",
       "      <th>233643</th>\n",
       "      <td>128</td>\n",
       "    </tr>\n",
       "    <tr>\n",
       "      <th>588387</th>\n",
       "      <td>80</td>\n",
       "    </tr>\n",
       "    <tr>\n",
       "      <th>1437471</th>\n",
       "      <td>102</td>\n",
       "    </tr>\n",
       "    <tr>\n",
       "      <th>1449293</th>\n",
       "      <td>95</td>\n",
       "    </tr>\n",
       "    <tr>\n",
       "      <th>1592744</th>\n",
       "      <td>94</td>\n",
       "    </tr>\n",
       "  </tbody>\n",
       "</table>\n",
       "</div>"
      ],
      "text/plain": [
       "         weaponsAcquired\n",
       "233643               128\n",
       "588387                80\n",
       "1437471              102\n",
       "1449293               95\n",
       "1592744               94"
      ]
     },
     "execution_count": 61,
     "metadata": {},
     "output_type": "execute_result"
    }
   ],
   "source": [
    "train[train['weaponsAcquired'] >= 80][['weaponsAcquired']].head()"
   ]
  },
  {
   "cell_type": "code",
   "execution_count": 62,
   "metadata": {},
   "outputs": [],
   "source": [
    "train.drop(train[train['weaponsAcquired'] >= 80].index, inplace=True)"
   ]
  },
  {
   "cell_type": "markdown",
   "metadata": {},
   "source": [
    "#### 异常值处理：删除使用治疗药品数量异常值"
   ]
  },
  {
   "cell_type": "code",
   "execution_count": 63,
   "metadata": {},
   "outputs": [
    {
     "data": {
      "image/png": "[encoded data removed]",
      "text/plain": [
       "<Figure size 864x288 with 1 Axes>"
      ]
     },
     "metadata": {
      "needs_background": "light"
     },
     "output_type": "display_data"
    }
   ],
   "source": [
    "plt.figure(figsize=(12,4))\n",
    "sns.distplot(train['heals'], bins=10)\n",
    "plt.show()"
   ]
  },
  {
   "cell_type": "code",
   "execution_count": 64,
   "metadata": {},
   "outputs": [
    {
     "data": {
      "text/plain": [
       "(135, 38)"
      ]
     },
     "execution_count": 64,
     "metadata": {},
     "output_type": "execute_result"
    }
   ],
   "source": [
    "train[train['heals'] >= 40].shape"
   ]
  },
  {
   "cell_type": "code",
   "execution_count": 65,
   "metadata": {},
   "outputs": [
    {
     "data": {
      "text/html": [
       "<div>\n",
       "<style scoped>\n",
       "    .dataframe tbody tr th:only-of-type {\n",
       "        vertical-align: middle;\n",
       "    }\n",
       "\n",
       "    .dataframe tbody tr th {\n",
       "        vertical-align: top;\n",
       "    }\n",
       "\n",
       "    .dataframe thead th {\n",
       "        text-align: right;\n",
       "    }\n",
       "</style>\n",
       "<table border=\"1\" class=\"dataframe\">\n",
       "  <thead>\n",
       "    <tr style=\"text-align: right;\">\n",
       "      <th></th>\n",
       "      <th>heals</th>\n",
       "    </tr>\n",
       "  </thead>\n",
       "  <tbody>\n",
       "    <tr>\n",
       "      <th>18405</th>\n",
       "      <td>47</td>\n",
       "    </tr>\n",
       "    <tr>\n",
       "      <th>54463</th>\n",
       "      <td>43</td>\n",
       "    </tr>\n",
       "    <tr>\n",
       "      <th>126439</th>\n",
       "      <td>52</td>\n",
       "    </tr>\n",
       "    <tr>\n",
       "      <th>259351</th>\n",
       "      <td>42</td>\n",
       "    </tr>\n",
       "    <tr>\n",
       "      <th>268747</th>\n",
       "      <td>48</td>\n",
       "    </tr>\n",
       "  </tbody>\n",
       "</table>\n",
       "</div>"
      ],
      "text/plain": [
       "        heals\n",
       "18405      47\n",
       "54463      43\n",
       "126439     52\n",
       "259351     42\n",
       "268747     48"
      ]
     },
     "execution_count": 65,
     "metadata": {},
     "output_type": "execute_result"
    }
   ],
   "source": [
    "train[train['heals'] >= 40][[\"heals\"]].head()"
   ]
  },
  {
   "cell_type": "code",
   "execution_count": 66,
   "metadata": {},
   "outputs": [],
   "source": [
    "train.drop(train[train['heals'] >= 40].index, inplace=True)"
   ]
  },
  {
   "cell_type": "code",
   "execution_count": 67,
   "metadata": {},
   "outputs": [
    {
     "data": {
      "text/plain": [
       "(4444752, 38)"
      ]
     },
     "execution_count": 67,
     "metadata": {},
     "output_type": "execute_result"
    }
   ],
   "source": [
    "train.shape"
   ]
  },
  {
   "cell_type": "markdown",
   "metadata": {},
   "source": [
    "### 类别型数据处理\n",
    "#### 比赛类型one-hot处理"
   ]
  },
  {
   "cell_type": "code",
   "execution_count": 68,
   "metadata": {},
   "outputs": [
    {
     "data": {
      "text/plain": [
       "array(['squad-fpp', 'duo', 'solo-fpp', 'squad', 'duo-fpp', 'solo',\n",
       "       'normal-squad-fpp', 'crashfpp', 'flaretpp', 'normal-solo-fpp',\n",
       "       'flarefpp', 'normal-duo-fpp', 'normal-duo', 'normal-squad',\n",
       "       'crashtpp', 'normal-solo'], dtype=object)"
      ]
     },
     "execution_count": 68,
     "metadata": {},
     "output_type": "execute_result"
    }
   ],
   "source": [
    "# 关于比赛类型，共有16种方式\n",
    "train['matchType'].unique()"
   ]
  },
  {
   "cell_type": "code",
   "execution_count": 69,
   "metadata": {},
   "outputs": [],
   "source": [
    "# 对matchType进行one_hot编码\n",
    "# 通过在后面添加的方式,实现,赋值并不是替换\n",
    "train = pd.get_dummies(train, columns=['matchType'])"
   ]
  },
  {
   "cell_type": "code",
   "execution_count": 70,
   "metadata": {},
   "outputs": [
    {
     "data": {
      "text/plain": [
       "(4444752, 53)"
      ]
     },
     "execution_count": 70,
     "metadata": {},
     "output_type": "execute_result"
    }
   ],
   "source": [
    "train.shape"
   ]
  },
  {
   "cell_type": "code",
   "execution_count": 71,
   "metadata": {},
   "outputs": [
    {
     "data": {
      "text/html": [
       "<div>\n",
       "<style scoped>\n",
       "    .dataframe tbody tr th:only-of-type {\n",
       "        vertical-align: middle;\n",
       "    }\n",
       "\n",
       "    .dataframe tbody tr th {\n",
       "        vertical-align: top;\n",
       "    }\n",
       "\n",
       "    .dataframe thead th {\n",
       "        text-align: right;\n",
       "    }\n",
       "</style>\n",
       "<table border=\"1\" class=\"dataframe\">\n",
       "  <thead>\n",
       "    <tr style=\"text-align: right;\">\n",
       "      <th></th>\n",
       "      <th>matchType_crashfpp</th>\n",
       "      <th>matchType_crashtpp</th>\n",
       "      <th>matchType_duo</th>\n",
       "      <th>matchType_duo-fpp</th>\n",
       "      <th>matchType_flarefpp</th>\n",
       "      <th>matchType_flaretpp</th>\n",
       "      <th>matchType_normal-duo</th>\n",
       "      <th>matchType_normal-duo-fpp</th>\n",
       "      <th>matchType_normal-solo</th>\n",
       "      <th>matchType_normal-solo-fpp</th>\n",
       "      <th>matchType_normal-squad</th>\n",
       "      <th>matchType_normal-squad-fpp</th>\n",
       "      <th>matchType_solo</th>\n",
       "      <th>matchType_solo-fpp</th>\n",
       "      <th>matchType_squad</th>\n",
       "      <th>matchType_squad-fpp</th>\n",
       "    </tr>\n",
       "  </thead>\n",
       "  <tbody>\n",
       "    <tr>\n",
       "      <th>0</th>\n",
       "      <td>0</td>\n",
       "      <td>0</td>\n",
       "      <td>0</td>\n",
       "      <td>0</td>\n",
       "      <td>0</td>\n",
       "      <td>0</td>\n",
       "      <td>0</td>\n",
       "      <td>0</td>\n",
       "      <td>0</td>\n",
       "      <td>0</td>\n",
       "      <td>0</td>\n",
       "      <td>0</td>\n",
       "      <td>0</td>\n",
       "      <td>0</td>\n",
       "      <td>0</td>\n",
       "      <td>1</td>\n",
       "    </tr>\n",
       "    <tr>\n",
       "      <th>1</th>\n",
       "      <td>0</td>\n",
       "      <td>0</td>\n",
       "      <td>0</td>\n",
       "      <td>0</td>\n",
       "      <td>0</td>\n",
       "      <td>0</td>\n",
       "      <td>0</td>\n",
       "      <td>0</td>\n",
       "      <td>0</td>\n",
       "      <td>0</td>\n",
       "      <td>0</td>\n",
       "      <td>0</td>\n",
       "      <td>0</td>\n",
       "      <td>0</td>\n",
       "      <td>0</td>\n",
       "      <td>1</td>\n",
       "    </tr>\n",
       "    <tr>\n",
       "      <th>2</th>\n",
       "      <td>0</td>\n",
       "      <td>0</td>\n",
       "      <td>1</td>\n",
       "      <td>0</td>\n",
       "      <td>0</td>\n",
       "      <td>0</td>\n",
       "      <td>0</td>\n",
       "      <td>0</td>\n",
       "      <td>0</td>\n",
       "      <td>0</td>\n",
       "      <td>0</td>\n",
       "      <td>0</td>\n",
       "      <td>0</td>\n",
       "      <td>0</td>\n",
       "      <td>0</td>\n",
       "      <td>0</td>\n",
       "    </tr>\n",
       "    <tr>\n",
       "      <th>3</th>\n",
       "      <td>0</td>\n",
       "      <td>0</td>\n",
       "      <td>0</td>\n",
       "      <td>0</td>\n",
       "      <td>0</td>\n",
       "      <td>0</td>\n",
       "      <td>0</td>\n",
       "      <td>0</td>\n",
       "      <td>0</td>\n",
       "      <td>0</td>\n",
       "      <td>0</td>\n",
       "      <td>0</td>\n",
       "      <td>0</td>\n",
       "      <td>0</td>\n",
       "      <td>0</td>\n",
       "      <td>1</td>\n",
       "    </tr>\n",
       "    <tr>\n",
       "      <th>4</th>\n",
       "      <td>0</td>\n",
       "      <td>0</td>\n",
       "      <td>0</td>\n",
       "      <td>0</td>\n",
       "      <td>0</td>\n",
       "      <td>0</td>\n",
       "      <td>0</td>\n",
       "      <td>0</td>\n",
       "      <td>0</td>\n",
       "      <td>0</td>\n",
       "      <td>0</td>\n",
       "      <td>0</td>\n",
       "      <td>0</td>\n",
       "      <td>1</td>\n",
       "      <td>0</td>\n",
       "      <td>0</td>\n",
       "    </tr>\n",
       "  </tbody>\n",
       "</table>\n",
       "</div>"
      ],
      "text/plain": [
       "   matchType_crashfpp  matchType_crashtpp  matchType_duo  matchType_duo-fpp  \\\n",
       "0                   0                   0              0                  0   \n",
       "1                   0                   0              0                  0   \n",
       "2                   0                   0              1                  0   \n",
       "3                   0                   0              0                  0   \n",
       "4                   0                   0              0                  0   \n",
       "\n",
       "   matchType_flarefpp  matchType_flaretpp  matchType_normal-duo  \\\n",
       "0                   0                   0                     0   \n",
       "1                   0                   0                     0   \n",
       "2                   0                   0                     0   \n",
       "3                   0                   0                     0   \n",
       "4                   0                   0                     0   \n",
       "\n",
       "   matchType_normal-duo-fpp  matchType_normal-solo  matchType_normal-solo-fpp  \\\n",
       "0                         0                      0                          0   \n",
       "1                         0                      0                          0   \n",
       "2                         0                      0                          0   \n",
       "3                         0                      0                          0   \n",
       "4                         0                      0                          0   \n",
       "\n",
       "   matchType_normal-squad  matchType_normal-squad-fpp  matchType_solo  \\\n",
       "0                       0                           0               0   \n",
       "1                       0                           0               0   \n",
       "2                       0                           0               0   \n",
       "3                       0                           0               0   \n",
       "4                       0                           0               0   \n",
       "\n",
       "   matchType_solo-fpp  matchType_squad  matchType_squad-fpp  \n",
       "0                   0                0                    1  \n",
       "1                   0                0                    1  \n",
       "2                   0                0                    0  \n",
       "3                   0                0                    1  \n",
       "4                   1                0                    0  "
      ]
     },
     "execution_count": 71,
     "metadata": {},
     "output_type": "execute_result"
    }
   ],
   "source": [
    "# 通过正则匹配查看具体内容\n",
    "matchType_encoding = train.filter(regex='matchType')\n",
    "matchType_encoding.head()"
   ]
  },
  {
   "cell_type": "markdown",
   "metadata": {},
   "source": [
    "#### 对groupId,matchId等数据进行处理\n",
    "关于groupId,matchId这类型数据，也是类别型数据。但是它们的数据量特别多，如果你使用one-hot编码，无异于自杀。\n",
    "\n",
    "在这儿我们把它们变成用数字统计的类别型数据依旧不影响我们正常使用。"
   ]
  },
  {
   "cell_type": "code",
   "execution_count": 72,
   "metadata": {},
   "outputs": [
    {
     "data": {
      "text/plain": [
       "0    4d4b580de459be\n",
       "1    684d5656442f9e\n",
       "2    6a4a42c3245a74\n",
       "3    a930a9c79cd721\n",
       "4    de04010b3458dd\n",
       "Name: groupId, dtype: object"
      ]
     },
     "execution_count": 72,
     "metadata": {},
     "output_type": "execute_result"
    }
   ],
   "source": [
    "# 把groupId 和 match Id 转换成类别类型 categorical types\n",
    "# 就是把一堆不怎么好识别的内容转换成数字\n",
    "\n",
    "# 转换group_id\n",
    "train[\"groupId\"].head()"
   ]
  },
  {
   "cell_type": "code",
   "execution_count": 73,
   "metadata": {},
   "outputs": [],
   "source": [
    "train['groupId'] = train['groupId'].astype('category')"
   ]
  },
  {
   "cell_type": "code",
   "execution_count": 74,
   "metadata": {},
   "outputs": [
    {
     "data": {
      "text/plain": [
       "0    4d4b580de459be\n",
       "1    684d5656442f9e\n",
       "2    6a4a42c3245a74\n",
       "3    a930a9c79cd721\n",
       "4    de04010b3458dd\n",
       "Name: groupId, dtype: category\n",
       "Categories (2026153, object): [00000c08b5be36, 00000d1cbbc340, 000025a09dd1d7, 000038ec4dff53, ..., fffff305a0133d, fffff32bc7eab9, fffff7edfc4050, fffff98178ef52]"
      ]
     },
     "execution_count": 74,
     "metadata": {},
     "output_type": "execute_result"
    }
   ],
   "source": [
    "train[\"groupId\"].head()"
   ]
  },
  {
   "cell_type": "code",
   "execution_count": 75,
   "metadata": {},
   "outputs": [],
   "source": [
    "train[\"groupId_cat\"] = train[\"groupId\"].cat.codes"
   ]
  },
  {
   "cell_type": "code",
   "execution_count": 76,
   "metadata": {},
   "outputs": [
    {
     "data": {
      "text/plain": [
       "0     613591\n",
       "1     827580\n",
       "2     843271\n",
       "3    1340070\n",
       "4    1757334\n",
       "Name: groupId_cat, dtype: int32"
      ]
     },
     "execution_count": 76,
     "metadata": {},
     "output_type": "execute_result"
    }
   ],
   "source": [
    "train[\"groupId_cat\"].head()"
   ]
  },
  {
   "cell_type": "code",
   "execution_count": 77,
   "metadata": {},
   "outputs": [],
   "source": [
    "# 转换match_id\n",
    "train['matchId'] = train['matchId'].astype('category')\n",
    "\n",
    "train['matchId_cat'] = train['matchId'].cat.codes\n"
   ]
  },
  {
   "cell_type": "code",
   "execution_count": 78,
   "metadata": {},
   "outputs": [
    {
     "data": {
      "text/html": [
       "<div>\n",
       "<style scoped>\n",
       "    .dataframe tbody tr th:only-of-type {\n",
       "        vertical-align: middle;\n",
       "    }\n",
       "\n",
       "    .dataframe tbody tr th {\n",
       "        vertical-align: top;\n",
       "    }\n",
       "\n",
       "    .dataframe thead th {\n",
       "        text-align: right;\n",
       "    }\n",
       "</style>\n",
       "<table border=\"1\" class=\"dataframe\">\n",
       "  <thead>\n",
       "    <tr style=\"text-align: right;\">\n",
       "      <th></th>\n",
       "      <th>groupId_cat</th>\n",
       "      <th>matchId_cat</th>\n",
       "    </tr>\n",
       "  </thead>\n",
       "  <tbody>\n",
       "    <tr>\n",
       "      <th>0</th>\n",
       "      <td>613591</td>\n",
       "      <td>30085</td>\n",
       "    </tr>\n",
       "    <tr>\n",
       "      <th>1</th>\n",
       "      <td>827580</td>\n",
       "      <td>32751</td>\n",
       "    </tr>\n",
       "    <tr>\n",
       "      <th>2</th>\n",
       "      <td>843271</td>\n",
       "      <td>3143</td>\n",
       "    </tr>\n",
       "    <tr>\n",
       "      <th>3</th>\n",
       "      <td>1340070</td>\n",
       "      <td>45260</td>\n",
       "    </tr>\n",
       "    <tr>\n",
       "      <th>4</th>\n",
       "      <td>1757334</td>\n",
       "      <td>20531</td>\n",
       "    </tr>\n",
       "  </tbody>\n",
       "</table>\n",
       "</div>"
      ],
      "text/plain": [
       "   groupId_cat  matchId_cat\n",
       "0       613591        30085\n",
       "1       827580        32751\n",
       "2       843271         3143\n",
       "3      1340070        45260\n",
       "4      1757334        20531"
      ]
     },
     "execution_count": 78,
     "metadata": {},
     "output_type": "execute_result"
    }
   ],
   "source": [
    "# 删除之前列\n",
    "train.drop(['groupId', 'matchId'], axis=1, inplace=True)\n",
    "\n",
    "# 查看新产生列\n",
    "train[['groupId_cat', 'matchId_cat']].head()"
   ]
  },
  {
   "cell_type": "code",
   "execution_count": 79,
   "metadata": {},
   "outputs": [
    {
     "data": {
      "text/html": [
       "<div>\n",
       "<style scoped>\n",
       "    .dataframe tbody tr th:only-of-type {\n",
       "        vertical-align: middle;\n",
       "    }\n",
       "\n",
       "    .dataframe tbody tr th {\n",
       "        vertical-align: top;\n",
       "    }\n",
       "\n",
       "    .dataframe thead th {\n",
       "        text-align: right;\n",
       "    }\n",
       "</style>\n",
       "<table border=\"1\" class=\"dataframe\">\n",
       "  <thead>\n",
       "    <tr style=\"text-align: right;\">\n",
       "      <th></th>\n",
       "      <th>Id</th>\n",
       "      <th>assists</th>\n",
       "      <th>boosts</th>\n",
       "      <th>damageDealt</th>\n",
       "      <th>DBNOs</th>\n",
       "      <th>headshotKills</th>\n",
       "      <th>heals</th>\n",
       "      <th>killPlace</th>\n",
       "      <th>killPoints</th>\n",
       "      <th>kills</th>\n",
       "      <th>...</th>\n",
       "      <th>matchType_normal-solo</th>\n",
       "      <th>matchType_normal-solo-fpp</th>\n",
       "      <th>matchType_normal-squad</th>\n",
       "      <th>matchType_normal-squad-fpp</th>\n",
       "      <th>matchType_solo</th>\n",
       "      <th>matchType_solo-fpp</th>\n",
       "      <th>matchType_squad</th>\n",
       "      <th>matchType_squad-fpp</th>\n",
       "      <th>groupId_cat</th>\n",
       "      <th>matchId_cat</th>\n",
       "    </tr>\n",
       "  </thead>\n",
       "  <tbody>\n",
       "    <tr>\n",
       "      <th>0</th>\n",
       "      <td>7f96b2f878858a</td>\n",
       "      <td>0</td>\n",
       "      <td>0</td>\n",
       "      <td>0.00</td>\n",
       "      <td>0</td>\n",
       "      <td>0</td>\n",
       "      <td>0</td>\n",
       "      <td>60</td>\n",
       "      <td>1241</td>\n",
       "      <td>0</td>\n",
       "      <td>...</td>\n",
       "      <td>0</td>\n",
       "      <td>0</td>\n",
       "      <td>0</td>\n",
       "      <td>0</td>\n",
       "      <td>0</td>\n",
       "      <td>0</td>\n",
       "      <td>0</td>\n",
       "      <td>1</td>\n",
       "      <td>613591</td>\n",
       "      <td>30085</td>\n",
       "    </tr>\n",
       "    <tr>\n",
       "      <th>1</th>\n",
       "      <td>eef90569b9d03c</td>\n",
       "      <td>0</td>\n",
       "      <td>0</td>\n",
       "      <td>91.47</td>\n",
       "      <td>0</td>\n",
       "      <td>0</td>\n",
       "      <td>0</td>\n",
       "      <td>57</td>\n",
       "      <td>0</td>\n",
       "      <td>0</td>\n",
       "      <td>...</td>\n",
       "      <td>0</td>\n",
       "      <td>0</td>\n",
       "      <td>0</td>\n",
       "      <td>0</td>\n",
       "      <td>0</td>\n",
       "      <td>0</td>\n",
       "      <td>0</td>\n",
       "      <td>1</td>\n",
       "      <td>827580</td>\n",
       "      <td>32751</td>\n",
       "    </tr>\n",
       "    <tr>\n",
       "      <th>2</th>\n",
       "      <td>1eaf90ac73de72</td>\n",
       "      <td>1</td>\n",
       "      <td>0</td>\n",
       "      <td>68.00</td>\n",
       "      <td>0</td>\n",
       "      <td>0</td>\n",
       "      <td>0</td>\n",
       "      <td>47</td>\n",
       "      <td>0</td>\n",
       "      <td>0</td>\n",
       "      <td>...</td>\n",
       "      <td>0</td>\n",
       "      <td>0</td>\n",
       "      <td>0</td>\n",
       "      <td>0</td>\n",
       "      <td>0</td>\n",
       "      <td>0</td>\n",
       "      <td>0</td>\n",
       "      <td>0</td>\n",
       "      <td>843271</td>\n",
       "      <td>3143</td>\n",
       "    </tr>\n",
       "    <tr>\n",
       "      <th>3</th>\n",
       "      <td>4616d365dd2853</td>\n",
       "      <td>0</td>\n",
       "      <td>0</td>\n",
       "      <td>32.90</td>\n",
       "      <td>0</td>\n",
       "      <td>0</td>\n",
       "      <td>0</td>\n",
       "      <td>75</td>\n",
       "      <td>0</td>\n",
       "      <td>0</td>\n",
       "      <td>...</td>\n",
       "      <td>0</td>\n",
       "      <td>0</td>\n",
       "      <td>0</td>\n",
       "      <td>0</td>\n",
       "      <td>0</td>\n",
       "      <td>0</td>\n",
       "      <td>0</td>\n",
       "      <td>1</td>\n",
       "      <td>1340070</td>\n",
       "      <td>45260</td>\n",
       "    </tr>\n",
       "    <tr>\n",
       "      <th>4</th>\n",
       "      <td>315c96c26c9aac</td>\n",
       "      <td>0</td>\n",
       "      <td>0</td>\n",
       "      <td>100.00</td>\n",
       "      <td>0</td>\n",
       "      <td>0</td>\n",
       "      <td>0</td>\n",
       "      <td>45</td>\n",
       "      <td>0</td>\n",
       "      <td>1</td>\n",
       "      <td>...</td>\n",
       "      <td>0</td>\n",
       "      <td>0</td>\n",
       "      <td>0</td>\n",
       "      <td>0</td>\n",
       "      <td>0</td>\n",
       "      <td>1</td>\n",
       "      <td>0</td>\n",
       "      <td>0</td>\n",
       "      <td>1757334</td>\n",
       "      <td>20531</td>\n",
       "    </tr>\n",
       "  </tbody>\n",
       "</table>\n",
       "<p>5 rows × 53 columns</p>\n",
       "</div>"
      ],
      "text/plain": [
       "               Id  assists  boosts  damageDealt  DBNOs  headshotKills  heals  \\\n",
       "0  7f96b2f878858a        0       0         0.00      0              0      0   \n",
       "1  eef90569b9d03c        0       0        91.47      0              0      0   \n",
       "2  1eaf90ac73de72        1       0        68.00      0              0      0   \n",
       "3  4616d365dd2853        0       0        32.90      0              0      0   \n",
       "4  315c96c26c9aac        0       0       100.00      0              0      0   \n",
       "\n",
       "   killPlace  killPoints  kills     ...       matchType_normal-solo  \\\n",
       "0         60        1241      0     ...                           0   \n",
       "1         57           0      0     ...                           0   \n",
       "2         47           0      0     ...                           0   \n",
       "3         75           0      0     ...                           0   \n",
       "4         45           0      1     ...                           0   \n",
       "\n",
       "   matchType_normal-solo-fpp  matchType_normal-squad  \\\n",
       "0                          0                       0   \n",
       "1                          0                       0   \n",
       "2                          0                       0   \n",
       "3                          0                       0   \n",
       "4                          0                       0   \n",
       "\n",
       "   matchType_normal-squad-fpp  matchType_solo  matchType_solo-fpp  \\\n",
       "0                           0               0                   0   \n",
       "1                           0               0                   0   \n",
       "2                           0               0                   0   \n",
       "3                           0               0                   0   \n",
       "4                           0               0                   1   \n",
       "\n",
       "   matchType_squad  matchType_squad-fpp  groupId_cat  matchId_cat  \n",
       "0                0                    1       613591        30085  \n",
       "1                0                    1       827580        32751  \n",
       "2                0                    0       843271         3143  \n",
       "3                0                    1      1340070        45260  \n",
       "4                0                    0      1757334        20531  \n",
       "\n",
       "[5 rows x 53 columns]"
      ]
     },
     "execution_count": 79,
     "metadata": {},
     "output_type": "execute_result"
    }
   ],
   "source": [
    "train.head()"
   ]
  },
  {
   "cell_type": "markdown",
   "metadata": {},
   "source": [
    "### 数据截取\n",
    "#### 取部分数据进行使用（1000000）"
   ]
  },
  {
   "cell_type": "code",
   "execution_count": 80,
   "metadata": {},
   "outputs": [],
   "source": [
    "# 取前100万条数据，进行训练\n",
    "sample = 1000000\n",
    "df_sample = train.sample(sample)"
   ]
  },
  {
   "cell_type": "code",
   "execution_count": 81,
   "metadata": {},
   "outputs": [
    {
     "data": {
      "text/plain": [
       "(1000000, 53)"
      ]
     },
     "execution_count": 81,
     "metadata": {},
     "output_type": "execute_result"
    }
   ],
   "source": [
    "df_sample.shape"
   ]
  },
  {
   "cell_type": "markdown",
   "metadata": {},
   "source": [
    "### 确定特征值和目标值"
   ]
  },
  {
   "cell_type": "code",
   "execution_count": 82,
   "metadata": {},
   "outputs": [],
   "source": [
    "# 确定特征值和目标值\n",
    "df = df_sample.drop([\"winPlacePerc\", \"Id\"], axis=1) #all columns except target\n",
    "\n",
    "y = df_sample['winPlacePerc'] # Only target variable"
   ]
  },
  {
   "cell_type": "code",
   "execution_count": 83,
   "metadata": {},
   "outputs": [
    {
     "data": {
      "text/html": [
       "<div>\n",
       "<style scoped>\n",
       "    .dataframe tbody tr th:only-of-type {\n",
       "        vertical-align: middle;\n",
       "    }\n",
       "\n",
       "    .dataframe tbody tr th {\n",
       "        vertical-align: top;\n",
       "    }\n",
       "\n",
       "    .dataframe thead th {\n",
       "        text-align: right;\n",
       "    }\n",
       "</style>\n",
       "<table border=\"1\" class=\"dataframe\">\n",
       "  <thead>\n",
       "    <tr style=\"text-align: right;\">\n",
       "      <th></th>\n",
       "      <th>assists</th>\n",
       "      <th>boosts</th>\n",
       "      <th>damageDealt</th>\n",
       "      <th>DBNOs</th>\n",
       "      <th>headshotKills</th>\n",
       "      <th>heals</th>\n",
       "      <th>killPlace</th>\n",
       "      <th>killPoints</th>\n",
       "      <th>kills</th>\n",
       "      <th>killStreaks</th>\n",
       "      <th>...</th>\n",
       "      <th>matchType_normal-solo</th>\n",
       "      <th>matchType_normal-solo-fpp</th>\n",
       "      <th>matchType_normal-squad</th>\n",
       "      <th>matchType_normal-squad-fpp</th>\n",
       "      <th>matchType_solo</th>\n",
       "      <th>matchType_solo-fpp</th>\n",
       "      <th>matchType_squad</th>\n",
       "      <th>matchType_squad-fpp</th>\n",
       "      <th>groupId_cat</th>\n",
       "      <th>matchId_cat</th>\n",
       "    </tr>\n",
       "  </thead>\n",
       "  <tbody>\n",
       "    <tr>\n",
       "      <th>565181</th>\n",
       "      <td>0</td>\n",
       "      <td>0</td>\n",
       "      <td>0.0</td>\n",
       "      <td>0</td>\n",
       "      <td>0</td>\n",
       "      <td>0</td>\n",
       "      <td>29</td>\n",
       "      <td>1210</td>\n",
       "      <td>1</td>\n",
       "      <td>1</td>\n",
       "      <td>...</td>\n",
       "      <td>0</td>\n",
       "      <td>0</td>\n",
       "      <td>0</td>\n",
       "      <td>0</td>\n",
       "      <td>0</td>\n",
       "      <td>0</td>\n",
       "      <td>0</td>\n",
       "      <td>0</td>\n",
       "      <td>784273</td>\n",
       "      <td>45231</td>\n",
       "    </tr>\n",
       "    <tr>\n",
       "      <th>1278768</th>\n",
       "      <td>0</td>\n",
       "      <td>0</td>\n",
       "      <td>0.0</td>\n",
       "      <td>0</td>\n",
       "      <td>0</td>\n",
       "      <td>0</td>\n",
       "      <td>70</td>\n",
       "      <td>0</td>\n",
       "      <td>0</td>\n",
       "      <td>0</td>\n",
       "      <td>...</td>\n",
       "      <td>0</td>\n",
       "      <td>0</td>\n",
       "      <td>0</td>\n",
       "      <td>0</td>\n",
       "      <td>0</td>\n",
       "      <td>1</td>\n",
       "      <td>0</td>\n",
       "      <td>0</td>\n",
       "      <td>724178</td>\n",
       "      <td>24323</td>\n",
       "    </tr>\n",
       "    <tr>\n",
       "      <th>884983</th>\n",
       "      <td>1</td>\n",
       "      <td>4</td>\n",
       "      <td>170.1</td>\n",
       "      <td>2</td>\n",
       "      <td>0</td>\n",
       "      <td>2</td>\n",
       "      <td>23</td>\n",
       "      <td>0</td>\n",
       "      <td>1</td>\n",
       "      <td>1</td>\n",
       "      <td>...</td>\n",
       "      <td>0</td>\n",
       "      <td>0</td>\n",
       "      <td>0</td>\n",
       "      <td>0</td>\n",
       "      <td>0</td>\n",
       "      <td>0</td>\n",
       "      <td>0</td>\n",
       "      <td>1</td>\n",
       "      <td>978249</td>\n",
       "      <td>12809</td>\n",
       "    </tr>\n",
       "    <tr>\n",
       "      <th>3040251</th>\n",
       "      <td>0</td>\n",
       "      <td>2</td>\n",
       "      <td>273.2</td>\n",
       "      <td>1</td>\n",
       "      <td>0</td>\n",
       "      <td>5</td>\n",
       "      <td>22</td>\n",
       "      <td>1173</td>\n",
       "      <td>1</td>\n",
       "      <td>1</td>\n",
       "      <td>...</td>\n",
       "      <td>0</td>\n",
       "      <td>0</td>\n",
       "      <td>0</td>\n",
       "      <td>0</td>\n",
       "      <td>0</td>\n",
       "      <td>0</td>\n",
       "      <td>0</td>\n",
       "      <td>1</td>\n",
       "      <td>184567</td>\n",
       "      <td>31273</td>\n",
       "    </tr>\n",
       "    <tr>\n",
       "      <th>2285385</th>\n",
       "      <td>1</td>\n",
       "      <td>0</td>\n",
       "      <td>178.0</td>\n",
       "      <td>1</td>\n",
       "      <td>0</td>\n",
       "      <td>0</td>\n",
       "      <td>44</td>\n",
       "      <td>1245</td>\n",
       "      <td>1</td>\n",
       "      <td>1</td>\n",
       "      <td>...</td>\n",
       "      <td>0</td>\n",
       "      <td>0</td>\n",
       "      <td>0</td>\n",
       "      <td>0</td>\n",
       "      <td>0</td>\n",
       "      <td>0</td>\n",
       "      <td>0</td>\n",
       "      <td>0</td>\n",
       "      <td>889319</td>\n",
       "      <td>3893</td>\n",
       "    </tr>\n",
       "  </tbody>\n",
       "</table>\n",
       "<p>5 rows × 51 columns</p>\n",
       "</div>"
      ],
      "text/plain": [
       "         assists  boosts  damageDealt  DBNOs  headshotKills  heals  killPlace  \\\n",
       "565181         0       0          0.0      0              0      0         29   \n",
       "1278768        0       0          0.0      0              0      0         70   \n",
       "884983         1       4        170.1      2              0      2         23   \n",
       "3040251        0       2        273.2      1              0      5         22   \n",
       "2285385        1       0        178.0      1              0      0         44   \n",
       "\n",
       "         killPoints  kills  killStreaks     ...       matchType_normal-solo  \\\n",
       "565181         1210      1            1     ...                           0   \n",
       "1278768           0      0            0     ...                           0   \n",
       "884983            0      1            1     ...                           0   \n",
       "3040251        1173      1            1     ...                           0   \n",
       "2285385        1245      1            1     ...                           0   \n",
       "\n",
       "         matchType_normal-solo-fpp  matchType_normal-squad  \\\n",
       "565181                           0                       0   \n",
       "1278768                          0                       0   \n",
       "884983                           0                       0   \n",
       "3040251                          0                       0   \n",
       "2285385                          0                       0   \n",
       "\n",
       "         matchType_normal-squad-fpp  matchType_solo  matchType_solo-fpp  \\\n",
       "565181                            0               0                   0   \n",
       "1278768                           0               0                   1   \n",
       "884983                            0               0                   0   \n",
       "3040251                           0               0                   0   \n",
       "2285385                           0               0                   0   \n",
       "\n",
       "         matchType_squad  matchType_squad-fpp  groupId_cat  matchId_cat  \n",
       "565181                 0                    0       784273        45231  \n",
       "1278768                0                    0       724178        24323  \n",
       "884983                 0                    1       978249        12809  \n",
       "3040251                0                    1       184567        31273  \n",
       "2285385                0                    0       889319         3893  \n",
       "\n",
       "[5 rows x 51 columns]"
      ]
     },
     "execution_count": 83,
     "metadata": {},
     "output_type": "execute_result"
    }
   ],
   "source": [
    "df.head()"
   ]
  },
  {
   "cell_type": "code",
   "execution_count": 84,
   "metadata": {},
   "outputs": [
    {
     "data": {
      "text/plain": [
       "565181     0.5217\n",
       "1278768    0.2527\n",
       "884983     0.9231\n",
       "3040251    0.8889\n",
       "2285385    0.0417\n",
       "Name: winPlacePerc, dtype: float64"
      ]
     },
     "execution_count": 84,
     "metadata": {},
     "output_type": "execute_result"
    }
   ],
   "source": [
    "y.head()"
   ]
  },
  {
   "cell_type": "code",
   "execution_count": 85,
   "metadata": {},
   "outputs": [
    {
     "name": "stdout",
     "output_type": "stream",
     "text": [
      "(1000000, 51) (1000000,)\n"
     ]
    }
   ],
   "source": [
    "print(df.shape, y.shape)"
   ]
  },
  {
   "cell_type": "markdown",
   "metadata": {},
   "source": [
    "### 分割训练集和验证集"
   ]
  },
  {
   "cell_type": "code",
   "execution_count": 86,
   "metadata": {},
   "outputs": [
    {
     "name": "stdout",
     "output_type": "stream",
     "text": [
      "Sample train shape:  (880000, 51) \n",
      "Sample target shape:  (880000,) \n",
      "Sample validation shape:  (120000, 51)\n"
     ]
    }
   ],
   "source": [
    "# 自定义函数，分割训练集和验证集\n",
    "def split_vals(a, n : int): \n",
    "    # ps: n:int 是一种新的定义函数方式，告诉你这个n,传入应该是int类型，但不是强制的\n",
    "    return a[:n].copy(), a[n:].copy()\n",
    "val_perc = 0.12 # % to use for validation set\n",
    "n_valid = int(val_perc * sample) \n",
    "n_trn = len(df)-n_valid\n",
    "\n",
    "# 分割数据集\n",
    "raw_train, raw_valid = split_vals(df_sample, n_trn)\n",
    "X_train, X_valid = split_vals(df, n_trn)\n",
    "y_train, y_valid = split_vals(y, n_trn)\n",
    "\n",
    "# 检查数据集维度\n",
    "print('Sample train shape: ', X_train.shape, \n",
    "      '\\nSample target shape: ', y_train.shape, \n",
    "      '\\nSample validation shape: ', X_valid.shape)"
   ]
  },
  {
   "cell_type": "markdown",
   "metadata": {},
   "source": [
    "## 机器学习（模型训练）和评估"
   ]
  },
  {
   "cell_type": "code",
   "execution_count": 87,
   "metadata": {},
   "outputs": [],
   "source": [
    "# 导入需要训练和评估api\n",
    "from sklearn.ensemble import RandomForestRegressor\n",
    "from sklearn.metrics import mean_absolute_error"
   ]
  },
  {
   "cell_type": "markdown",
   "metadata": {},
   "source": [
    "### 初步使用随机森林进行模型训练"
   ]
  },
  {
   "cell_type": "code",
   "execution_count": 88,
   "metadata": {},
   "outputs": [
    {
     "data": {
      "text/plain": [
       "RandomForestRegressor(bootstrap=True, criterion='mse', max_depth=None,\n",
       "           max_features='sqrt', max_leaf_nodes=None,\n",
       "           min_impurity_decrease=0.0, min_impurity_split=None,\n",
       "           min_samples_leaf=3, min_samples_split=2,\n",
       "           min_weight_fraction_leaf=0.0, n_estimators=40, n_jobs=-1,\n",
       "           oob_score=False, random_state=None, verbose=0, warm_start=False)"
      ]
     },
     "execution_count": 88,
     "metadata": {},
     "output_type": "execute_result"
    }
   ],
   "source": [
    "# 模型训练\n",
    "m1 = RandomForestRegressor(n_estimators=40, min_samples_leaf=3, max_features='sqrt',\n",
    "                          n_jobs=-1)\n",
    "# n_jobs=-1 表示训练的时候，并行数和cpu的核数一样，如果传入具体的值，表示用几个核去跑\n",
    "\n",
    "m1.fit(X_train, y_train)"
   ]
  },
  {
   "cell_type": "code",
   "execution_count": 89,
   "metadata": {},
   "outputs": [
    {
     "data": {
      "text/plain": [
       "0.9211261114580913"
      ]
     },
     "execution_count": 89,
     "metadata": {},
     "output_type": "execute_result"
    }
   ],
   "source": [
    "y_pre = m1.predict(X_valid)\n",
    "m1.score(X_valid, y_valid)"
   ]
  },
  {
   "cell_type": "code",
   "execution_count": 90,
   "metadata": {},
   "outputs": [
    {
     "data": {
      "text/plain": [
       "0.06134628883773538"
      ]
     },
     "execution_count": 90,
     "metadata": {},
     "output_type": "execute_result"
    }
   ],
   "source": [
    "mean_absolute_error(y_true=y_valid, y_pred=y_pre)"
   ]
  },
  {
   "cell_type": "markdown",
   "metadata": {},
   "source": [
    "经过第一次计算，得出准确率为：0.92， mae=0.06"
   ]
  },
  {
   "cell_type": "markdown",
   "metadata": {},
   "source": [
    "### 再次使用随机森林，进行模型训练\n",
    "减少特征值，提高模型训练效率"
   ]
  },
  {
   "cell_type": "code",
   "execution_count": 91,
   "metadata": {},
   "outputs": [
    {
     "data": {
      "text/plain": [
       "array([6.35095577e-03, 7.76349587e-02, 2.44946259e-02, 1.76567724e-03,\n",
       "       1.27014454e-03, 4.32254115e-02, 1.67783107e-01, 1.99200052e-03,\n",
       "       6.39609344e-03, 2.88255931e-03, 9.50856157e-03, 1.09690695e-02,\n",
       "       5.87901976e-03, 7.54892226e-03, 3.48302903e-03, 8.02457958e-04,\n",
       "       1.55288860e-02, 3.31198839e-05, 1.56341614e-03, 1.24483687e-04,\n",
       "       6.44617997e-05, 2.90355609e-01, 6.49551068e-02, 2.31528973e-03,\n",
       "       6.22359074e-03, 1.02285994e-02, 7.81993834e-03, 7.00519528e-03,\n",
       "       1.18603355e-02, 2.90628266e-02, 1.65072310e-01, 0.00000000e+00,\n",
       "       2.94266078e-03, 5.59029567e-05, 6.05200130e-07, 2.16466045e-04,\n",
       "       4.99625694e-04, 1.21800071e-07, 1.91392771e-06, 5.08221519e-07,\n",
       "       6.59823220e-05, 5.78083365e-07, 1.77813484e-05, 7.06918802e-07,\n",
       "       2.98436246e-04, 2.56781611e-04, 1.18436859e-03, 1.14809540e-03,\n",
       "       9.20847747e-04, 4.10576981e-03, 4.08308467e-03])"
      ]
     },
     "execution_count": 91,
     "metadata": {},
     "output_type": "execute_result"
    }
   ],
   "source": [
    "# 查看特征值在当前模型中的重要程度\n",
    "m1.feature_importances_"
   ]
  },
  {
   "cell_type": "code",
   "execution_count": 92,
   "metadata": {},
   "outputs": [],
   "source": [
    "imp_df = pd.DataFrame({\"cols\":df.columns, \"imp\":m1.feature_importances_})"
   ]
  },
  {
   "cell_type": "code",
   "execution_count": 93,
   "metadata": {},
   "outputs": [
    {
     "data": {
      "text/html": [
       "<div>\n",
       "<style scoped>\n",
       "    .dataframe tbody tr th:only-of-type {\n",
       "        vertical-align: middle;\n",
       "    }\n",
       "\n",
       "    .dataframe tbody tr th {\n",
       "        vertical-align: top;\n",
       "    }\n",
       "\n",
       "    .dataframe thead th {\n",
       "        text-align: right;\n",
       "    }\n",
       "</style>\n",
       "<table border=\"1\" class=\"dataframe\">\n",
       "  <thead>\n",
       "    <tr style=\"text-align: right;\">\n",
       "      <th></th>\n",
       "      <th>cols</th>\n",
       "      <th>imp</th>\n",
       "    </tr>\n",
       "  </thead>\n",
       "  <tbody>\n",
       "    <tr>\n",
       "      <th>0</th>\n",
       "      <td>assists</td>\n",
       "      <td>0.006351</td>\n",
       "    </tr>\n",
       "    <tr>\n",
       "      <th>1</th>\n",
       "      <td>boosts</td>\n",
       "      <td>0.077635</td>\n",
       "    </tr>\n",
       "    <tr>\n",
       "      <th>2</th>\n",
       "      <td>damageDealt</td>\n",
       "      <td>0.024495</td>\n",
       "    </tr>\n",
       "    <tr>\n",
       "      <th>3</th>\n",
       "      <td>DBNOs</td>\n",
       "      <td>0.001766</td>\n",
       "    </tr>\n",
       "    <tr>\n",
       "      <th>4</th>\n",
       "      <td>headshotKills</td>\n",
       "      <td>0.001270</td>\n",
       "    </tr>\n",
       "  </tbody>\n",
       "</table>\n",
       "</div>"
      ],
      "text/plain": [
       "            cols       imp\n",
       "0        assists  0.006351\n",
       "1         boosts  0.077635\n",
       "2    damageDealt  0.024495\n",
       "3          DBNOs  0.001766\n",
       "4  headshotKills  0.001270"
      ]
     },
     "execution_count": 93,
     "metadata": {},
     "output_type": "execute_result"
    }
   ],
   "source": [
    "imp_df.head()"
   ]
  },
  {
   "cell_type": "code",
   "execution_count": 94,
   "metadata": {},
   "outputs": [],
   "source": [
    "imp_df = imp_df.sort_values(\"imp\", ascending=False)"
   ]
  },
  {
   "cell_type": "code",
   "execution_count": 95,
   "metadata": {},
   "outputs": [
    {
     "data": {
      "text/html": [
       "<div>\n",
       "<style scoped>\n",
       "    .dataframe tbody tr th:only-of-type {\n",
       "        vertical-align: middle;\n",
       "    }\n",
       "\n",
       "    .dataframe tbody tr th {\n",
       "        vertical-align: top;\n",
       "    }\n",
       "\n",
       "    .dataframe thead th {\n",
       "        text-align: right;\n",
       "    }\n",
       "</style>\n",
       "<table border=\"1\" class=\"dataframe\">\n",
       "  <thead>\n",
       "    <tr style=\"text-align: right;\">\n",
       "      <th></th>\n",
       "      <th>cols</th>\n",
       "      <th>imp</th>\n",
       "    </tr>\n",
       "  </thead>\n",
       "  <tbody>\n",
       "    <tr>\n",
       "      <th>21</th>\n",
       "      <td>walkDistance</td>\n",
       "      <td>0.290356</td>\n",
       "    </tr>\n",
       "    <tr>\n",
       "      <th>6</th>\n",
       "      <td>killPlace</td>\n",
       "      <td>0.167783</td>\n",
       "    </tr>\n",
       "    <tr>\n",
       "      <th>30</th>\n",
       "      <td>totalDistance</td>\n",
       "      <td>0.165072</td>\n",
       "    </tr>\n",
       "    <tr>\n",
       "      <th>1</th>\n",
       "      <td>boosts</td>\n",
       "      <td>0.077635</td>\n",
       "    </tr>\n",
       "    <tr>\n",
       "      <th>22</th>\n",
       "      <td>weaponsAcquired</td>\n",
       "      <td>0.064955</td>\n",
       "    </tr>\n",
       "  </tbody>\n",
       "</table>\n",
       "</div>"
      ],
      "text/plain": [
       "               cols       imp\n",
       "21     walkDistance  0.290356\n",
       "6         killPlace  0.167783\n",
       "30    totalDistance  0.165072\n",
       "1            boosts  0.077635\n",
       "22  weaponsAcquired  0.064955"
      ]
     },
     "execution_count": 95,
     "metadata": {},
     "output_type": "execute_result"
    }
   ],
   "source": [
    "imp_df.head()"
   ]
  },
  {
   "cell_type": "code",
   "execution_count": 96,
   "metadata": {},
   "outputs": [
    {
     "data": {
      "text/plain": [
       "<matplotlib.axes._subplots.AxesSubplot at 0x118d9ea90>"
      ]
     },
     "execution_count": 96,
     "metadata": {},
     "output_type": "execute_result"
    },
    {
     "data": {
      "image/png": "[encoded data removed]",
      "text/plain": [
       "<Figure size 1008x432 with 1 Axes>"
      ]
     },
     "metadata": {
      "needs_background": "light"
     },
     "output_type": "display_data"
    }
   ],
   "source": [
    "# Plot a feature importance graph for the 20 most important features\n",
    "# 绘制特征重要性程度图，仅展示排名前二十的特征\n",
    "plot_fea = imp_df[:20].plot('cols', 'imp', figsize=(14,6), legend=False, kind = 'barh')\n",
    "plot_fea"
   ]
  },
  {
   "cell_type": "code",
   "execution_count": 97,
   "metadata": {},
   "outputs": [
    {
     "name": "stdout",
     "output_type": "stream",
     "text": [
      "Significant features:  20\n"
     ]
    },
    {
     "data": {
      "text/plain": [
       "21         walkDistance\n",
       "6             killPlace\n",
       "30        totalDistance\n",
       "1                boosts\n",
       "22      weaponsAcquired\n",
       "5                 heals\n",
       "29       healsandboosts\n",
       "2           damageDealt\n",
       "16         rideDistance\n",
       "28    matchDurationNorm\n",
       "11        matchDuration\n",
       "25            killsNorm\n",
       "10          longestKill\n",
       "26      damageDealtNorm\n",
       "13            numGroups\n",
       "27         maxPlaceNorm\n",
       "8                 kills\n",
       "0               assists\n",
       "24        playersJoined\n",
       "12             maxPlace\n",
       "Name: cols, dtype: object"
      ]
     },
     "execution_count": 97,
     "metadata": {},
     "output_type": "execute_result"
    }
   ],
   "source": [
    "# 保留比较重要的特征\n",
    "to_keep = imp_df[imp_df.imp>0.005].cols\n",
    "print('Significant features: ', len(to_keep))\n",
    "to_keep"
   ]
  },
  {
   "cell_type": "code",
   "execution_count": 98,
   "metadata": {},
   "outputs": [
    {
     "data": {
      "text/html": [
       "<div>\n",
       "<style scoped>\n",
       "    .dataframe tbody tr th:only-of-type {\n",
       "        vertical-align: middle;\n",
       "    }\n",
       "\n",
       "    .dataframe tbody tr th {\n",
       "        vertical-align: top;\n",
       "    }\n",
       "\n",
       "    .dataframe thead th {\n",
       "        text-align: right;\n",
       "    }\n",
       "</style>\n",
       "<table border=\"1\" class=\"dataframe\">\n",
       "  <thead>\n",
       "    <tr style=\"text-align: right;\">\n",
       "      <th></th>\n",
       "      <th>walkDistance</th>\n",
       "      <th>killPlace</th>\n",
       "      <th>totalDistance</th>\n",
       "      <th>boosts</th>\n",
       "      <th>weaponsAcquired</th>\n",
       "      <th>heals</th>\n",
       "      <th>healsandboosts</th>\n",
       "      <th>damageDealt</th>\n",
       "      <th>rideDistance</th>\n",
       "      <th>matchDurationNorm</th>\n",
       "      <th>matchDuration</th>\n",
       "      <th>killsNorm</th>\n",
       "      <th>longestKill</th>\n",
       "      <th>damageDealtNorm</th>\n",
       "      <th>numGroups</th>\n",
       "      <th>maxPlaceNorm</th>\n",
       "      <th>kills</th>\n",
       "      <th>assists</th>\n",
       "      <th>playersJoined</th>\n",
       "      <th>maxPlace</th>\n",
       "    </tr>\n",
       "  </thead>\n",
       "  <tbody>\n",
       "    <tr>\n",
       "      <th>565181</th>\n",
       "      <td>1086.00</td>\n",
       "      <td>29</td>\n",
       "      <td>1277.538</td>\n",
       "      <td>0</td>\n",
       "      <td>2</td>\n",
       "      <td>0</td>\n",
       "      <td>0</td>\n",
       "      <td>0.0</td>\n",
       "      <td>187.4</td>\n",
       "      <td>1446.64</td>\n",
       "      <td>1352</td>\n",
       "      <td>1.07</td>\n",
       "      <td>10.590</td>\n",
       "      <td>0.000</td>\n",
       "      <td>46</td>\n",
       "      <td>50.29</td>\n",
       "      <td>1</td>\n",
       "      <td>0</td>\n",
       "      <td>93</td>\n",
       "      <td>47</td>\n",
       "    </tr>\n",
       "    <tr>\n",
       "      <th>1278768</th>\n",
       "      <td>42.73</td>\n",
       "      <td>70</td>\n",
       "      <td>42.730</td>\n",
       "      <td>0</td>\n",
       "      <td>2</td>\n",
       "      <td>0</td>\n",
       "      <td>0</td>\n",
       "      <td>0.0</td>\n",
       "      <td>0.0</td>\n",
       "      <td>1472.04</td>\n",
       "      <td>1363</td>\n",
       "      <td>0.00</td>\n",
       "      <td>0.000</td>\n",
       "      <td>0.000</td>\n",
       "      <td>86</td>\n",
       "      <td>99.36</td>\n",
       "      <td>0</td>\n",
       "      <td>0</td>\n",
       "      <td>92</td>\n",
       "      <td>92</td>\n",
       "    </tr>\n",
       "    <tr>\n",
       "      <th>884983</th>\n",
       "      <td>2972.00</td>\n",
       "      <td>23</td>\n",
       "      <td>2972.000</td>\n",
       "      <td>4</td>\n",
       "      <td>4</td>\n",
       "      <td>2</td>\n",
       "      <td>6</td>\n",
       "      <td>170.1</td>\n",
       "      <td>0.0</td>\n",
       "      <td>1325.00</td>\n",
       "      <td>1250</td>\n",
       "      <td>1.06</td>\n",
       "      <td>29.140</td>\n",
       "      <td>180.306</td>\n",
       "      <td>27</td>\n",
       "      <td>28.62</td>\n",
       "      <td>1</td>\n",
       "      <td>1</td>\n",
       "      <td>94</td>\n",
       "      <td>27</td>\n",
       "    </tr>\n",
       "    <tr>\n",
       "      <th>3040251</th>\n",
       "      <td>2661.00</td>\n",
       "      <td>22</td>\n",
       "      <td>2661.000</td>\n",
       "      <td>2</td>\n",
       "      <td>5</td>\n",
       "      <td>5</td>\n",
       "      <td>7</td>\n",
       "      <td>273.2</td>\n",
       "      <td>0.0</td>\n",
       "      <td>1402.50</td>\n",
       "      <td>1375</td>\n",
       "      <td>1.02</td>\n",
       "      <td>37.580</td>\n",
       "      <td>278.664</td>\n",
       "      <td>27</td>\n",
       "      <td>28.56</td>\n",
       "      <td>1</td>\n",
       "      <td>0</td>\n",
       "      <td>98</td>\n",
       "      <td>28</td>\n",
       "    </tr>\n",
       "    <tr>\n",
       "      <th>2285385</th>\n",
       "      <td>32.64</td>\n",
       "      <td>44</td>\n",
       "      <td>32.640</td>\n",
       "      <td>0</td>\n",
       "      <td>1</td>\n",
       "      <td>0</td>\n",
       "      <td>0</td>\n",
       "      <td>178.0</td>\n",
       "      <td>0.0</td>\n",
       "      <td>1568.32</td>\n",
       "      <td>1508</td>\n",
       "      <td>1.04</td>\n",
       "      <td>9.181</td>\n",
       "      <td>185.120</td>\n",
       "      <td>48</td>\n",
       "      <td>50.96</td>\n",
       "      <td>1</td>\n",
       "      <td>1</td>\n",
       "      <td>96</td>\n",
       "      <td>49</td>\n",
       "    </tr>\n",
       "  </tbody>\n",
       "</table>\n",
       "</div>"
      ],
      "text/plain": [
       "         walkDistance  killPlace  totalDistance  boosts  weaponsAcquired  \\\n",
       "565181        1086.00         29       1277.538       0                2   \n",
       "1278768         42.73         70         42.730       0                2   \n",
       "884983        2972.00         23       2972.000       4                4   \n",
       "3040251       2661.00         22       2661.000       2                5   \n",
       "2285385         32.64         44         32.640       0                1   \n",
       "\n",
       "         heals  healsandboosts  damageDealt  rideDistance  matchDurationNorm  \\\n",
       "565181       0               0          0.0         187.4            1446.64   \n",
       "1278768      0               0          0.0           0.0            1472.04   \n",
       "884983       2               6        170.1           0.0            1325.00   \n",
       "3040251      5               7        273.2           0.0            1402.50   \n",
       "2285385      0               0        178.0           0.0            1568.32   \n",
       "\n",
       "         matchDuration  killsNorm  longestKill  damageDealtNorm  numGroups  \\\n",
       "565181            1352       1.07       10.590            0.000         46   \n",
       "1278768           1363       0.00        0.000            0.000         86   \n",
       "884983            1250       1.06       29.140          180.306         27   \n",
       "3040251           1375       1.02       37.580          278.664         27   \n",
       "2285385           1508       1.04        9.181          185.120         48   \n",
       "\n",
       "         maxPlaceNorm  kills  assists  playersJoined  maxPlace  \n",
       "565181          50.29      1        0             93        47  \n",
       "1278768         99.36      0        0             92        92  \n",
       "884983          28.62      1        1             94        27  \n",
       "3040251         28.56      1        0             98        28  \n",
       "2285385         50.96      1        1             96        49  "
      ]
     },
     "execution_count": 98,
     "metadata": {},
     "output_type": "execute_result"
    }
   ],
   "source": [
    "# 由这些比较重要的特征值，生成新的df\n",
    "df[to_keep].head()"
   ]
  },
  {
   "cell_type": "code",
   "execution_count": 99,
   "metadata": {},
   "outputs": [],
   "source": [
    "# 重新制定训练集和测试集\n",
    "df_keep = df[to_keep]\n",
    "X_train, X_valid = split_vals(df_keep, n_trn)"
   ]
  },
  {
   "cell_type": "code",
   "execution_count": 100,
   "metadata": {},
   "outputs": [
    {
     "data": {
      "text/plain": [
       "RandomForestRegressor(bootstrap=True, criterion='mse', max_depth=None,\n",
       "           max_features='sqrt', max_leaf_nodes=None,\n",
       "           min_impurity_decrease=0.0, min_impurity_split=None,\n",
       "           min_samples_leaf=3, min_samples_split=2,\n",
       "           min_weight_fraction_leaf=0.0, n_estimators=40, n_jobs=-1,\n",
       "           oob_score=False, random_state=None, verbose=0, warm_start=False)"
      ]
     },
     "execution_count": 100,
     "metadata": {},
     "output_type": "execute_result"
    }
   ],
   "source": [
    "# 模型训练\n",
    "m2 = RandomForestRegressor(n_estimators=40, min_samples_leaf=3, max_features='sqrt',\n",
    "                          n_jobs=-1)\n",
    "# n_jobs=-1 表示训练的时候，并行数和cpu的核数一样，如果传入具体的值，表示用几个核去跑\n",
    "\n",
    "m2.fit(X_train, y_train)"
   ]
  },
  {
   "cell_type": "code",
   "execution_count": 101,
   "metadata": {},
   "outputs": [
    {
     "data": {
      "text/plain": [
       "0.9264190806368511"
      ]
     },
     "execution_count": 101,
     "metadata": {},
     "output_type": "execute_result"
    }
   ],
   "source": [
    "# 模型评分\n",
    "y_pre = m2.predict(X_valid)\n",
    "m2.score(X_valid, y_valid)"
   ]
  },
  {
   "cell_type": "code",
   "execution_count": 102,
   "metadata": {},
   "outputs": [
    {
     "data": {
      "text/plain": [
       "0.059019711933656814"
      ]
     },
     "execution_count": 102,
     "metadata": {},
     "output_type": "execute_result"
    }
   ],
   "source": [
    "# mae评估\n",
    "mean_absolute_error(y_true=y_valid, y_pred=y_pre)"
   ]
  },
  {
   "cell_type": "code",
   "execution_count": 103,
   "metadata": {},
   "outputs": [
    {
     "name": "stdout",
     "output_type": "stream",
     "text": [
      "<bound method RegressorMixin.score of RandomForestRegressor(bootstrap=True, criterion='mse', max_depth=None,\n",
      "           max_features='sqrt', max_leaf_nodes=None,\n",
      "           min_impurity_decrease=0.0, min_impurity_split=None,\n",
      "           min_samples_leaf=3, min_samples_split=2,\n",
      "           min_weight_fraction_leaf=0.0, n_estimators=40, n_jobs=-1,\n",
      "           oob_score=False, random_state=None, verbose=0, warm_start=False)>\n"
     ]
    }
   ],
   "source": [
    "print(m2.score)"
   ]
  },
  {
   "cell_type": "code",
   "execution_count": null,
   "metadata": {},
   "outputs": [],
   "source": []
  },
  {
   "cell_type": "code",
   "execution_count": null,
   "metadata": {},
   "outputs": [],
   "source": []
  }
 ],
 "metadata": {
  "kernelspec": {
   "display_name": "Python 3",
   "language": "python",
   "name": "python3"
  },
  "language_info": {
   "codemirror_mode": {
    "name": "ipython",
    "version": 3
   },
   "file_extension": ".py",
   "mimetype": "text/x-python",
   "name": "python",
   "nbconvert_exporter": "python",
   "pygments_lexer": "ipython3",
   "version": "3.7.1"
  },
  "toc": {
   "base_numbering": 1,
   "nav_menu": {},
   "number_sections": true,
   "sideBar": true,
   "skip_h1_title": false,
   "title_cell": "Table of Contents",
   "title_sidebar": "Contents",
   "toc_cell": false,
   "toc_position": {
    "height": "calc(100% - 180px)",
    "left": "10px",
    "top": "150px",
    "width": "458.047px"
   },
   "toc_section_display": true,
   "toc_window_display": true
  }
 },
 "nbformat": 4,
 "nbformat_minor": 2
}
