{
 "cells": [
  {
   "cell_type": "markdown",
   "metadata": {},
   "source": [
    "### 构建数据集"
   ]
  },
  {
   "cell_type": "code",
   "execution_count": 2,
   "metadata": {},
   "outputs": [],
   "source": [
    "import pandas as pd\n",
    "import numpy as np"
   ]
  },
  {
   "cell_type": "code",
   "execution_count": 3,
   "metadata": {},
   "outputs": [],
   "source": [
    "users = [\"User1\", \"User2\", \"User3\", \"User4\", \"User5\"]\n",
    "items = [\"Item A\", \"Item B\", \"Item C\", \"Item D\", \"Item E\"]\n",
    "# 用户购买记录数据集\n",
    "datasets = [\n",
    "    [1,0,1,1,0],\n",
    "    [1,0,0,1,1],\n",
    "    [1,0,1,0,0],\n",
    "    [0,1,0,1,1],\n",
    "    [1,1,1,0,1],\n",
    "]"
   ]
  },
  {
   "cell_type": "code",
   "execution_count": 4,
   "metadata": {},
   "outputs": [
    {
     "name": "stdout",
     "output_type": "stream",
     "text": [
      "       Item A  Item B  Item C  Item D  Item E\n",
      "User1       1       0       1       1       0\n",
      "User2       1       0       0       1       1\n",
      "User3       1       0       1       0       0\n",
      "User4       0       1       0       1       1\n",
      "User5       1       1       1       0       1\n"
     ]
    }
   ],
   "source": [
    "df = pd.DataFrame(datasets,\n",
    "                  columns=items,\n",
    "                  index=users)\n",
    "print(df)"
   ]
  },
  {
   "cell_type": "markdown",
   "metadata": {},
   "source": [
    "### 计算相似度"
   ]
  },
  {
   "cell_type": "code",
   "execution_count": 5,
   "metadata": {},
   "outputs": [],
   "source": [
    "# 杰卡德相似系数\n",
    "from sklearn.metrics import jaccard_similarity_score"
   ]
  },
  {
   "cell_type": "code",
   "execution_count": 6,
   "metadata": {},
   "outputs": [
    {
     "name": "stdout",
     "output_type": "stream",
     "text": [
      "0.2\n"
     ]
    }
   ],
   "source": [
    "#计算ItemA ItemB的相似度\n",
    "\n",
    "jaccard_similarity_score_AB = jaccard_similarity_score(df['Item A'],df['Item B'])\n",
    "print(jaccard_similarity_score_AB)\n",
    "\n"
   ]
  },
  {
   "cell_type": "markdown",
   "metadata": {},
   "source": [
    "#### 基于用户"
   ]
  },
  {
   "cell_type": "code",
   "execution_count": 7,
   "metadata": {},
   "outputs": [],
   "source": [
    "#杰卡德距离\n",
    "from sklearn.metrics.pairwise import pairwise_distances"
   ]
  },
  {
   "cell_type": "code",
   "execution_count": 8,
   "metadata": {},
   "outputs": [
    {
     "name": "stdout",
     "output_type": "stream",
     "text": [
      "用户之间的两两相似度：\n",
      "          User1  User2     User3  User4  User5\n",
      "User1  1.000000   0.50  0.666667    0.2    0.4\n",
      "User2  0.500000   1.00  0.250000    0.5    0.4\n",
      "User3  0.666667   0.25  1.000000    0.0    0.5\n",
      "User4  0.200000   0.50  0.000000    1.0    0.4\n",
      "User5  0.400000   0.40  0.500000    0.4    1.0\n"
     ]
    },
    {
     "name": "stderr",
     "output_type": "stream",
     "text": [
      "c:\\users\\struggle6\\appdata\\local\\programs\\python\\python37\\lib\\site-packages\\sklearn\\utils\\validation.py:595: DataConversionWarning: Data with input dtype int64 was converted to bool by check_pairwise_arrays.\n",
      "  warnings.warn(msg, DataConversionWarning)\n"
     ]
    }
   ],
   "source": [
    "#计算用户间相似度,1-相似距离\n",
    "#单个\n",
    "user_similar = 1 - pairwise_distances(df,metric='jaccard')\n",
    "#矩阵\n",
    "user_similar =pd.DataFrame(user_similar,columns=users,index=users)\n",
    "\n",
    "print(\"用户之间的两两相似度：\")\n",
    "print(user_similar)\n"
   ]
  },
  {
   "cell_type": "markdown",
   "metadata": {},
   "source": [
    "#### 基于物品"
   ]
  },
  {
   "cell_type": "code",
   "execution_count": 9,
   "metadata": {},
   "outputs": [
    {
     "name": "stdout",
     "output_type": "stream",
     "text": [
      "物品之间两两相似度:\n",
      "         Item A    Item B  Item C  Item D    Item E\n",
      "Item A    1.00  0.200000    0.75    0.40  0.400000\n",
      "Item B    0.20  1.000000    0.25    0.25  0.666667\n",
      "Item C    0.75  0.250000    1.00    0.20  0.200000\n",
      "Item D    0.40  0.250000    0.20    1.00  0.500000\n",
      "Item E    0.40  0.666667    0.20    0.50  1.000000\n"
     ]
    },
    {
     "name": "stderr",
     "output_type": "stream",
     "text": [
      "c:\\users\\struggle6\\appdata\\local\\programs\\python\\python37\\lib\\site-packages\\sklearn\\utils\\validation.py:595: DataConversionWarning: Data with input dtype int64 was converted to bool by check_pairwise_arrays.\n",
      "  warnings.warn(msg, DataConversionWarning)\n"
     ]
    }
   ],
   "source": [
    "#计算物品间相似度\n",
    "item_similar =1 - pairwise_distances(df.T,metric='jaccard')\n",
    "item_similar =pd.DataFrame(item_similar,columns=items,index=items)\n",
    "print('物品之间两两相似度:\\n',item_similar)\n"
   ]
  },
  {
   "cell_type": "markdown",
   "metadata": {},
   "source": [
    "### 推荐\n",
    "- 有了两两的相似度，接下来就可以筛选TOP-N相似结果，并进行推荐了\n",
    "#### User-Based CF"
   ]
  },
  {
   "cell_type": "code",
   "execution_count": 10,
   "metadata": {},
   "outputs": [],
   "source": [
    "import pandas as pd\n",
    "import numpy as np\n",
    "from pprint import pprint"
   ]
  },
  {
   "cell_type": "code",
   "execution_count": 14,
   "metadata": {},
   "outputs": [],
   "source": [
    "topN_users = {}\n",
    "#遍历每一行数据\n",
    "for i in user_similar.index:\n",
    "    #取出每一列数据,并删除自身,然后排序数据\n",
    "    _df = user_similar.loc[i].drop([i])\n",
    "    #sort_values 按照相似度降序排序\n",
    "    _df_sorted =_df.sort_values(ascending =False)\n",
    "    #从排序之后的结果中切片,取出前两条(相似度最高的两个)\n",
    "    top2 =list(_df_sorted.index[:2])\n",
    "#     top2 =list(_df_sorted.index)\n",
    "    topN_users[i] =top2\n"
   ]
  },
  {
   "cell_type": "code",
   "execution_count": 15,
   "metadata": {
    "scrolled": false
   },
   "outputs": [
    {
     "name": "stdout",
     "output_type": "stream",
     "text": [
      "Top2相似用户:\n",
      " {'User1': ['User3', 'User2'], 'User2': ['User4', 'User1'], 'User3': ['User1', 'User5'], 'User4': ['User2', 'User5'], 'User5': ['User3', 'User4']}\n"
     ]
    }
   ],
   "source": [
    "print('Top2相似用户:\\n',topN_users)"
   ]
  },
  {
   "cell_type": "code",
   "execution_count": 16,
   "metadata": {
    "scrolled": true
   },
   "outputs": [
    {
     "name": "stdout",
     "output_type": "stream",
     "text": [
      "最终推荐结果:\n",
      " {'User1': {'Item E'}, 'User2': {'Item B', 'Item C'}, 'User3': {'Item B', 'Item D', 'Item E'}, 'User4': {'Item A', 'Item C'}, 'User5': {'Item D'}}\n"
     ]
    },
    {
     "name": "stderr",
     "output_type": "stream",
     "text": [
      "c:\\users\\struggle6\\appdata\\local\\programs\\python\\python37\\lib\\site-packages\\ipykernel_launcher.py:8: DeprecationWarning: \n",
      ".ix is deprecated. Please use\n",
      ".loc for label based indexing or\n",
      ".iloc for positional indexing\n",
      "\n",
      "See the documentation here:\n",
      "http://pandas.pydata.org/pandas-docs/stable/indexing.html#ix-indexer-is-deprecated\n",
      "  \n",
      "c:\\users\\struggle6\\appdata\\local\\programs\\python\\python37\\lib\\site-packages\\ipykernel_launcher.py:10: DeprecationWarning: \n",
      ".ix is deprecated. Please use\n",
      ".loc for label based indexing or\n",
      ".iloc for positional indexing\n",
      "\n",
      "See the documentation here:\n",
      "http://pandas.pydata.org/pandas-docs/stable/indexing.html#ix-indexer-is-deprecated\n",
      "  # Remove the CWD from sys.path while we load stuff.\n"
     ]
    }
   ],
   "source": [
    "#推荐字典\n",
    "rs_results ={}\n",
    "#遍历所有的最相似用户\n",
    "for user,sim_users in topN_users.items():\n",
    "    rs_result =set()  #存储推荐结果\n",
    "    for sim_user in sim_users:\n",
    "        #构建初始的推荐结果\n",
    "        rs_result =rs_result.union(set(df.ix[sim_user].replace(0,np.nan).dropna().index))\n",
    "    #过滤掉用户已购物品\n",
    "    rs_result -= set(df.ix[user].replace(0,np.nan).dropna().index)\n",
    "    rs_results[user] =rs_result\n",
    "print('最终推荐结果:\\n',rs_results)\n"
   ]
  },
  {
   "cell_type": "markdown",
   "metadata": {},
   "source": [
    "#### Item-Based CF"
   ]
  },
  {
   "cell_type": "code",
   "execution_count": 18,
   "metadata": {},
   "outputs": [
    {
     "name": "stdout",
     "output_type": "stream",
     "text": [
      "Top2相似物品：\n",
      "{'Item A': ['Item C', 'Item E'],\n",
      " 'Item B': ['Item E', 'Item D'],\n",
      " 'Item C': ['Item A', 'Item B'],\n",
      " 'Item D': ['Item E', 'Item A'],\n",
      " 'Item E': ['Item B', 'Item D']}\n"
     ]
    }
   ],
   "source": [
    "topN_items = {}\n",
    "# 遍历每一行数据\n",
    "for i in item_similar.index:\n",
    "    # 取出每一列数据，并删除自身，然后排序数据\n",
    "    _df = item_similar.loc[i].drop([i])\n",
    "    _df_sorted = _df.sort_values(ascending=False)\n",
    "\n",
    "    top2 = list(_df_sorted.index[:2])\n",
    "    topN_items[i] = top2\n",
    "\n",
    "print(\"Top2相似物品：\")\n",
    "pprint(topN_items)"
   ]
  },
  {
   "cell_type": "code",
   "execution_count": 19,
   "metadata": {},
   "outputs": [
    {
     "name": "stdout",
     "output_type": "stream",
     "text": [
      "最终推荐结果：\n",
      "{'User1': {'Item B', 'Item E'},\n",
      " 'User2': {'Item B', 'Item C'},\n",
      " 'User3': {'Item B', 'Item E'},\n",
      " 'User4': {'Item A'},\n",
      " 'User5': {'Item D'}}\n"
     ]
    },
    {
     "name": "stderr",
     "output_type": "stream",
     "text": [
      "c:\\users\\struggle6\\appdata\\local\\programs\\python\\python37\\lib\\site-packages\\ipykernel_launcher.py:5: DeprecationWarning: \n",
      ".ix is deprecated. Please use\n",
      ".loc for label based indexing or\n",
      ".iloc for positional indexing\n",
      "\n",
      "See the documentation here:\n",
      "http://pandas.pydata.org/pandas-docs/stable/indexing.html#ix-indexer-is-deprecated\n",
      "  \"\"\"\n",
      "c:\\users\\struggle6\\appdata\\local\\programs\\python\\python37\\lib\\site-packages\\ipykernel_launcher.py:9: DeprecationWarning: \n",
      ".ix is deprecated. Please use\n",
      ".loc for label based indexing or\n",
      ".iloc for positional indexing\n",
      "\n",
      "See the documentation here:\n",
      "http://pandas.pydata.org/pandas-docs/stable/indexing.html#ix-indexer-is-deprecated\n",
      "  if __name__ == '__main__':\n"
     ]
    }
   ],
   "source": [
    "rs_results = {}\n",
    "# 构建推荐结果\n",
    "for user in df.index:    # 遍历所有用户\n",
    "    rs_result = set()\n",
    "    for item in df.ix[user].replace(0,np.nan).dropna().index:   # 取出每个用户当前已购物品列表\n",
    "        # 根据每个物品找出最相似的TOP-N物品，构建初始推荐结果\n",
    "        rs_result = rs_result.union(topN_items[item])\n",
    "    # 过滤掉用户已购的物品\n",
    "    rs_result -= set(df.ix[user].replace(0,np.nan).dropna().index)\n",
    "    # 添加到结果中\n",
    "    rs_results[user] = rs_result\n",
    "\n",
    "print(\"最终推荐结果：\")\n",
    "pprint(rs_results)"
   ]
  },
  {
   "cell_type": "code",
   "execution_count": null,
   "metadata": {},
   "outputs": [],
   "source": []
  },
  {
   "cell_type": "code",
   "execution_count": null,
   "metadata": {},
   "outputs": [],
   "source": []
  },
  {
   "cell_type": "code",
   "execution_count": null,
   "metadata": {},
   "outputs": [],
   "source": []
  }
 ],
 "metadata": {
  "kernelspec": {
   "display_name": "Python 3",
   "language": "python",
   "name": "python3"
  },
  "language_info": {
   "codemirror_mode": {
    "name": "ipython",
    "version": 3
   },
   "file_extension": ".py",
   "mimetype": "text/x-python",
   "name": "python",
   "nbconvert_exporter": "python",
   "pygments_lexer": "ipython3",
   "version": "3.7.0"
  },
  "toc": {
   "base_numbering": 1,
   "nav_menu": {},
   "number_sections": true,
   "sideBar": true,
   "skip_h1_title": false,
   "title_cell": "Table of Contents",
   "title_sidebar": "Contents",
   "toc_cell": false,
   "toc_position": {
    "height": "calc(100% - 180px)",
    "left": "10px",
    "top": "150px",
    "width": "222.173px"
   },
   "toc_section_display": true,
   "toc_window_display": true
  }
 },
 "nbformat": 4,
 "nbformat_minor": 2
}
