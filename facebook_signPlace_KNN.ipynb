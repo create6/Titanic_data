{
 "cells": [
  {
   "cell_type": "markdown",
   "metadata": {},
   "source": [
    "### 预测facebook签到位置"
   ]
  },
  {
   "cell_type": "code",
   "execution_count": 9,
   "metadata": {},
   "outputs": [],
   "source": [
    "import pandas as pd\n",
    "from sklearn.model_selection import train_test_split,GridSearchCV\n",
    "from sklearn.preprocessing import StandardScaler\n",
    "from sklearn.neighbors import KNeighborsClassifier"
   ]
  },
  {
   "cell_type": "code",
   "execution_count": 5,
   "metadata": {},
   "outputs": [
    {
     "name": "stdout",
     "output_type": "stream",
     "text": [
      "   row_id       x       y  accuracy    time    place_id\n",
      "0       0  0.7941  9.0809        54  470702  8523065625\n",
      "1       1  5.9567  4.7968        13  186555  1757726713\n",
      "2       2  8.3078  7.0407        74  322648  1137537235\n",
      "3       3  7.3665  2.5165        65  704587  6567393236\n",
      "4       4  4.0961  1.1307        31  472130  7440663949\n"
     ]
    }
   ],
   "source": [
    "facebook = pd.read_csv(\"D:/003_IT/FBlocation/train.csv\")\n",
    "print(facebook.head())\n"
   ]
  },
  {
   "cell_type": "code",
   "execution_count": 14,
   "metadata": {},
   "outputs": [
    {
     "name": "stderr",
     "output_type": "stream",
     "text": [
      "c:\\users\\struggle6\\appdata\\local\\programs\\python\\python37\\lib\\site-packages\\ipykernel_launcher.py:6: SettingWithCopyWarning: \n",
      "A value is trying to be set on a copy of a slice from a DataFrame.\n",
      "Try using .loc[row_indexer,col_indexer] = value instead\n",
      "\n",
      "See the caveats in the documentation: http://pandas.pydata.org/pandas-docs/stable/indexing.html#indexing-view-versus-copy\n",
      "  \n",
      "c:\\users\\struggle6\\appdata\\local\\programs\\python\\python37\\lib\\site-packages\\ipykernel_launcher.py:7: SettingWithCopyWarning: \n",
      "A value is trying to be set on a copy of a slice from a DataFrame.\n",
      "Try using .loc[row_indexer,col_indexer] = value instead\n",
      "\n",
      "See the caveats in the documentation: http://pandas.pydata.org/pandas-docs/stable/indexing.html#indexing-view-versus-copy\n",
      "  import sys\n",
      "c:\\users\\struggle6\\appdata\\local\\programs\\python\\python37\\lib\\site-packages\\ipykernel_launcher.py:8: SettingWithCopyWarning: \n",
      "A value is trying to be set on a copy of a slice from a DataFrame.\n",
      "Try using .loc[row_indexer,col_indexer] = value instead\n",
      "\n",
      "See the caveats in the documentation: http://pandas.pydata.org/pandas-docs/stable/indexing.html#indexing-view-versus-copy\n",
      "  \n"
     ]
    }
   ],
   "source": [
    "facebook_data=facebook.query('x>2.0 & x<2.5 & y>2.0 & y <2.5')\n",
    "#时间转换\n",
    "date_time = pd.to_datetime(facebook_data['time'],unit='s')\n",
    "date_time =pd.DatetimeIndex(date_time)\n",
    "#添加时间特征的列\n",
    "facebook_data['day']=date_time.day\n",
    "facebook_data['weekday']=date_time.weekday\n",
    "facebook_data['hour']=date_time.hour\n",
    "\n",
    "#去掉签到位置少的地方\n",
    "\n",
    "#统计每一个位置签到数量\n",
    "place_counts = facebook_data.groupby('place_id').count()\n",
    "#选择签到位置大于3次的地方\n",
    "place_counts=place_counts[place_counts['row_id']>3]\n",
    "\n",
    "#从数据中选择签到位置大于3的位置\n",
    "facebook_data =facebook_data[facebook_data['place_id'].isin(place_counts.index)]\n",
    "\n",
    "#确定特征值和目标值\n",
    "x =facebook_data[['x','y','accuracy','day','weekday','hour']]\n",
    "y =facebook_data['place_id']\n",
    "#分割数据集\n",
    "x_train,x_test,y_train,y_test=train_test_split(x,y,test_size=0.3,random_state=8) \n",
    "\n",
    "\n"
   ]
  },
  {
   "cell_type": "code",
   "execution_count": 15,
   "metadata": {},
   "outputs": [
    {
     "name": "stderr",
     "output_type": "stream",
     "text": [
      "c:\\users\\struggle6\\appdata\\local\\programs\\python\\python37\\lib\\site-packages\\sklearn\\preprocessing\\data.py:645: DataConversionWarning: Data with input dtype int64, float64 were all converted to float64 by StandardScaler.\n",
      "  return self.partial_fit(X, y)\n",
      "c:\\users\\struggle6\\appdata\\local\\programs\\python\\python37\\lib\\site-packages\\sklearn\\base.py:464: DataConversionWarning: Data with input dtype int64, float64 were all converted to float64 by StandardScaler.\n",
      "  return self.fit(X, **fit_params).transform(X)\n",
      "c:\\users\\struggle6\\appdata\\local\\programs\\python\\python37\\lib\\site-packages\\sklearn\\preprocessing\\data.py:645: DataConversionWarning: Data with input dtype int64, float64 were all converted to float64 by StandardScaler.\n",
      "  return self.partial_fit(X, y)\n",
      "c:\\users\\struggle6\\appdata\\local\\programs\\python\\python37\\lib\\site-packages\\sklearn\\base.py:464: DataConversionWarning: Data with input dtype int64, float64 were all converted to float64 by StandardScaler.\n",
      "  return self.fit(X, **fit_params).transform(X)\n",
      "c:\\users\\struggle6\\appdata\\local\\programs\\python\\python37\\lib\\site-packages\\sklearn\\model_selection\\_split.py:652: Warning: The least populated class in y has only 1 members, which is too few. The minimum number of members in any class cannot be less than n_splits=5.\n",
      "  % (min_groups, self.n_splits)), Warning)\n"
     ]
    },
    {
     "name": "stdout",
     "output_type": "stream",
     "text": [
      "准确率: 0.35832531280076996\n",
      "交叉验证最好分数: 0.3537868162692847\n",
      "交叉验证最好的模型: KNeighborsClassifier(algorithm='auto', leaf_size=30, metric='minkowski',\n",
      "           metric_params=None, n_jobs=None, n_neighbors=5, p=2,\n",
      "           weights='uniform')\n",
      "交叉验证的结果:\n",
      " {'mean_fit_time': array([0.0971561 , 0.06995711, 0.07115345, 0.07135506]), 'std_fit_time': array([0.02997233, 0.00909344, 0.01557926, 0.0107372 ]), 'mean_score_time': array([0.84228096, 0.84707961, 0.86246977, 0.99029398]), 'std_score_time': array([0.05086247, 0.12299685, 0.03593845, 0.26202955]), 'param_n_neighbors': masked_array(data=[3, 5, 7, 9],\n",
      "             mask=[False, False, False, False],\n",
      "       fill_value='?',\n",
      "            dtype=object), 'params': [{'n_neighbors': 3}, {'n_neighbors': 5}, {'n_neighbors': 7}, {'n_neighbors': 9}], 'split0_test_score': array([0.33038289, 0.34281452, 0.33843859, 0.33814023]), 'split1_test_score': array([0.33848954, 0.34880194, 0.34607219, 0.34121929]), 'split2_test_score': array([0.33888717, 0.35236038, 0.35277178, 0.34464671]), 'split3_test_score': array([0.34521556, 0.3617245 , 0.36014721, 0.35047319]), 'split4_test_score': array([0.35196131, 0.36432026, 0.36120365, 0.35314347]), 'mean_test_score': array([0.34079284, 0.35378682, 0.3514974 , 0.34537167]), 'std_test_score': array([0.00721528, 0.00800611, 0.00862862, 0.00558255]), 'rank_test_score': array([4, 1, 2, 3]), 'split0_train_score': array([0.6073278 , 0.54130995, 0.50605012, 0.47461552]), 'split1_train_score': array([0.60575752, 0.53820641, 0.49962428, 0.47257275]), 'split2_train_score': array([0.60805965, 0.53896958, 0.50179304, 0.47186605]), 'split3_train_score': array([0.60368451, 0.53692205, 0.50115462, 0.47128855]), 'split4_train_score': array([0.60348656, 0.53602695, 0.4980219 , 0.46846525]), 'mean_train_score': array([0.60566321, 0.53828699, 0.50132879, 0.47176162]), 'std_train_score': array([0.00185341, 0.00182107, 0.00269732, 0.00199517])}\n"
     ]
    }
   ],
   "source": [
    "#特征工程(标准化)\n",
    "transfer = StandardScaler()\n",
    "x_train =transfer.fit_transform(x_train)\n",
    "x_test = transfer.fit_transform(x_test)\n",
    "\n",
    "#机器学习 KNN+GridSearchCV\n",
    "estimator =KNeighborsClassifier()\n",
    "\n",
    "\n",
    "#网格搜索和交叉验证进行参数调优\n",
    "#超参数数字典\n",
    "param_grid ={'n_neighbors':[3,5,7,9]}\n",
    "estimator=GridSearchCV(estimator,param_grid=param_grid,cv=5)\n",
    "\n",
    "#学习:训练集特征值,训练集目标值\n",
    "estimator.fit(x_train,y_train)\n",
    "#模型评估\n",
    "#使用模型对测试集进行预测,参数为测试集的特征值,返回为预测目标值\n",
    "y_pre =estimator.predict(x_test)\n",
    "\n",
    "\n",
    "#准确率\n",
    "score =estimator.score(x_test,y_test)\n",
    "print('准确率:',score)\n",
    "#风格搜索与交叉验证结果\n",
    "print('交叉验证最好分数:',estimator.best_score_)\n",
    "print('交叉验证最好的模型:',estimator.best_estimator_) #最佳模型与老师的不同\n",
    "print('交叉验证的结果:\\n',estimator.cv_results_)"
   ]
  },
  {
   "cell_type": "code",
   "execution_count": null,
   "metadata": {},
   "outputs": [],
   "source": []
  },
  {
   "cell_type": "code",
   "execution_count": null,
   "metadata": {},
   "outputs": [],
   "source": []
  },
  {
   "cell_type": "code",
   "execution_count": null,
   "metadata": {},
   "outputs": [],
   "source": []
  }
 ],
 "metadata": {
  "kernelspec": {
   "display_name": "Python 3",
   "language": "python",
   "name": "python3"
  },
  "language_info": {
   "codemirror_mode": {
    "name": "ipython",
    "version": 3
   },
   "file_extension": ".py",
   "mimetype": "text/x-python",
   "name": "python",
   "nbconvert_exporter": "python",
   "pygments_lexer": "ipython3",
   "version": "3.7.0"
  },
  "toc": {
   "base_numbering": 1,
   "nav_menu": {},
   "number_sections": true,
   "sideBar": true,
   "skip_h1_title": false,
   "title_cell": "Table of Contents",
   "title_sidebar": "Contents",
   "toc_cell": false,
   "toc_position": {},
   "toc_section_display": true,
   "toc_window_display": false
  }
 },
 "nbformat": 4,
 "nbformat_minor": 2
}
