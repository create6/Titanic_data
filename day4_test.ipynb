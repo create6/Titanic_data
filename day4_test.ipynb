{
 "cells": [
  {
   "cell_type": "code",
   "execution_count": 12,
   "metadata": {},
   "outputs": [
    {
     "name": "stdout",
     "output_type": "stream",
     "text": [
      "          A    B         C    D\n",
      "0  5.000000  3.0  4.666667  4.0\n",
      "1  4.666667  2.0  4.000000  3.0\n",
      "2  4.000000  3.0  8.000000  5.0\n",
      "3  5.000000  4.0  2.000000  4.0\n"
     ]
    }
   ],
   "source": [
    "import pandas as pd\n",
    "import numpy as np\n",
    "data=pd.DataFrame({\"A\":[5.0,None,4,5.0],\n",
    "             \"B\":[3.0,2.0,3,4.0],\n",
    "             \"C\":[None,4.0,8,2.0],\n",
    "             \"D\":[4.0,3.0,5,None]})\n",
    "for i in data.columns:\n",
    "    if np.any(pd.isnull(data[i])) == True:\n",
    "#         print(i)\n",
    "        data[i].fillna(data[i].mean(),inplace=True)\n",
    "print(data)"
   ]
  },
  {
   "cell_type": "code",
   "execution_count": null,
   "metadata": {},
   "outputs": [],
   "source": [
    "# 、读取scores.txt文件中的数据, 获取所有同学语文成绩最低的1次考试成绩 (ps:如果读取不成成功,可以把如下内容复制到txt中,进行使用) \n",
    "# chinese english math name test"
   ]
  },
  {
   "cell_type": "code",
   "execution_count": 22,
   "metadata": {},
   "outputs": [
    {
     "name": "stdout",
     "output_type": "stream",
     "text": [
      "    chinese  english  math name test\n",
      "0        75       69    36   张三    一\n",
      "1        68       85    87   李四    一\n",
      "2        54       42    59   王五    一\n",
      "3        78       60    70   赵六    一\n",
      "4        55       57    63   李四    二\n",
      "5        59       35    92   王五    二\n",
      "6        80       88    85   张三    二\n",
      "7        56       80    90   赵六    二\n",
      "8        45       63    92   王五    三\n",
      "9        61       53    76   赵六    三\n",
      "10       70       80    75   李四    三\n",
      "11       66       76    46   张三    三\n",
      "         chinese  english  math name test\n",
      "name                                     \n",
      "张三   11       66       76    46   张三    三\n",
      "李四   4        55       57    63   李四    二\n",
      "王五   8        45       63    92   王五    三\n",
      "赵六   7        56       80    90   赵六    二\n"
     ]
    }
   ],
   "source": [
    "import pandas as pd\n",
    "import numpy as np\n",
    "\n",
    "data02 = pd.read_csv('./scores.txt',sep='\\s+') # 该文本中的分割符既有空格又有制表符（‘/t’），sep参数用‘/s+’，可以匹配任何空格\n",
    "print(data02)\n",
    "#定义函数获取按指定列升序排列的前几条数据\n",
    "def top(x,n=1,column='chinese'):\n",
    "    return x.sort_values(by=column)[:n]\n",
    "#传参并调用\n",
    "rs =data02.groupby('name').apply(top)\n",
    "# rs =data02.groupby('name')\n",
    "print(rs)"
   ]
  },
  {
   "cell_type": "markdown",
   "metadata": {},
   "source": [
    "### 归一化"
   ]
  },
  {
   "cell_type": "code",
   "execution_count": 33,
   "metadata": {},
   "outputs": [
    {
     "name": "stderr",
     "output_type": "stream",
     "text": [
      "c:\\users\\struggle6\\appdata\\local\\programs\\python\\python37\\lib\\site-packages\\sklearn\\preprocessing\\data.py:334: DataConversionWarning: Data with input dtype int64, float64 were all converted to float64 by MinMaxScaler.\n",
      "  return self.partial_fit(X, y)\n"
     ]
    },
    {
     "data": {
      "text/plain": [
       "array([[0.44832535, 0.39805139, 0.56233353],\n",
       "       [0.15873259, 0.34195467, 0.98724416],\n",
       "       [0.28542943, 0.06892523, 0.47449629],\n",
       "       ...,\n",
       "       [0.29115949, 0.50910294, 0.51079493],\n",
       "       [0.52711097, 0.43665451, 0.4290048 ],\n",
       "       [0.47940793, 0.3768091 , 0.78571804]])"
      ]
     },
     "execution_count": 33,
     "metadata": {},
     "output_type": "execute_result"
    }
   ],
   "source": [
    "import pandas as pd\n",
    "from sklearn.preprocessing import MinMaxScaler\n",
    "#1,加载数据集\n",
    "dating = pd.read_csv('./dating.txt') #milage\tLiters\tConsumtime\ttarget\n",
    "#获取特征值\n",
    "x=dating[['milage','Liters','Consumtime']]\n",
    "#归一化\n",
    "#创建归一化转换器\n",
    "transfer =MinMaxScaler()\n",
    "#调用方法对数据进行归一化处理\n",
    "# x = transfer.fit_transform(x)\n",
    "transfer.fit(x)\n",
    "x =transfer.transform(x)\n",
    "\n"
   ]
  },
  {
   "cell_type": "code",
   "execution_count": null,
   "metadata": {},
   "outputs": [],
   "source": []
  },
  {
   "cell_type": "code",
   "execution_count": null,
   "metadata": {},
   "outputs": [],
   "source": []
  },
  {
   "cell_type": "code",
   "execution_count": null,
   "metadata": {},
   "outputs": [],
   "source": []
  },
  {
   "cell_type": "code",
   "execution_count": null,
   "metadata": {},
   "outputs": [],
   "source": []
  }
 ],
 "metadata": {
  "kernelspec": {
   "display_name": "Python 3",
   "language": "python",
   "name": "python3"
  },
  "language_info": {
   "codemirror_mode": {
    "name": "ipython",
    "version": 3
   },
   "file_extension": ".py",
   "mimetype": "text/x-python",
   "name": "python",
   "nbconvert_exporter": "python",
   "pygments_lexer": "ipython3",
   "version": "3.7.0"
  },
  "toc": {
   "base_numbering": 1,
   "nav_menu": {},
   "number_sections": true,
   "sideBar": true,
   "skip_h1_title": false,
   "title_cell": "Table of Contents",
   "title_sidebar": "Contents",
   "toc_cell": false,
   "toc_position": {},
   "toc_section_display": true,
   "toc_window_display": false
  }
 },
 "nbformat": 4,
 "nbformat_minor": 2
}
